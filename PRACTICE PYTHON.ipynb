{
 "cells": [
  {
   "cell_type": "code",
   "execution_count": 1,
   "id": "f1a5be7b",
   "metadata": {},
   "outputs": [
    {
     "name": "stdout",
     "output_type": "stream",
     "text": [
      "deepu\n"
     ]
    }
   ],
   "source": [
    "print(\"deepu\")"
   ]
  },
  {
   "cell_type": "markdown",
   "id": "5b816a9b",
   "metadata": {},
   "source": [
    "### variables"
   ]
  },
  {
   "cell_type": "code",
   "execution_count": 3,
   "id": "1e191b83",
   "metadata": {},
   "outputs": [
    {
     "name": "stdout",
     "output_type": "stream",
     "text": [
      "deepu\n"
     ]
    }
   ],
   "source": [
    "name = \"deepu\"\n",
    "print(name)"
   ]
  },
  {
   "cell_type": "markdown",
   "id": "969fa767",
   "metadata": {},
   "source": [
    "### datatypes"
   ]
  },
  {
   "cell_type": "code",
   "execution_count": 4,
   "id": "865e7a7e",
   "metadata": {},
   "outputs": [
    {
     "name": "stdout",
     "output_type": "stream",
     "text": [
      "100\n"
     ]
    }
   ],
   "source": [
    "a1 = 100\n",
    "print(a1)"
   ]
  },
  {
   "cell_type": "code",
   "execution_count": 5,
   "id": "3ffd597b",
   "metadata": {},
   "outputs": [
    {
     "data": {
      "text/plain": [
       "int"
      ]
     },
     "execution_count": 5,
     "metadata": {},
     "output_type": "execute_result"
    }
   ],
   "source": [
    "type(a1)"
   ]
  },
  {
   "cell_type": "code",
   "execution_count": 6,
   "id": "ba3575c2",
   "metadata": {},
   "outputs": [
    {
     "data": {
      "text/plain": [
       "float"
      ]
     },
     "execution_count": 6,
     "metadata": {},
     "output_type": "execute_result"
    }
   ],
   "source": [
    "a1 = 3.14\n",
    "type(a1)"
   ]
  },
  {
   "cell_type": "code",
   "execution_count": 7,
   "id": "04cd49f1",
   "metadata": {},
   "outputs": [
    {
     "data": {
      "text/plain": [
       "bool"
      ]
     },
     "execution_count": 7,
     "metadata": {},
     "output_type": "execute_result"
    }
   ],
   "source": [
    "a1 = True\n",
    "type(a1)"
   ]
  },
  {
   "cell_type": "code",
   "execution_count": 8,
   "id": "9ffdde11",
   "metadata": {},
   "outputs": [
    {
     "data": {
      "text/plain": [
       "str"
      ]
     },
     "execution_count": 8,
     "metadata": {},
     "output_type": "execute_result"
    }
   ],
   "source": [
    "a1 = \"deepu\"\n",
    "type(a1)"
   ]
  },
  {
   "cell_type": "code",
   "execution_count": 9,
   "id": "277d3fff",
   "metadata": {},
   "outputs": [
    {
     "data": {
      "text/plain": [
       "(3+5j)"
      ]
     },
     "execution_count": 9,
     "metadata": {},
     "output_type": "execute_result"
    }
   ],
   "source": [
    "a1 = 3+5j\n",
    "a1"
   ]
  },
  {
   "cell_type": "code",
   "execution_count": 10,
   "id": "070640c1",
   "metadata": {},
   "outputs": [
    {
     "data": {
      "text/plain": [
       "complex"
      ]
     },
     "execution_count": 10,
     "metadata": {},
     "output_type": "execute_result"
    }
   ],
   "source": [
    "type(a1)"
   ]
  },
  {
   "cell_type": "markdown",
   "id": "082a8a55",
   "metadata": {},
   "source": [
    "### operators"
   ]
  },
  {
   "cell_type": "markdown",
   "id": "5034b9e9",
   "metadata": {},
   "source": [
    "#### arithemetic operators mul(*) div(/) add(+) sub(-)"
   ]
  },
  {
   "cell_type": "code",
   "execution_count": 24,
   "id": "51d8d66b",
   "metadata": {},
   "outputs": [],
   "source": [
    "a = 10\n",
    "b = 20"
   ]
  },
  {
   "cell_type": "code",
   "execution_count": 25,
   "id": "adce22eb",
   "metadata": {},
   "outputs": [
    {
     "data": {
      "text/plain": [
       "30"
      ]
     },
     "execution_count": 25,
     "metadata": {},
     "output_type": "execute_result"
    }
   ],
   "source": [
    "a+b"
   ]
  },
  {
   "cell_type": "code",
   "execution_count": 26,
   "id": "32a2fa01",
   "metadata": {},
   "outputs": [
    {
     "data": {
      "text/plain": [
       "-10"
      ]
     },
     "execution_count": 26,
     "metadata": {},
     "output_type": "execute_result"
    }
   ],
   "source": [
    "a-b"
   ]
  },
  {
   "cell_type": "code",
   "execution_count": 27,
   "id": "b59f037b",
   "metadata": {},
   "outputs": [
    {
     "data": {
      "text/plain": [
       "0.5"
      ]
     },
     "execution_count": 27,
     "metadata": {},
     "output_type": "execute_result"
    }
   ],
   "source": [
    "a*b\n",
    "a/b"
   ]
  },
  {
   "cell_type": "code",
   "execution_count": 28,
   "id": "2664efdd",
   "metadata": {},
   "outputs": [
    {
     "data": {
      "text/plain": [
       "200"
      ]
     },
     "execution_count": 28,
     "metadata": {},
     "output_type": "execute_result"
    }
   ],
   "source": [
    "a*b"
   ]
  },
  {
   "cell_type": "code",
   "execution_count": 29,
   "id": "a8501f50",
   "metadata": {},
   "outputs": [
    {
     "data": {
      "text/plain": [
       "0.5"
      ]
     },
     "execution_count": 29,
     "metadata": {},
     "output_type": "execute_result"
    }
   ],
   "source": [
    "a/b"
   ]
  },
  {
   "cell_type": "markdown",
   "id": "d8541c92",
   "metadata": {},
   "source": [
    "#### relational operators <, >, ==, !="
   ]
  },
  {
   "cell_type": "code",
   "execution_count": 30,
   "id": "b95df02e",
   "metadata": {},
   "outputs": [
    {
     "data": {
      "text/plain": [
       "False"
      ]
     },
     "execution_count": 30,
     "metadata": {},
     "output_type": "execute_result"
    }
   ],
   "source": [
    "a>b"
   ]
  },
  {
   "cell_type": "code",
   "execution_count": 31,
   "id": "a6ec8330",
   "metadata": {},
   "outputs": [
    {
     "data": {
      "text/plain": [
       "True"
      ]
     },
     "execution_count": 31,
     "metadata": {},
     "output_type": "execute_result"
    }
   ],
   "source": [
    "a<b"
   ]
  },
  {
   "cell_type": "code",
   "execution_count": 32,
   "id": "9b3cd2cf",
   "metadata": {},
   "outputs": [
    {
     "data": {
      "text/plain": [
       "False"
      ]
     },
     "execution_count": 32,
     "metadata": {},
     "output_type": "execute_result"
    }
   ],
   "source": [
    "a==b"
   ]
  },
  {
   "cell_type": "code",
   "execution_count": 33,
   "id": "2d381fc2",
   "metadata": {},
   "outputs": [
    {
     "data": {
      "text/plain": [
       "True"
      ]
     },
     "execution_count": 33,
     "metadata": {},
     "output_type": "execute_result"
    }
   ],
   "source": [
    "a!=b"
   ]
  },
  {
   "cell_type": "code",
   "execution_count": 34,
   "id": "ca8541f4",
   "metadata": {},
   "outputs": [
    {
     "data": {
      "text/plain": [
       "False"
      ]
     },
     "execution_count": 34,
     "metadata": {},
     "output_type": "execute_result"
    }
   ],
   "source": [
    "a==b"
   ]
  },
  {
   "cell_type": "markdown",
   "id": "ffa5c6fc",
   "metadata": {},
   "source": [
    "#### logical operators and(&), or(|)"
   ]
  },
  {
   "cell_type": "code",
   "execution_count": 36,
   "id": "22080ec4",
   "metadata": {},
   "outputs": [],
   "source": [
    "a=True\n",
    "b=False"
   ]
  },
  {
   "cell_type": "code",
   "execution_count": 37,
   "id": "a91662c4",
   "metadata": {},
   "outputs": [
    {
     "data": {
      "text/plain": [
       "False"
      ]
     },
     "execution_count": 37,
     "metadata": {},
     "output_type": "execute_result"
    }
   ],
   "source": [
    "a&b"
   ]
  },
  {
   "cell_type": "code",
   "execution_count": 39,
   "id": "e357f060",
   "metadata": {},
   "outputs": [
    {
     "data": {
      "text/plain": [
       "False"
      ]
     },
     "execution_count": 39,
     "metadata": {},
     "output_type": "execute_result"
    }
   ],
   "source": [
    "b&a"
   ]
  },
  {
   "cell_type": "code",
   "execution_count": 40,
   "id": "510e8e48",
   "metadata": {},
   "outputs": [
    {
     "data": {
      "text/plain": [
       "False"
      ]
     },
     "execution_count": 40,
     "metadata": {},
     "output_type": "execute_result"
    }
   ],
   "source": [
    "b&b"
   ]
  },
  {
   "cell_type": "code",
   "execution_count": 41,
   "id": "6d183c52",
   "metadata": {},
   "outputs": [
    {
     "data": {
      "text/plain": [
       "True"
      ]
     },
     "execution_count": 41,
     "metadata": {},
     "output_type": "execute_result"
    }
   ],
   "source": [
    "a&a"
   ]
  },
  {
   "cell_type": "code",
   "execution_count": 42,
   "id": "eed4b10f",
   "metadata": {},
   "outputs": [
    {
     "data": {
      "text/plain": [
       "True"
      ]
     },
     "execution_count": 42,
     "metadata": {},
     "output_type": "execute_result"
    }
   ],
   "source": [
    "a|b"
   ]
  },
  {
   "cell_type": "code",
   "execution_count": 43,
   "id": "d77e41f0",
   "metadata": {},
   "outputs": [
    {
     "data": {
      "text/plain": [
       "True"
      ]
     },
     "execution_count": 43,
     "metadata": {},
     "output_type": "execute_result"
    }
   ],
   "source": [
    "b|a"
   ]
  },
  {
   "cell_type": "code",
   "execution_count": 44,
   "id": "2afc5032",
   "metadata": {},
   "outputs": [
    {
     "data": {
      "text/plain": [
       "True"
      ]
     },
     "execution_count": 44,
     "metadata": {},
     "output_type": "execute_result"
    }
   ],
   "source": [
    "a|a"
   ]
  },
  {
   "cell_type": "code",
   "execution_count": 45,
   "id": "a08c1d4c",
   "metadata": {},
   "outputs": [
    {
     "data": {
      "text/plain": [
       "False"
      ]
     },
     "execution_count": 45,
     "metadata": {},
     "output_type": "execute_result"
    }
   ],
   "source": [
    "b|b"
   ]
  },
  {
   "cell_type": "markdown",
   "id": "73686a00",
   "metadata": {},
   "source": [
    "### python strings"
   ]
  },
  {
   "cell_type": "code",
   "execution_count": 46,
   "id": "78bba33b",
   "metadata": {},
   "outputs": [
    {
     "name": "stdout",
     "output_type": "stream",
     "text": [
      "deepu\n"
     ]
    }
   ],
   "source": [
    "print(\"deepu\")"
   ]
  },
  {
   "cell_type": "code",
   "execution_count": 47,
   "id": "89ad6578",
   "metadata": {},
   "outputs": [
    {
     "name": "stdout",
     "output_type": "stream",
     "text": [
      "'deepu'\n"
     ]
    }
   ],
   "source": [
    "print(\"'deepu'\")"
   ]
  },
  {
   "cell_type": "code",
   "execution_count": 48,
   "id": "cecfb667",
   "metadata": {},
   "outputs": [
    {
     "name": "stdout",
     "output_type": "stream",
     "text": [
      "deepu\n"
     ]
    }
   ],
   "source": [
    "print('deepu')"
   ]
  },
  {
   "cell_type": "code",
   "execution_count": 49,
   "id": "8d88fb6a",
   "metadata": {},
   "outputs": [],
   "source": [
    "s1='deepu'"
   ]
  },
  {
   "cell_type": "code",
   "execution_count": 50,
   "id": "87996df2",
   "metadata": {},
   "outputs": [
    {
     "data": {
      "text/plain": [
       "'deepu'"
      ]
     },
     "execution_count": 50,
     "metadata": {},
     "output_type": "execute_result"
    }
   ],
   "source": [
    "s1"
   ]
  },
  {
   "cell_type": "code",
   "execution_count": 51,
   "id": "6532f78d",
   "metadata": {},
   "outputs": [],
   "source": [
    "s1=\"deepu\""
   ]
  },
  {
   "cell_type": "code",
   "execution_count": 52,
   "id": "1450309a",
   "metadata": {},
   "outputs": [
    {
     "data": {
      "text/plain": [
       "'deepu'"
      ]
     },
     "execution_count": 52,
     "metadata": {},
     "output_type": "execute_result"
    }
   ],
   "source": [
    "s1"
   ]
  },
  {
   "cell_type": "code",
   "execution_count": 54,
   "id": "686fd319",
   "metadata": {},
   "outputs": [],
   "source": [
    "s1='''deepu\n",
    "'''"
   ]
  },
  {
   "cell_type": "code",
   "execution_count": 55,
   "id": "c2fc6e99",
   "metadata": {},
   "outputs": [
    {
     "data": {
      "text/plain": [
       "'deepu\\n'"
      ]
     },
     "execution_count": 55,
     "metadata": {},
     "output_type": "execute_result"
    }
   ],
   "source": [
    "s1"
   ]
  },
  {
   "cell_type": "markdown",
   "id": "67e6c6c0",
   "metadata": {},
   "source": [
    "#### extracting individual characters starts from 0,1,2,3,4 = a,b,c,d,e"
   ]
  },
  {
   "cell_type": "code",
   "execution_count": 56,
   "id": "1783e9f3",
   "metadata": {},
   "outputs": [
    {
     "data": {
      "text/plain": [
       "'deepu\\n'"
      ]
     },
     "execution_count": 56,
     "metadata": {},
     "output_type": "execute_result"
    }
   ],
   "source": [
    "s1"
   ]
  },
  {
   "cell_type": "code",
   "execution_count": 57,
   "id": "55362fdd",
   "metadata": {},
   "outputs": [],
   "source": [
    "s1=\"deepu\""
   ]
  },
  {
   "cell_type": "code",
   "execution_count": 58,
   "id": "7c213f87",
   "metadata": {},
   "outputs": [
    {
     "data": {
      "text/plain": [
       "'e'"
      ]
     },
     "execution_count": 58,
     "metadata": {},
     "output_type": "execute_result"
    }
   ],
   "source": [
    "s1[1]"
   ]
  },
  {
   "cell_type": "code",
   "execution_count": 60,
   "id": "98f0aaf6",
   "metadata": {},
   "outputs": [
    {
     "data": {
      "text/plain": [
       "'u'"
      ]
     },
     "execution_count": 60,
     "metadata": {},
     "output_type": "execute_result"
    }
   ],
   "source": [
    "s1[-1]"
   ]
  },
  {
   "cell_type": "code",
   "execution_count": 61,
   "id": "059e94a2",
   "metadata": {},
   "outputs": [
    {
     "data": {
      "text/plain": [
       "''"
      ]
     },
     "execution_count": 61,
     "metadata": {},
     "output_type": "execute_result"
    }
   ],
   "source": [
    "s1[-1:4]"
   ]
  },
  {
   "cell_type": "code",
   "execution_count": 62,
   "id": "c3686181",
   "metadata": {},
   "outputs": [
    {
     "data": {
      "text/plain": [
       "'deep'"
      ]
     },
     "execution_count": 62,
     "metadata": {},
     "output_type": "execute_result"
    }
   ],
   "source": [
    "s1[0:4]"
   ]
  },
  {
   "cell_type": "markdown",
   "id": "39e36564",
   "metadata": {},
   "source": [
    "#### string functions"
   ]
  },
  {
   "cell_type": "markdown",
   "id": "9651f871",
   "metadata": {},
   "source": [
    "#####  1 length of string"
   ]
  },
  {
   "cell_type": "code",
   "execution_count": 68,
   "id": "f661dd1e",
   "metadata": {},
   "outputs": [],
   "source": [
    "my_string=\"Deepu is Great\""
   ]
  },
  {
   "cell_type": "code",
   "execution_count": 69,
   "id": "8ed6442b",
   "metadata": {},
   "outputs": [
    {
     "data": {
      "text/plain": [
       "str"
      ]
     },
     "execution_count": 69,
     "metadata": {},
     "output_type": "execute_result"
    }
   ],
   "source": [
    "type(s1)"
   ]
  },
  {
   "cell_type": "code",
   "execution_count": 70,
   "id": "29b9bca7",
   "metadata": {},
   "outputs": [
    {
     "data": {
      "text/plain": [
       "'Deepu is Great'"
      ]
     },
     "execution_count": 70,
     "metadata": {},
     "output_type": "execute_result"
    }
   ],
   "source": [
    "my_string"
   ]
  },
  {
   "cell_type": "code",
   "execution_count": 71,
   "id": "9cb17b2a",
   "metadata": {},
   "outputs": [
    {
     "data": {
      "text/plain": [
       "14"
      ]
     },
     "execution_count": 71,
     "metadata": {},
     "output_type": "execute_result"
    }
   ],
   "source": [
    "len(my_string)"
   ]
  },
  {
   "cell_type": "markdown",
   "id": "cfd9e191",
   "metadata": {},
   "source": [
    "##### 2 Lower  and Upper Case"
   ]
  },
  {
   "cell_type": "code",
   "execution_count": 72,
   "id": "ac9f50c2",
   "metadata": {},
   "outputs": [
    {
     "data": {
      "text/plain": [
       "'DEEPU IS GREAT'"
      ]
     },
     "execution_count": 72,
     "metadata": {},
     "output_type": "execute_result"
    }
   ],
   "source": [
    "my_string.upper()"
   ]
  },
  {
   "cell_type": "code",
   "execution_count": 73,
   "id": "d534f8bc",
   "metadata": {},
   "outputs": [
    {
     "data": {
      "text/plain": [
       "'deepu is great'"
      ]
     },
     "execution_count": 73,
     "metadata": {},
     "output_type": "execute_result"
    }
   ],
   "source": [
    "my_string.lower()"
   ]
  },
  {
   "cell_type": "markdown",
   "id": "df7ba082",
   "metadata": {},
   "source": [
    "##### 3 Replacing a Sub String"
   ]
  },
  {
   "cell_type": "code",
   "execution_count": 74,
   "id": "eabf2d78",
   "metadata": {},
   "outputs": [
    {
     "data": {
      "text/plain": [
       "'Deenavachal is Great'"
      ]
     },
     "execution_count": 74,
     "metadata": {},
     "output_type": "execute_result"
    }
   ],
   "source": [
    "my_string.replace('Deepu','Deenavachal')"
   ]
  },
  {
   "cell_type": "markdown",
   "id": "6c424bc4",
   "metadata": {},
   "source": [
    "##### 4 Noof Occurances (COUNT) "
   ]
  },
  {
   "cell_type": "code",
   "execution_count": 75,
   "id": "52e9568e",
   "metadata": {},
   "outputs": [
    {
     "data": {
      "text/plain": [
       "1"
      ]
     },
     "execution_count": 75,
     "metadata": {},
     "output_type": "execute_result"
    }
   ],
   "source": [
    "my_string.count('D')"
   ]
  },
  {
   "cell_type": "code",
   "execution_count": 76,
   "id": "055d7cf0",
   "metadata": {},
   "outputs": [
    {
     "data": {
      "text/plain": [
       "3"
      ]
     },
     "execution_count": 76,
     "metadata": {},
     "output_type": "execute_result"
    }
   ],
   "source": [
    "my_string.count('e')"
   ]
  },
  {
   "cell_type": "code",
   "execution_count": 77,
   "id": "41629c13",
   "metadata": {},
   "outputs": [
    {
     "data": {
      "text/plain": [
       "1"
      ]
     },
     "execution_count": 77,
     "metadata": {},
     "output_type": "execute_result"
    }
   ],
   "source": [
    "my_string.count('is')"
   ]
  },
  {
   "cell_type": "markdown",
   "id": "16d3db6a",
   "metadata": {},
   "source": [
    "##### 5 Index of SubString"
   ]
  },
  {
   "cell_type": "code",
   "execution_count": 78,
   "id": "62885178",
   "metadata": {},
   "outputs": [
    {
     "data": {
      "text/plain": [
       "0"
      ]
     },
     "execution_count": 78,
     "metadata": {},
     "output_type": "execute_result"
    }
   ],
   "source": [
    "my_string.find('D')"
   ]
  },
  {
   "cell_type": "code",
   "execution_count": 79,
   "id": "59b203d0",
   "metadata": {},
   "outputs": [
    {
     "data": {
      "text/plain": [
       "6"
      ]
     },
     "execution_count": 79,
     "metadata": {},
     "output_type": "execute_result"
    }
   ],
   "source": [
    "my_string.find('is')"
   ]
  },
  {
   "cell_type": "code",
   "execution_count": 80,
   "id": "b0ce699f",
   "metadata": {},
   "outputs": [
    {
     "data": {
      "text/plain": [
       "'Deepu is Great'"
      ]
     },
     "execution_count": 80,
     "metadata": {},
     "output_type": "execute_result"
    }
   ],
   "source": [
    "my_string"
   ]
  },
  {
   "cell_type": "markdown",
   "id": "6a62c0e9",
   "metadata": {},
   "source": [
    "##### 6 Splitting a String"
   ]
  },
  {
   "cell_type": "code",
   "execution_count": 81,
   "id": "9aa8b294",
   "metadata": {},
   "outputs": [
    {
     "data": {
      "text/plain": [
       "['Deepu is Great']"
      ]
     },
     "execution_count": 81,
     "metadata": {},
     "output_type": "execute_result"
    }
   ],
   "source": [
    "my_string.split(',')"
   ]
  },
  {
   "cell_type": "markdown",
   "id": "746da6ab",
   "metadata": {},
   "source": [
    "### Tuples"
   ]
  },
  {
   "cell_type": "code",
   "execution_count": 82,
   "id": "85eefe2d",
   "metadata": {},
   "outputs": [],
   "source": [
    "tup1=(1,\"a\",True,2,\"b\",False)"
   ]
  },
  {
   "cell_type": "code",
   "execution_count": 83,
   "id": "39c2e592",
   "metadata": {},
   "outputs": [
    {
     "data": {
      "text/plain": [
       "(1, 'a', True, 2, 'b', False)"
      ]
     },
     "execution_count": 83,
     "metadata": {},
     "output_type": "execute_result"
    }
   ],
   "source": [
    "tup1"
   ]
  },
  {
   "cell_type": "code",
   "execution_count": 84,
   "id": "510b6bf0",
   "metadata": {},
   "outputs": [
    {
     "data": {
      "text/plain": [
       "tuple"
      ]
     },
     "execution_count": 84,
     "metadata": {},
     "output_type": "execute_result"
    }
   ],
   "source": [
    "type(tup1)"
   ]
  },
  {
   "cell_type": "code",
   "execution_count": 86,
   "id": "20961951",
   "metadata": {},
   "outputs": [
    {
     "data": {
      "text/plain": [
       "1"
      ]
     },
     "execution_count": 86,
     "metadata": {},
     "output_type": "execute_result"
    }
   ],
   "source": [
    "tup1[0]"
   ]
  },
  {
   "cell_type": "code",
   "execution_count": 87,
   "id": "32a1daf4",
   "metadata": {},
   "outputs": [
    {
     "data": {
      "text/plain": [
       "False"
      ]
     },
     "execution_count": 87,
     "metadata": {},
     "output_type": "execute_result"
    }
   ],
   "source": [
    "tup1[-1]"
   ]
  },
  {
   "cell_type": "code",
   "execution_count": 88,
   "id": "4d966b7b",
   "metadata": {},
   "outputs": [
    {
     "data": {
      "text/plain": [
       "False"
      ]
     },
     "execution_count": 88,
     "metadata": {},
     "output_type": "execute_result"
    }
   ],
   "source": [
    "tup1[5]"
   ]
  },
  {
   "cell_type": "code",
   "execution_count": 90,
   "id": "e25f15bf",
   "metadata": {},
   "outputs": [
    {
     "data": {
      "text/plain": [
       "(2, 'b')"
      ]
     },
     "execution_count": 90,
     "metadata": {},
     "output_type": "execute_result"
    }
   ],
   "source": [
    "tup1[3:-1]"
   ]
  },
  {
   "cell_type": "markdown",
   "id": "6d8cc443",
   "metadata": {},
   "source": [
    "##### Finding Len of Tuples"
   ]
  },
  {
   "cell_type": "code",
   "execution_count": 91,
   "id": "8e642201",
   "metadata": {},
   "outputs": [
    {
     "data": {
      "text/plain": [
       "6"
      ]
     },
     "execution_count": 91,
     "metadata": {},
     "output_type": "execute_result"
    }
   ],
   "source": [
    "len(tup1)"
   ]
  },
  {
   "cell_type": "markdown",
   "id": "3e185151",
   "metadata": {},
   "source": [
    "##### ConcatenatingTuples"
   ]
  },
  {
   "cell_type": "code",
   "execution_count": 92,
   "id": "9aee2379",
   "metadata": {},
   "outputs": [],
   "source": [
    "tup1=(4,5,6)\n",
    "tup2=(7,8,9)"
   ]
  },
  {
   "cell_type": "code",
   "execution_count": 93,
   "id": "70355c7b",
   "metadata": {},
   "outputs": [
    {
     "data": {
      "text/plain": [
       "(4, 5, 6, 7, 8, 9)"
      ]
     },
     "execution_count": 93,
     "metadata": {},
     "output_type": "execute_result"
    }
   ],
   "source": [
    "tup1+tup2"
   ]
  },
  {
   "cell_type": "code",
   "execution_count": 94,
   "id": "21c89349",
   "metadata": {},
   "outputs": [],
   "source": [
    "tup3=(1,2,3)"
   ]
  },
  {
   "cell_type": "code",
   "execution_count": 95,
   "id": "aca7bcd5",
   "metadata": {},
   "outputs": [
    {
     "data": {
      "text/plain": [
       "(4, 5, 6, 7, 8, 9, 1, 2, 3)"
      ]
     },
     "execution_count": 95,
     "metadata": {},
     "output_type": "execute_result"
    }
   ],
   "source": [
    "tup1+tup2+tup3"
   ]
  },
  {
   "cell_type": "code",
   "execution_count": 96,
   "id": "6f0266fe",
   "metadata": {},
   "outputs": [
    {
     "data": {
      "text/plain": [
       "(1, 2, 3, 4, 5, 6, 7, 8, 9)"
      ]
     },
     "execution_count": 96,
     "metadata": {},
     "output_type": "execute_result"
    }
   ],
   "source": [
    "tup3+tup1+tup2"
   ]
  },
  {
   "cell_type": "markdown",
   "id": "7475881d",
   "metadata": {},
   "source": [
    "##### Repeating Tuple Elements"
   ]
  },
  {
   "cell_type": "code",
   "execution_count": 97,
   "id": "b9e7f8d4",
   "metadata": {},
   "outputs": [],
   "source": [
    "tup1=(1,True,3.14)"
   ]
  },
  {
   "cell_type": "code",
   "execution_count": 98,
   "id": "f8014592",
   "metadata": {},
   "outputs": [
    {
     "data": {
      "text/plain": [
       "(1, True, 3.14, 1, True, 3.14, 1, True, 3.14)"
      ]
     },
     "execution_count": 98,
     "metadata": {},
     "output_type": "execute_result"
    }
   ],
   "source": [
    "tup1*3"
   ]
  },
  {
   "cell_type": "markdown",
   "id": "3342301f",
   "metadata": {},
   "source": [
    "##### Repeating and Concatenating"
   ]
  },
  {
   "cell_type": "code",
   "execution_count": 99,
   "id": "779e065d",
   "metadata": {},
   "outputs": [],
   "source": [
    "tup2=(\"a\",\"b\",\"c\")"
   ]
  },
  {
   "cell_type": "code",
   "execution_count": 100,
   "id": "6e5b830a",
   "metadata": {},
   "outputs": [
    {
     "data": {
      "text/plain": [
       "(1,\n",
       " True,\n",
       " 3.14,\n",
       " 1,\n",
       " True,\n",
       " 3.14,\n",
       " 1,\n",
       " True,\n",
       " 3.14,\n",
       " 1,\n",
       " True,\n",
       " 3.14,\n",
       " 1,\n",
       " True,\n",
       " 3.14,\n",
       " 'a',\n",
       " 'b',\n",
       " 'c')"
      ]
     },
     "execution_count": 100,
     "metadata": {},
     "output_type": "execute_result"
    }
   ],
   "source": [
    "tup1*5+tup2"
   ]
  },
  {
   "cell_type": "markdown",
   "id": "8c3b6cd7",
   "metadata": {},
   "source": [
    "##### min and max"
   ]
  },
  {
   "cell_type": "code",
   "execution_count": 101,
   "id": "29a0325b",
   "metadata": {},
   "outputs": [],
   "source": [
    "tup1=(67,43,1,90,-45,68)"
   ]
  },
  {
   "cell_type": "code",
   "execution_count": 102,
   "id": "7a07083f",
   "metadata": {},
   "outputs": [
    {
     "data": {
      "text/plain": [
       "-45"
      ]
     },
     "execution_count": 102,
     "metadata": {},
     "output_type": "execute_result"
    }
   ],
   "source": [
    "min(tup1)"
   ]
  },
  {
   "cell_type": "code",
   "execution_count": 103,
   "id": "6da313b4",
   "metadata": {},
   "outputs": [
    {
     "data": {
      "text/plain": [
       "90"
      ]
     },
     "execution_count": 103,
     "metadata": {},
     "output_type": "execute_result"
    }
   ],
   "source": [
    "max(tup1)"
   ]
  },
  {
   "cell_type": "markdown",
   "id": "79a3bde8",
   "metadata": {},
   "source": [
    "## List"
   ]
  },
  {
   "cell_type": "code",
   "execution_count": 104,
   "id": "e62b9ad0",
   "metadata": {},
   "outputs": [],
   "source": [
    "l1 = [1,\"deepu\",1.14,True,3+5j]"
   ]
  },
  {
   "cell_type": "code",
   "execution_count": 105,
   "id": "a9ca24b7",
   "metadata": {},
   "outputs": [
    {
     "data": {
      "text/plain": [
       "[1, 'deepu', 1.14, True, (3+5j)]"
      ]
     },
     "execution_count": 105,
     "metadata": {},
     "output_type": "execute_result"
    }
   ],
   "source": [
    "l1"
   ]
  },
  {
   "cell_type": "code",
   "execution_count": 106,
   "id": "813b938e",
   "metadata": {},
   "outputs": [
    {
     "data": {
      "text/plain": [
       "list"
      ]
     },
     "execution_count": 106,
     "metadata": {},
     "output_type": "execute_result"
    }
   ],
   "source": [
    "type(l1)"
   ]
  },
  {
   "cell_type": "markdown",
   "id": "76c4df1f",
   "metadata": {},
   "source": [
    "##### Extracting individual Elements "
   ]
  },
  {
   "cell_type": "code",
   "execution_count": 107,
   "id": "99269f87",
   "metadata": {},
   "outputs": [
    {
     "data": {
      "text/plain": [
       "[1, 'deepu', 1.14, True, (3+5j)]"
      ]
     },
     "execution_count": 107,
     "metadata": {},
     "output_type": "execute_result"
    }
   ],
   "source": [
    "l1"
   ]
  },
  {
   "cell_type": "code",
   "execution_count": 108,
   "id": "dfad060e",
   "metadata": {},
   "outputs": [
    {
     "data": {
      "text/plain": [
       "(3+5j)"
      ]
     },
     "execution_count": 108,
     "metadata": {},
     "output_type": "execute_result"
    }
   ],
   "source": [
    "l1[-1]"
   ]
  },
  {
   "cell_type": "code",
   "execution_count": 109,
   "id": "104dff7a",
   "metadata": {},
   "outputs": [
    {
     "data": {
      "text/plain": [
       "['deepu', 1.14, True]"
      ]
     },
     "execution_count": 109,
     "metadata": {},
     "output_type": "execute_result"
    }
   ],
   "source": [
    "l1[1:4]"
   ]
  },
  {
   "cell_type": "markdown",
   "id": "54b7cd9d",
   "metadata": {},
   "source": [
    "#### Modifying a list"
   ]
  },
  {
   "cell_type": "markdown",
   "id": "c50f4448",
   "metadata": {},
   "source": [
    "##### Changing the Element at 0th Index"
   ]
  },
  {
   "cell_type": "code",
   "execution_count": 110,
   "id": "c2d89f14",
   "metadata": {},
   "outputs": [
    {
     "data": {
      "text/plain": [
       "[1, 'deepu', 1.14, True, (3+5j)]"
      ]
     },
     "execution_count": 110,
     "metadata": {},
     "output_type": "execute_result"
    }
   ],
   "source": [
    "l1"
   ]
  },
  {
   "cell_type": "code",
   "execution_count": 111,
   "id": "5f4eebb7",
   "metadata": {},
   "outputs": [],
   "source": [
    "l1[0]=100"
   ]
  },
  {
   "cell_type": "code",
   "execution_count": 112,
   "id": "be46e1a6",
   "metadata": {},
   "outputs": [
    {
     "data": {
      "text/plain": [
       "[100, 'deepu', 1.14, True, (3+5j)]"
      ]
     },
     "execution_count": 112,
     "metadata": {},
     "output_type": "execute_result"
    }
   ],
   "source": [
    "l1"
   ]
  },
  {
   "cell_type": "markdown",
   "id": "94741058",
   "metadata": {},
   "source": [
    "##### Appending a new element"
   ]
  },
  {
   "cell_type": "code",
   "execution_count": 114,
   "id": "21a40689",
   "metadata": {},
   "outputs": [],
   "source": [
    "l1.append('deepu')"
   ]
  },
  {
   "cell_type": "code",
   "execution_count": 115,
   "id": "cf142215",
   "metadata": {},
   "outputs": [
    {
     "data": {
      "text/plain": [
       "[100, 'deepu', 1.14, True, (3+5j), 'deepu', 'deepu']"
      ]
     },
     "execution_count": 115,
     "metadata": {},
     "output_type": "execute_result"
    }
   ],
   "source": [
    "l1"
   ]
  },
  {
   "cell_type": "markdown",
   "id": "b442f588",
   "metadata": {},
   "source": [
    "##### Popping the Last Element"
   ]
  },
  {
   "cell_type": "code",
   "execution_count": 116,
   "id": "e965328f",
   "metadata": {},
   "outputs": [
    {
     "data": {
      "text/plain": [
       "[100, 'deepu', 1.14, True, (3+5j), 'deepu']"
      ]
     },
     "execution_count": 116,
     "metadata": {},
     "output_type": "execute_result"
    }
   ],
   "source": [
    "l1.pop()\n",
    "l1"
   ]
  },
  {
   "cell_type": "markdown",
   "id": "fc27b222",
   "metadata": {},
   "source": [
    "##### Reversing Elements of a list"
   ]
  },
  {
   "cell_type": "code",
   "execution_count": 118,
   "id": "946f1864",
   "metadata": {},
   "outputs": [
    {
     "data": {
      "text/plain": [
       "[100, 'deepu', 1.14, True, (3+5j), 'deepu']"
      ]
     },
     "execution_count": 118,
     "metadata": {},
     "output_type": "execute_result"
    }
   ],
   "source": [
    "l1.reverse()\n",
    "l1"
   ]
  },
  {
   "cell_type": "markdown",
   "id": "ae0de333",
   "metadata": {},
   "source": [
    "##### Sorting a List"
   ]
  },
  {
   "cell_type": "code",
   "execution_count": 119,
   "id": "6465db57",
   "metadata": {},
   "outputs": [],
   "source": [
    "l1=['at','lion','king','ball','all']"
   ]
  },
  {
   "cell_type": "code",
   "execution_count": 120,
   "id": "abdabb2c",
   "metadata": {},
   "outputs": [
    {
     "data": {
      "text/plain": [
       "['all', 'at', 'ball', 'king', 'lion']"
      ]
     },
     "execution_count": 120,
     "metadata": {},
     "output_type": "execute_result"
    }
   ],
   "source": [
    "l1.sort()\n",
    "l1"
   ]
  },
  {
   "cell_type": "markdown",
   "id": "a7e9f896",
   "metadata": {},
   "source": [
    "##### Inserting element at a specified index"
   ]
  },
  {
   "cell_type": "code",
   "execution_count": 121,
   "id": "d70bc9df",
   "metadata": {
    "scrolled": true
   },
   "outputs": [
    {
     "data": {
      "text/plain": [
       "['deepu', 'all', 'at', 'ball', 'king', 'lion']"
      ]
     },
     "execution_count": 121,
     "metadata": {},
     "output_type": "execute_result"
    }
   ],
   "source": [
    "l1.insert(0,'deepu')\n",
    "l1"
   ]
  },
  {
   "cell_type": "markdown",
   "id": "edb4f8f4",
   "metadata": {},
   "source": [
    "##### Concatenating Lists"
   ]
  },
  {
   "cell_type": "code",
   "execution_count": 122,
   "id": "e88d53bc",
   "metadata": {},
   "outputs": [],
   "source": [
    "l1 = [1,2,3,4,5]\n",
    "l2 = [5,4,3,2,1]"
   ]
  },
  {
   "cell_type": "code",
   "execution_count": 123,
   "id": "eb9c1828",
   "metadata": {},
   "outputs": [
    {
     "data": {
      "text/plain": [
       "[5, 4, 3, 2, 1, 1, 2, 3, 4, 5]"
      ]
     },
     "execution_count": 123,
     "metadata": {},
     "output_type": "execute_result"
    }
   ],
   "source": [
    "l2+l1"
   ]
  },
  {
   "cell_type": "markdown",
   "id": "63f87974",
   "metadata": {},
   "source": [
    "##### Repeating Elements"
   ]
  },
  {
   "cell_type": "code",
   "execution_count": 125,
   "id": "a56cbc7b",
   "metadata": {},
   "outputs": [
    {
     "data": {
      "text/plain": [
       "[1, 2, 3, 4, 5, 1, 2, 3, 4, 5, 1, 2, 3, 4, 5, 1, 2, 3, 4, 5, 1, 2, 3, 4, 5]"
      ]
     },
     "execution_count": 125,
     "metadata": {},
     "output_type": "execute_result"
    }
   ],
   "source": [
    "l1*5"
   ]
  },
  {
   "cell_type": "markdown",
   "id": "cd9e0a7a",
   "metadata": {},
   "source": [
    "### Dictionary"
   ]
  },
  {
   "cell_type": "code",
   "execution_count": 126,
   "id": "9eae9d27",
   "metadata": {},
   "outputs": [],
   "source": [
    "fruit = {'apple':50,'banana':30,'oranges':40,'peaches':100}"
   ]
  },
  {
   "cell_type": "code",
   "execution_count": 127,
   "id": "5bc659b2",
   "metadata": {},
   "outputs": [
    {
     "data": {
      "text/plain": [
       "dict"
      ]
     },
     "execution_count": 127,
     "metadata": {},
     "output_type": "execute_result"
    }
   ],
   "source": [
    "type(fruit)"
   ]
  },
  {
   "cell_type": "markdown",
   "id": "b44f3cb5",
   "metadata": {},
   "source": [
    "##### Extracting Keys"
   ]
  },
  {
   "cell_type": "code",
   "execution_count": 128,
   "id": "763f630c",
   "metadata": {},
   "outputs": [
    {
     "data": {
      "text/plain": [
       "dict_keys(['apple', 'banana', 'oranges', 'peaches'])"
      ]
     },
     "execution_count": 128,
     "metadata": {},
     "output_type": "execute_result"
    }
   ],
   "source": [
    "fruit.keys()"
   ]
  },
  {
   "cell_type": "markdown",
   "id": "ad4d8793",
   "metadata": {},
   "source": [
    "##### Extracting Values"
   ]
  },
  {
   "cell_type": "code",
   "execution_count": 129,
   "id": "c6a2bfb8",
   "metadata": {},
   "outputs": [
    {
     "data": {
      "text/plain": [
       "dict_values([50, 30, 40, 100])"
      ]
     },
     "execution_count": 129,
     "metadata": {},
     "output_type": "execute_result"
    }
   ],
   "source": [
    "fruit.values()"
   ]
  },
  {
   "cell_type": "code",
   "execution_count": 130,
   "id": "9c5b96c4",
   "metadata": {},
   "outputs": [
    {
     "data": {
      "text/plain": [
       "dict_items([('apple', 50), ('banana', 30), ('oranges', 40), ('peaches', 100)])"
      ]
     },
     "execution_count": 130,
     "metadata": {},
     "output_type": "execute_result"
    }
   ],
   "source": [
    "fruit.items()"
   ]
  },
  {
   "cell_type": "markdown",
   "id": "48b084a6",
   "metadata": {},
   "source": [
    "##### Adding a New Element"
   ]
  },
  {
   "cell_type": "code",
   "execution_count": 132,
   "id": "a39684c8",
   "metadata": {},
   "outputs": [
    {
     "data": {
      "text/plain": [
       "{'apple': 50, 'banana': 30, 'oranges': 40, 'peaches': 100, 'mango': 50}"
      ]
     },
     "execution_count": 132,
     "metadata": {},
     "output_type": "execute_result"
    }
   ],
   "source": [
    "fruit['mango']=50\n",
    "fruit"
   ]
  },
  {
   "cell_type": "markdown",
   "id": "168ac80f",
   "metadata": {},
   "source": [
    "##### Changing an Existing Element"
   ]
  },
  {
   "cell_type": "code",
   "execution_count": 133,
   "id": "69d2b149",
   "metadata": {},
   "outputs": [
    {
     "data": {
      "text/plain": [
       "{'apple': 50, 'banana': 30, 'oranges': 40, 'peaches': 100, 'mango': 50}"
      ]
     },
     "execution_count": 133,
     "metadata": {},
     "output_type": "execute_result"
    }
   ],
   "source": [
    "fruit"
   ]
  },
  {
   "cell_type": "code",
   "execution_count": 134,
   "id": "d75071c9",
   "metadata": {},
   "outputs": [
    {
     "data": {
      "text/plain": [
       "{'apple': 1000, 'banana': 30, 'oranges': 40, 'peaches': 100, 'mango': 50}"
      ]
     },
     "execution_count": 134,
     "metadata": {},
     "output_type": "execute_result"
    }
   ],
   "source": [
    "fruit['apple']=1000\n",
    "fruit"
   ]
  },
  {
   "cell_type": "markdown",
   "id": "aeb61ae4",
   "metadata": {},
   "source": [
    "##### Update one Dictionary elements with another "
   ]
  },
  {
   "cell_type": "code",
   "execution_count": 135,
   "id": "c4800078",
   "metadata": {},
   "outputs": [
    {
     "data": {
      "text/plain": [
       "{'apple': 1000, 'banana': 30, 'oranges': 40, 'peaches': 100, 'mango': 50}"
      ]
     },
     "execution_count": 135,
     "metadata": {},
     "output_type": "execute_result"
    }
   ],
   "source": [
    "fruit"
   ]
  },
  {
   "cell_type": "code",
   "execution_count": 136,
   "id": "fe2e18c4",
   "metadata": {},
   "outputs": [],
   "source": [
    "fruit1 = {'apple':50,'banana':10}\n",
    "fruit2 = {'mango':100,'dragonfruit':500}"
   ]
  },
  {
   "cell_type": "code",
   "execution_count": 139,
   "id": "10503ec1",
   "metadata": {},
   "outputs": [
    {
     "data": {
      "text/plain": [
       "{'apple': 50, 'banana': 10, 'mango': 100, 'dragonfruit': 500}"
      ]
     },
     "execution_count": 139,
     "metadata": {},
     "output_type": "execute_result"
    }
   ],
   "source": [
    "fruit1.update(fruit2)\n",
    "fruit1"
   ]
  },
  {
   "cell_type": "markdown",
   "id": "f9d6b6da",
   "metadata": {},
   "source": [
    "##### Popping an Element"
   ]
  },
  {
   "cell_type": "code",
   "execution_count": 140,
   "id": "867514e5",
   "metadata": {},
   "outputs": [
    {
     "data": {
      "text/plain": [
       "100"
      ]
     },
     "execution_count": 140,
     "metadata": {},
     "output_type": "execute_result"
    }
   ],
   "source": [
    "fruit1.pop('mango')\n"
   ]
  },
  {
   "cell_type": "code",
   "execution_count": 141,
   "id": "b89090cc",
   "metadata": {},
   "outputs": [
    {
     "data": {
      "text/plain": [
       "{'apple': 50, 'banana': 10, 'dragonfruit': 500}"
      ]
     },
     "execution_count": 141,
     "metadata": {},
     "output_type": "execute_result"
    }
   ],
   "source": [
    "fruit1"
   ]
  },
  {
   "cell_type": "markdown",
   "id": "ebf6d703",
   "metadata": {},
   "source": [
    "### Set"
   ]
  },
  {
   "cell_type": "code",
   "execution_count": 142,
   "id": "97e5011f",
   "metadata": {},
   "outputs": [],
   "source": [
    "s1 = {1,'deepu','deepu',1}"
   ]
  },
  {
   "cell_type": "code",
   "execution_count": 143,
   "id": "adca481c",
   "metadata": {},
   "outputs": [
    {
     "data": {
      "text/plain": [
       "{1, 'deepu'}"
      ]
     },
     "execution_count": 143,
     "metadata": {},
     "output_type": "execute_result"
    }
   ],
   "source": [
    "s1"
   ]
  },
  {
   "cell_type": "markdown",
   "id": "dd496bfa",
   "metadata": {},
   "source": [
    "##### Adding a New Element"
   ]
  },
  {
   "cell_type": "code",
   "execution_count": 144,
   "id": "7929dba1",
   "metadata": {},
   "outputs": [],
   "source": [
    "s1.add('deenavachal')"
   ]
  },
  {
   "cell_type": "code",
   "execution_count": 145,
   "id": "b5c375fb",
   "metadata": {},
   "outputs": [
    {
     "data": {
      "text/plain": [
       "{1, 'deenavachal', 'deepu'}"
      ]
     },
     "execution_count": 145,
     "metadata": {},
     "output_type": "execute_result"
    }
   ],
   "source": [
    "s1"
   ]
  },
  {
   "cell_type": "markdown",
   "id": "1863e28a",
   "metadata": {},
   "source": [
    "##### Updating Multiple Elements "
   ]
  },
  {
   "cell_type": "code",
   "execution_count": 146,
   "id": "99b1bd9f",
   "metadata": {},
   "outputs": [],
   "source": [
    "s1.update(['abc','jack,3.14'])"
   ]
  },
  {
   "cell_type": "code",
   "execution_count": 147,
   "id": "952010ac",
   "metadata": {},
   "outputs": [
    {
     "data": {
      "text/plain": [
       "{1, 'abc', 'deenavachal', 'deepu', 'jack,3.14'}"
      ]
     },
     "execution_count": 147,
     "metadata": {},
     "output_type": "execute_result"
    }
   ],
   "source": [
    "s1"
   ]
  },
  {
   "cell_type": "markdown",
   "id": "87ef1997",
   "metadata": {},
   "source": [
    "##### Removing an Element"
   ]
  },
  {
   "cell_type": "code",
   "execution_count": 148,
   "id": "a6be703a",
   "metadata": {},
   "outputs": [
    {
     "data": {
      "text/plain": [
       "{1, 'abc', 'deepu', 'jack,3.14'}"
      ]
     },
     "execution_count": 148,
     "metadata": {},
     "output_type": "execute_result"
    }
   ],
   "source": [
    "s1.remove('deenavachal')\n",
    "s1"
   ]
  },
  {
   "cell_type": "markdown",
   "id": "164dcf29",
   "metadata": {},
   "source": [
    "#### Set Functions "
   ]
  },
  {
   "cell_type": "markdown",
   "id": "9f69941a",
   "metadata": {},
   "source": [
    "##### Union Function"
   ]
  },
  {
   "cell_type": "code",
   "execution_count": 149,
   "id": "c4c6acf4",
   "metadata": {},
   "outputs": [],
   "source": [
    "s1 = {1,2,3}\n",
    "s2 = {'a','b','c'}"
   ]
  },
  {
   "cell_type": "code",
   "execution_count": 150,
   "id": "9917432a",
   "metadata": {},
   "outputs": [
    {
     "data": {
      "text/plain": [
       "{1, 2, 3, 'a', 'b', 'c'}"
      ]
     },
     "execution_count": 150,
     "metadata": {},
     "output_type": "execute_result"
    }
   ],
   "source": [
    "s1.union(s2)"
   ]
  },
  {
   "cell_type": "markdown",
   "id": "a9a8e1db",
   "metadata": {},
   "source": [
    "##### Intersection Function"
   ]
  },
  {
   "cell_type": "code",
   "execution_count": 151,
   "id": "d91b3e92",
   "metadata": {},
   "outputs": [],
   "source": [
    "s1 = {1,2,3,4,5}\n",
    "s2 = {3,4,5,6,7}"
   ]
  },
  {
   "cell_type": "code",
   "execution_count": 152,
   "id": "4779ada6",
   "metadata": {},
   "outputs": [
    {
     "data": {
      "text/plain": [
       "{3, 4, 5}"
      ]
     },
     "execution_count": 152,
     "metadata": {},
     "output_type": "execute_result"
    }
   ],
   "source": [
    "s1.intersection(s2)"
   ]
  },
  {
   "cell_type": "markdown",
   "id": "e8ce2bc6",
   "metadata": {},
   "source": [
    "### If "
   ]
  },
  {
   "cell_type": "code",
   "execution_count": 153,
   "id": "45d1f9d6",
   "metadata": {},
   "outputs": [],
   "source": [
    "a = 10\n",
    "b = 20"
   ]
  },
  {
   "cell_type": "code",
   "execution_count": 154,
   "id": "31c3786d",
   "metadata": {},
   "outputs": [],
   "source": [
    "if a>b:\n",
    "    print(\"a is greater than b\")"
   ]
  },
  {
   "cell_type": "code",
   "execution_count": 155,
   "id": "e00b7640",
   "metadata": {
    "scrolled": true
   },
   "outputs": [
    {
     "name": "stdout",
     "output_type": "stream",
     "text": [
      "b is greater than a\n"
     ]
    }
   ],
   "source": [
    "if b>a:\n",
    "    print(\"b is greater than a\")"
   ]
  },
  {
   "cell_type": "markdown",
   "id": "016428bc",
   "metadata": {},
   "source": [
    "### If else"
   ]
  },
  {
   "cell_type": "code",
   "execution_count": 156,
   "id": "154101a7",
   "metadata": {},
   "outputs": [
    {
     "name": "stdout",
     "output_type": "stream",
     "text": [
      "a is not greater than b\n"
     ]
    }
   ],
   "source": [
    "if a>b:\n",
    "    print(\"a is greater than b\")\n",
    "else:\n",
    "    print(\"a is not greater than b\")"
   ]
  },
  {
   "cell_type": "markdown",
   "id": "4f5dd95c",
   "metadata": {},
   "source": [
    "### Elif"
   ]
  },
  {
   "cell_type": "code",
   "execution_count": 157,
   "id": "7b5cf55c",
   "metadata": {},
   "outputs": [],
   "source": [
    "a = 10\n",
    "b = 20\n",
    "c = 30"
   ]
  },
  {
   "cell_type": "code",
   "execution_count": 158,
   "id": "6e06283c",
   "metadata": {},
   "outputs": [
    {
     "name": "stdout",
     "output_type": "stream",
     "text": [
      "c is the greatest\n"
     ]
    }
   ],
   "source": [
    "if (a>b & a>c):\n",
    "    print(\"a is the greatest\")\n",
    "elif (b>a & b>c):\n",
    "    print(\"b is the greatest\")\n",
    "else:\n",
    "    print(\"c is the greatest\")\n",
    "    "
   ]
  },
  {
   "cell_type": "code",
   "execution_count": 159,
   "id": "a2944597",
   "metadata": {},
   "outputs": [],
   "source": [
    "tup1 = (1,2,3,4)"
   ]
  },
  {
   "cell_type": "code",
   "execution_count": 160,
   "id": "e69a0107",
   "metadata": {},
   "outputs": [
    {
     "name": "stdout",
     "output_type": "stream",
     "text": [
      "2 is present in the tuple\n"
     ]
    }
   ],
   "source": [
    "if 2 in tup1:\n",
    "    print(\"2 is present in the tuple\")"
   ]
  },
  {
   "cell_type": "code",
   "execution_count": 162,
   "id": "18203e6e",
   "metadata": {},
   "outputs": [
    {
     "name": "stdout",
     "output_type": "stream",
     "text": [
      "6 is not present in the tuple\n"
     ]
    }
   ],
   "source": [
    "if 6 in tup1:\n",
    "     print(\"6 is present in the tuple\")\n",
    "else:\n",
    "     print(\"6 is not present in the tuple\")"
   ]
  },
  {
   "cell_type": "markdown",
   "id": "c05c7dab",
   "metadata": {},
   "source": [
    "###### If with List"
   ]
  },
  {
   "cell_type": "code",
   "execution_count": 163,
   "id": "6ff731c6",
   "metadata": {},
   "outputs": [],
   "source": [
    "l1 = [1,2,3,4,5]"
   ]
  },
  {
   "cell_type": "code",
   "execution_count": 165,
   "id": "e5a4e9e5",
   "metadata": {},
   "outputs": [],
   "source": [
    "if l1[1] == 2:\n",
    "     l1[1] = l1[1]+100"
   ]
  },
  {
   "cell_type": "code",
   "execution_count": 166,
   "id": "20f0c09d",
   "metadata": {},
   "outputs": [
    {
     "data": {
      "text/plain": [
       "[1, 102, 3, 4, 5]"
      ]
     },
     "execution_count": 166,
     "metadata": {},
     "output_type": "execute_result"
    }
   ],
   "source": [
    "l1"
   ]
  },
  {
   "cell_type": "code",
   "execution_count": 168,
   "id": "f52a6597",
   "metadata": {},
   "outputs": [],
   "source": [
    "if l1[1] == 10:\n",
    "     l1[1] = l1[1]+100\n",
    "else:\n",
    "    l1[4]=l1[4]+500"
   ]
  },
  {
   "cell_type": "code",
   "execution_count": 169,
   "id": "a3fb6876",
   "metadata": {},
   "outputs": [
    {
     "data": {
      "text/plain": [
       "[1, 102, 3, 4, 505]"
      ]
     },
     "execution_count": 169,
     "metadata": {},
     "output_type": "execute_result"
    }
   ],
   "source": [
    "l1"
   ]
  },
  {
   "cell_type": "markdown",
   "id": "425293ea",
   "metadata": {},
   "source": [
    "##### If with Dictionary"
   ]
  },
  {
   "cell_type": "code",
   "execution_count": 171,
   "id": "9b4a289b",
   "metadata": {},
   "outputs": [],
   "source": [
    "d1 = {\"a\":1,\"b\":2,\"c\":3}"
   ]
  },
  {
   "cell_type": "code",
   "execution_count": 172,
   "id": "905a3fe3",
   "metadata": {},
   "outputs": [],
   "source": [
    "if d1[\"b\"]==2:\n",
    "    d1[\"b\"]=d1[\"b\"]+100"
   ]
  },
  {
   "cell_type": "code",
   "execution_count": 173,
   "id": "b8b304d1",
   "metadata": {},
   "outputs": [
    {
     "data": {
      "text/plain": [
       "{'a': 1, 'b': 102, 'c': 3}"
      ]
     },
     "execution_count": 173,
     "metadata": {},
     "output_type": "execute_result"
    }
   ],
   "source": [
    "d1"
   ]
  },
  {
   "cell_type": "markdown",
   "id": "92dbee45",
   "metadata": {},
   "source": [
    "### Loop"
   ]
  },
  {
   "cell_type": "markdown",
   "id": "60795531",
   "metadata": {},
   "source": [
    "##### While"
   ]
  },
  {
   "cell_type": "code",
   "execution_count": 2,
   "id": "a8005bef",
   "metadata": {},
   "outputs": [],
   "source": [
    "i = -1"
   ]
  },
  {
   "cell_type": "code",
   "execution_count": 3,
   "id": "6f47d9d9",
   "metadata": {
    "scrolled": true
   },
   "outputs": [
    {
     "name": "stdout",
     "output_type": "stream",
     "text": [
      "-1\n",
      "0\n",
      "1\n",
      "2\n",
      "3\n",
      "4\n",
      "5\n",
      "6\n",
      "7\n",
      "8\n",
      "9\n",
      "10\n"
     ]
    }
   ],
   "source": [
    "while i<=10:\n",
    "    print(i)\n",
    "    i=i+1\n"
   ]
  },
  {
   "cell_type": "code",
   "execution_count": 4,
   "id": "fbc66d19",
   "metadata": {},
   "outputs": [],
   "source": [
    "i = 1"
   ]
  },
  {
   "cell_type": "code",
   "execution_count": 5,
   "id": "7bea6133",
   "metadata": {},
   "outputs": [],
   "source": [
    "n = 2"
   ]
  },
  {
   "cell_type": "code",
   "execution_count": 6,
   "id": "39710203",
   "metadata": {},
   "outputs": [
    {
     "name": "stdout",
     "output_type": "stream",
     "text": [
      "2  *  1  =  2\n",
      "2  *  2  =  4\n",
      "2  *  3  =  6\n",
      "2  *  4  =  8\n",
      "2  *  5  =  10\n",
      "2  *  6  =  12\n",
      "2  *  7  =  14\n",
      "2  *  8  =  16\n",
      "2  *  9  =  18\n",
      "2  *  10  =  20\n"
     ]
    }
   ],
   "source": [
    "while i<=10:\n",
    "    print(n, \" * \",i, \" = \",n*i)\n",
    "    i=i+1"
   ]
  },
  {
   "cell_type": "code",
   "execution_count": 7,
   "id": "d8f1b8f7",
   "metadata": {},
   "outputs": [],
   "source": [
    "l1 = [1,2,3,4,5]"
   ]
  },
  {
   "cell_type": "code",
   "execution_count": 8,
   "id": "8515c5cf",
   "metadata": {},
   "outputs": [],
   "source": [
    "i = 0"
   ]
  },
  {
   "cell_type": "code",
   "execution_count": 9,
   "id": "d7400d27",
   "metadata": {},
   "outputs": [],
   "source": [
    "while i < len(l1):\n",
    "    l1[i]=l1[i]+100\n",
    "    i=i+1"
   ]
  },
  {
   "cell_type": "code",
   "execution_count": 11,
   "id": "6ed777b7",
   "metadata": {},
   "outputs": [
    {
     "data": {
      "text/plain": [
       "[101, 102, 103, 104, 105]"
      ]
     },
     "execution_count": 11,
     "metadata": {},
     "output_type": "execute_result"
    }
   ],
   "source": [
    "l1"
   ]
  },
  {
   "cell_type": "markdown",
   "id": "8027279a",
   "metadata": {},
   "source": [
    "##### For Loop"
   ]
  },
  {
   "cell_type": "code",
   "execution_count": 12,
   "id": "a3e7cd87",
   "metadata": {},
   "outputs": [],
   "source": [
    "l1 = [\"apple\",\"banana\",\"orange\"]"
   ]
  },
  {
   "cell_type": "code",
   "execution_count": 13,
   "id": "6406a8fe",
   "metadata": {},
   "outputs": [
    {
     "name": "stdout",
     "output_type": "stream",
     "text": [
      "apple\n",
      "banana\n",
      "orange\n"
     ]
    }
   ],
   "source": [
    "for i in l1:\n",
    "    print(i)"
   ]
  },
  {
   "cell_type": "markdown",
   "id": "18dbb483",
   "metadata": {},
   "source": [
    "##### Nested For Loop"
   ]
  },
  {
   "cell_type": "code",
   "execution_count": 14,
   "id": "30f16802",
   "metadata": {},
   "outputs": [],
   "source": [
    "l1 = [\"orange\",\"blue\",\"green\"]\n",
    "l2 = [\"book\",\"chair\",\"phone\"]"
   ]
  },
  {
   "cell_type": "code",
   "execution_count": 17,
   "id": "fae6b728",
   "metadata": {},
   "outputs": [
    {
     "name": "stdout",
     "output_type": "stream",
     "text": [
      "orange book\n",
      "orange chair\n",
      "orange phone\n",
      "blue book\n",
      "blue chair\n",
      "blue phone\n",
      "green book\n",
      "green chair\n",
      "green phone\n"
     ]
    }
   ],
   "source": [
    "for i in l1:\n",
    "    for j in l2:\n",
    "        print(i,j)"
   ]
  },
  {
   "cell_type": "markdown",
   "id": "486d1e06",
   "metadata": {},
   "source": [
    "#### Lambda"
   ]
  },
  {
   "cell_type": "code",
   "execution_count": 1,
   "id": "3304e472",
   "metadata": {},
   "outputs": [
    {
     "name": "stdout",
     "output_type": "stream",
     "text": [
      "343\n"
     ]
    }
   ],
   "source": [
    "g = lambda x:x*x*x\n",
    "print(g(7))"
   ]
  },
  {
   "cell_type": "code",
   "execution_count": 2,
   "id": "19a31eac",
   "metadata": {},
   "outputs": [
    {
     "name": "stdout",
     "output_type": "stream",
     "text": [
      "[10, 14, 44, 194, 108, 124, 1554, 46, 146, 122]\n"
     ]
    }
   ],
   "source": [
    "li = [5,7,22,97,54,62,777,23,73,61]\n",
    "final_list = list(map(lambda x: x*2 , li))\n",
    "print(final_list)"
   ]
  },
  {
   "cell_type": "code",
   "execution_count": 3,
   "id": "6a4ed412",
   "metadata": {},
   "outputs": [
    {
     "name": "stdout",
     "output_type": "stream",
     "text": [
      "193\n"
     ]
    }
   ],
   "source": [
    "from functools import reduce \n",
    "li = [5,8,10,20,50,100]\n",
    "sum = reduce((lambda x, y: x+y), li)\n",
    "print(sum)"
   ]
  },
  {
   "cell_type": "code",
   "execution_count": 4,
   "id": "6324fdc7",
   "metadata": {},
   "outputs": [
    {
     "data": {
      "text/plain": [
       "[5, 8, 10, 20, 50, 100]"
      ]
     },
     "execution_count": 4,
     "metadata": {},
     "output_type": "execute_result"
    }
   ],
   "source": [
    "li"
   ]
  },
  {
   "cell_type": "markdown",
   "id": "ac4e3134",
   "metadata": {},
   "source": [
    "### Creating the First Class"
   ]
  },
  {
   "cell_type": "code",
   "execution_count": 5,
   "id": "a542ff43",
   "metadata": {},
   "outputs": [],
   "source": [
    "# phone class\n",
    "class Phone:\n",
    "    \n",
    "    def make_call(self):\n",
    "        print(\"let's make a phone call\")\n",
    "    def play_game(self):\n",
    "        print(\"let's play a game\")\n",
    "        "
   ]
  },
  {
   "cell_type": "code",
   "execution_count": 6,
   "id": "e2cb9947",
   "metadata": {},
   "outputs": [],
   "source": [
    "# p1\n",
    "p1 = Phone()"
   ]
  },
  {
   "cell_type": "code",
   "execution_count": 7,
   "id": "78e4f3a0",
   "metadata": {},
   "outputs": [
    {
     "name": "stdout",
     "output_type": "stream",
     "text": [
      "let's make a phone call\n"
     ]
    }
   ],
   "source": [
    "# methods\n",
    "p1.make_call()"
   ]
  },
  {
   "cell_type": "code",
   "execution_count": 8,
   "id": "f797e096",
   "metadata": {
    "scrolled": true
   },
   "outputs": [
    {
     "name": "stdout",
     "output_type": "stream",
     "text": [
      "let's play a game\n"
     ]
    }
   ],
   "source": [
    "p1.play_game()"
   ]
  },
  {
   "cell_type": "markdown",
   "id": "68a9725c",
   "metadata": {},
   "source": [
    "##### Adding parameters to the Class"
   ]
  },
  {
   "cell_type": "code",
   "execution_count": 14,
   "id": "68f6d4c7",
   "metadata": {},
   "outputs": [],
   "source": [
    "  # Setting and Returning the attribute values\n",
    "    \n",
    "class Phone:\n",
    "    \n",
    "    def set_color(self,color):\n",
    "        self.color=color\n",
    "        \n",
    "    def set_cost(self,cost):\n",
    "        self.cost=cost\n",
    "        \n",
    "    def show_color(self):\n",
    "        return self.color\n",
    "    \n",
    "    def show_cost(self):\n",
    "        return self.cost\n",
    "    \n",
    "    def playing_game(self):\n",
    "        print(\"playing a game\")\n",
    "        \n",
    "    def make_call(self):\n",
    "        print(\"making a call\")"
   ]
  },
  {
   "cell_type": "code",
   "execution_count": 16,
   "id": "25caafa4",
   "metadata": {},
   "outputs": [],
   "source": [
    "p2 = Phone()"
   ]
  },
  {
   "cell_type": "code",
   "execution_count": 17,
   "id": "63e972b7",
   "metadata": {},
   "outputs": [],
   "source": [
    "p2.set_color('blue')"
   ]
  },
  {
   "cell_type": "code",
   "execution_count": 18,
   "id": "07fdb759",
   "metadata": {},
   "outputs": [],
   "source": [
    "p2.set_cost(500)"
   ]
  },
  {
   "cell_type": "code",
   "execution_count": 19,
   "id": "d4f1577d",
   "metadata": {},
   "outputs": [
    {
     "data": {
      "text/plain": [
       "'blue'"
      ]
     },
     "execution_count": 19,
     "metadata": {},
     "output_type": "execute_result"
    }
   ],
   "source": [
    "p2.show_color()"
   ]
  },
  {
   "cell_type": "code",
   "execution_count": 20,
   "id": "8a06e05a",
   "metadata": {},
   "outputs": [
    {
     "data": {
      "text/plain": [
       "500"
      ]
     },
     "execution_count": 20,
     "metadata": {},
     "output_type": "execute_result"
    }
   ],
   "source": [
    "p2.show_cost()"
   ]
  },
  {
   "cell_type": "code",
   "execution_count": 22,
   "id": "7998bdae",
   "metadata": {},
   "outputs": [
    {
     "name": "stdout",
     "output_type": "stream",
     "text": [
      "playing a game\n"
     ]
    }
   ],
   "source": [
    "p2.playing_game()"
   ]
  },
  {
   "cell_type": "code",
   "execution_count": 23,
   "id": "076ed5bf",
   "metadata": {},
   "outputs": [
    {
     "name": "stdout",
     "output_type": "stream",
     "text": [
      "making a call\n"
     ]
    }
   ],
   "source": [
    "p2.make_call()"
   ]
  },
  {
   "cell_type": "markdown",
   "id": "6b9ccd60",
   "metadata": {},
   "source": [
    "##### Creating a Class with Constructor"
   ]
  },
  {
   "cell_type": "code",
   "execution_count": 25,
   "id": "2fc1e262",
   "metadata": {},
   "outputs": [],
   "source": [
    "# init\n",
    "\n",
    "class Employee:\n",
    "    def __init__(self,name,age,salary,gender):\n",
    "        \n",
    "        self.name = name\n",
    "        self.age = age\n",
    "        self.salary = salary\n",
    "        self.gender = gender\n",
    "        \n",
    "    def employee_details(self):\n",
    "        print(\"Name of employee is\",self.name)\n",
    "        print(\"Age of employee is\",self.age)\n",
    "        print(\"Salary of employee is\",self.salary)\n",
    "        print(\"Gender of employee is\",self.gender)"
   ]
  },
  {
   "cell_type": "code",
   "execution_count": 28,
   "id": "1ce74306",
   "metadata": {},
   "outputs": [],
   "source": [
    "# object\n",
    "\n",
    "e1 = Employee('Deenavachal',21,85000,'Male')"
   ]
  },
  {
   "cell_type": "code",
   "execution_count": 29,
   "id": "13070d87",
   "metadata": {},
   "outputs": [
    {
     "name": "stdout",
     "output_type": "stream",
     "text": [
      "Name of employee is Deenavachal\n",
      "Age of employee is 21\n",
      "Salary of employee is 85000\n",
      "Gender of employee is Male\n"
     ]
    }
   ],
   "source": [
    "# method \n",
    "e1.employee_details()"
   ]
  },
  {
   "cell_type": "markdown",
   "id": "21bba729",
   "metadata": {},
   "source": [
    "### Inheritance  "
   ]
  },
  {
   "cell_type": "code",
   "execution_count": 34,
   "id": "32aab6a1",
   "metadata": {},
   "outputs": [],
   "source": [
    "class Vehicle:\n",
    "    def __init__(self,mileage,cost):\n",
    "        self.mileage = mileage\n",
    "        self.cost = cost\n",
    "        \n",
    "    def show_details(self):\n",
    "        print(\"I am a vehicle\")\n",
    "        print(\"The mileage is\",self.mileage)\n",
    "        print(\"The cost is\",self.cost)"
   ]
  },
  {
   "cell_type": "code",
   "execution_count": 35,
   "id": "faf016f2",
   "metadata": {},
   "outputs": [],
   "source": [
    "v1 = Vehicle(300,1000)"
   ]
  },
  {
   "cell_type": "code",
   "execution_count": 36,
   "id": "2d5c3625",
   "metadata": {},
   "outputs": [
    {
     "name": "stdout",
     "output_type": "stream",
     "text": [
      "I am a vehicle\n",
      "The mileage is 300\n",
      "The cost is 1000\n"
     ]
    }
   ],
   "source": [
    "v1.show_details()"
   ]
  },
  {
   "cell_type": "code",
   "execution_count": 43,
   "id": "c5c83352",
   "metadata": {},
   "outputs": [],
   "source": [
    "# child class\n",
    "class Car(Vehicle):\n",
    "    def show_car_details(self):\n",
    "        print(\"I am a car\")"
   ]
  },
  {
   "cell_type": "code",
   "execution_count": 44,
   "id": "68f0ffff",
   "metadata": {},
   "outputs": [],
   "source": [
    "# instancing the object for child class\n",
    "c1 = Car(100,2000)"
   ]
  },
  {
   "cell_type": "code",
   "execution_count": 45,
   "id": "237547f0",
   "metadata": {},
   "outputs": [
    {
     "name": "stdout",
     "output_type": "stream",
     "text": [
      "I am a vehicle\n",
      "The mileage is 100\n",
      "The cost is 2000\n"
     ]
    }
   ],
   "source": [
    "c1.show_details()"
   ]
  },
  {
   "cell_type": "code",
   "execution_count": 46,
   "id": "bb45de4a",
   "metadata": {},
   "outputs": [
    {
     "name": "stdout",
     "output_type": "stream",
     "text": [
      "I am a car\n"
     ]
    }
   ],
   "source": [
    "# Invoking the object for child class\n",
    "c1.show_car_details()"
   ]
  },
  {
   "cell_type": "code",
   "execution_count": 47,
   "id": "127b07cc",
   "metadata": {},
   "outputs": [],
   "source": [
    "# over riding init method\n",
    "class Car(Vehicle):\n",
    "    def __init__ (self,mileage,cost,tyres,hp):\n",
    "        super().__init__(mileage,cost)\n",
    "        self.tyres = tyres\n",
    "        self.hp = hp\n",
    "        \n",
    "    def show_car_details(self):\n",
    "        print(\"I am a car\")\n",
    "        print(\"Number of tyres are\", self.tyres)\n",
    "        print(\"Value of horse power is\",self.hp)\n",
    "    "
   ]
  },
  {
   "cell_type": "code",
   "execution_count": 48,
   "id": "bbc92aa2",
   "metadata": {},
   "outputs": [],
   "source": [
    "# Invoking show_details() method from parent class\n",
    "\n",
    "c1 = Car(20,12000,4,300)"
   ]
  },
  {
   "cell_type": "code",
   "execution_count": 49,
   "id": "04d598ca",
   "metadata": {},
   "outputs": [
    {
     "name": "stdout",
     "output_type": "stream",
     "text": [
      "I am a vehicle\n",
      "The mileage is 20\n",
      "The cost is 12000\n"
     ]
    }
   ],
   "source": [
    "c1.show_details()"
   ]
  },
  {
   "cell_type": "code",
   "execution_count": 50,
   "id": "6c208bf1",
   "metadata": {},
   "outputs": [
    {
     "name": "stdout",
     "output_type": "stream",
     "text": [
      "I am a car\n",
      "Number of tyres are 4\n",
      "Value of horse power is 300\n"
     ]
    }
   ],
   "source": [
    "# Invoking show_car_details() method from child class\n",
    "\n",
    "c1.show_car_details()"
   ]
  },
  {
   "cell_type": "markdown",
   "id": "c52417e3",
   "metadata": {},
   "source": [
    "### Multiple Inheritance"
   ]
  },
  {
   "cell_type": "code",
   "execution_count": 54,
   "id": "559c093f",
   "metadata": {},
   "outputs": [],
   "source": [
    "# parent class\n",
    "\n",
    "class Parent1:\n",
    "    def assign_str1(self,str1):\n",
    "        self.str1 = str1\n",
    "        \n",
    "    def show_str1(self):\n",
    "        print(self.str1)"
   ]
  },
  {
   "cell_type": "code",
   "execution_count": 55,
   "id": "a2530a6b",
   "metadata": {},
   "outputs": [],
   "source": [
    "class Parent2:\n",
    "    def assign_str2(self,str2):\n",
    "        self.str2 = str2\n",
    "        \n",
    "    def show_str2(self):\n",
    "        print(self.str2)"
   ]
  },
  {
   "cell_type": "code",
   "execution_count": 68,
   "id": "a451a7f1",
   "metadata": {},
   "outputs": [],
   "source": [
    "# child class\n",
    "\n",
    "class Child(Parent1,Parent2):\n",
    "    def assign_str3(self,str3):\n",
    "        self.str3 = str3\n",
    "        \n",
    "    def show_str3(self):\n",
    "        print(self.str3)"
   ]
  },
  {
   "cell_type": "code",
   "execution_count": 69,
   "id": "3cddb2f2",
   "metadata": {},
   "outputs": [],
   "source": [
    "# object for the child class\n",
    "\n",
    "c1 = Child()"
   ]
  },
  {
   "cell_type": "code",
   "execution_count": 70,
   "id": "6d34de82",
   "metadata": {},
   "outputs": [],
   "source": [
    "# invoke Parent class\n",
    "\n",
    "c1.assign_str1(\"deepu\")\n",
    "c1.assign_str2(\"This is deepu\")\n",
    "c1.assign_str3(\"Hello World\")"
   ]
  },
  {
   "cell_type": "code",
   "execution_count": 71,
   "id": "b91a4577",
   "metadata": {},
   "outputs": [
    {
     "name": "stdout",
     "output_type": "stream",
     "text": [
      "deepu\n"
     ]
    }
   ],
   "source": [
    "c1.show_str1()"
   ]
  },
  {
   "cell_type": "code",
   "execution_count": 72,
   "id": "db34d220",
   "metadata": {},
   "outputs": [
    {
     "name": "stdout",
     "output_type": "stream",
     "text": [
      "This is deepu\n"
     ]
    }
   ],
   "source": [
    "c1.show_str2()"
   ]
  },
  {
   "cell_type": "code",
   "execution_count": 73,
   "id": "179fbf3c",
   "metadata": {},
   "outputs": [
    {
     "name": "stdout",
     "output_type": "stream",
     "text": [
      "Hello World\n"
     ]
    }
   ],
   "source": [
    "c1.show_str3()"
   ]
  },
  {
   "cell_type": "markdown",
   "id": "75d51e29",
   "metadata": {},
   "source": [
    "### Multilevel Inheritance"
   ]
  },
  {
   "cell_type": "code",
   "execution_count": 75,
   "id": "d17daf67",
   "metadata": {},
   "outputs": [],
   "source": [
    "# Parent class\n",
    "\n",
    "class Parent():\n",
    "    def assign_name(self,name):\n",
    "        self.name = name\n",
    "        \n",
    "    def show_name(self):\n",
    "        return self.name"
   ]
  },
  {
   "cell_type": "code",
   "execution_count": 76,
   "id": "c7da7357",
   "metadata": {},
   "outputs": [],
   "source": [
    "# Child class\n",
    "\n",
    "class Child(Parent):\n",
    "    def assign_age(self,age):\n",
    "        self.age = age\n",
    "        \n",
    "    def show_age(self):\n",
    "        return self.age"
   ]
  },
  {
   "cell_type": "code",
   "execution_count": 77,
   "id": "bda14e79",
   "metadata": {},
   "outputs": [],
   "source": [
    "# Grand Child class\n",
    "\n",
    "class GrandChild(Child):\n",
    "    def assign_gender(self,gender):\n",
    "        self.gender = gender\n",
    "        \n",
    "    def show_gender(self):\n",
    "        return self.name"
   ]
  },
  {
   "cell_type": "code",
   "execution_count": 78,
   "id": "963b462c",
   "metadata": {},
   "outputs": [],
   "source": [
    "# Instantiating Object in GrandChild Class\n",
    "\n",
    "g1 = GrandChild()"
   ]
  },
  {
   "cell_type": "code",
   "execution_count": 79,
   "id": "85bbd947",
   "metadata": {},
   "outputs": [],
   "source": [
    "g1.assign_name(\"Deepu\")\n",
    "g1.assign_age(\"21\")\n",
    "g1.assign_gender(\"Male\")"
   ]
  },
  {
   "cell_type": "code",
   "execution_count": 81,
   "id": "7dec14d0",
   "metadata": {},
   "outputs": [
    {
     "data": {
      "text/plain": [
       "'Deepu'"
      ]
     },
     "execution_count": 81,
     "metadata": {},
     "output_type": "execute_result"
    }
   ],
   "source": [
    "g1.show_name()"
   ]
  },
  {
   "cell_type": "code",
   "execution_count": 82,
   "id": "c4909d31",
   "metadata": {},
   "outputs": [
    {
     "data": {
      "text/plain": [
       "'21'"
      ]
     },
     "execution_count": 82,
     "metadata": {},
     "output_type": "execute_result"
    }
   ],
   "source": [
    "g1.show_age()"
   ]
  },
  {
   "cell_type": "code",
   "execution_count": 83,
   "id": "6e850b92",
   "metadata": {},
   "outputs": [
    {
     "data": {
      "text/plain": [
       "'Deepu'"
      ]
     },
     "execution_count": 83,
     "metadata": {},
     "output_type": "execute_result"
    }
   ],
   "source": [
    "g1.show_gender()"
   ]
  },
  {
   "cell_type": "code",
   "execution_count": null,
   "id": "af1832a9",
   "metadata": {},
   "outputs": [],
   "source": []
  }
 ],
 "metadata": {
  "kernelspec": {
   "display_name": "Python 3 (ipykernel)",
   "language": "python",
   "name": "python3"
  },
  "language_info": {
   "codemirror_mode": {
    "name": "ipython",
    "version": 3
   },
   "file_extension": ".py",
   "mimetype": "text/x-python",
   "name": "python",
   "nbconvert_exporter": "python",
   "pygments_lexer": "ipython3",
   "version": "3.10.9"
  }
 },
 "nbformat": 4,
 "nbformat_minor": 5
}
