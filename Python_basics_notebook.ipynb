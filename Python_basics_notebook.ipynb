{
 "cells": [
  {
   "cell_type": "markdown",
   "id": "ebe05084",
   "metadata": {},
   "source": [
    "# WHAT IS “CODE”?"
   ]
  },
  {
   "cell_type": "markdown",
   "id": "7fde6af9",
   "metadata": {},
   "source": [
    "Code is just a series of instructions that computers can follow. Computers obey each instruction, one after another."
   ]
  },
  {
   "cell_type": "markdown",
   "id": "ee198699",
   "metadata": {},
   "source": [
    "Programs can be comprised of many instructions. Like many. Like millions."
   ]
  },
  {
   "cell_type": "markdown",
   "id": "80e464f3",
   "metadata": {},
   "source": [
    "Addition is one of the most common instructions in coding."
   ]
  },
  {
   "cell_type": "markdown",
   "id": "213a5d8e",
   "metadata": {},
   "source": [
    "print() can print text using quotes:"
   ]
  },
  {
   "cell_type": "markdown",
   "id": "c8928b6d",
   "metadata": {},
   "source": [
    "### PRINTING NUMBERS"
   ]
  },
  {
   "cell_type": "code",
   "execution_count": 1,
   "id": "bd507537",
   "metadata": {},
   "outputs": [
    {
     "name": "stdout",
     "output_type": "stream",
     "text": [
      "some text here\n"
     ]
    }
   ],
   "source": [
    "print(\"some text here\")"
   ]
  },
  {
   "cell_type": "markdown",
   "id": "c91f2677",
   "metadata": {},
   "source": [
    "but it can also print numbers without quotes:"
   ]
  },
  {
   "cell_type": "code",
   "execution_count": 2,
   "id": "cda4f048",
   "metadata": {},
   "outputs": [
    {
     "name": "stdout",
     "output_type": "stream",
     "text": [
      "1\n"
     ]
    }
   ],
   "source": [
    "print(1)"
   ]
  },
  {
   "cell_type": "markdown",
   "id": "0a769167",
   "metadata": {},
   "source": [
    "and you can do math directly inside the parentheses:"
   ]
  },
  {
   "cell_type": "code",
   "execution_count": 3,
   "id": "9653a04b",
   "metadata": {},
   "outputs": [
    {
     "name": "stdout",
     "output_type": "stream",
     "text": [
      "3\n"
     ]
    }
   ],
   "source": [
    "print(1 + 2)"
   ]
  },
  {
   "cell_type": "markdown",
   "id": "8545561d",
   "metadata": {},
   "source": [
    "Try some of these code snippets in your editor! For example, you could create a file called hello.py and write the following code:"
   ]
  },
  {
   "cell_type": "code",
   "execution_count": 4,
   "id": "3e0ef669",
   "metadata": {},
   "outputs": [
    {
     "ename": "NameError",
     "evalue": "name 'hello' is not defined",
     "output_type": "error",
     "traceback": [
      "\u001b[1;31m---------------------------------------------------------------------------\u001b[0m",
      "\u001b[1;31mNameError\u001b[0m                                 Traceback (most recent call last)",
      "\u001b[1;32m~\\AppData\\Local\\Temp\\ipykernel_7680\\3148950098.py\u001b[0m in \u001b[0;36m<module>\u001b[1;34m\u001b[0m\n\u001b[1;32m----> 1\u001b[1;33m \u001b[0mhello\u001b[0m\u001b[1;33m.\u001b[0m\u001b[0mpy\u001b[0m\u001b[1;33m\u001b[0m\u001b[1;33m\u001b[0m\u001b[0m\n\u001b[0m",
      "\u001b[1;31mNameError\u001b[0m: name 'hello' is not defined"
     ]
    }
   ],
   "source": [
    "hello.py"
   ]
  },
  {
   "cell_type": "code",
   "execution_count": null,
   "id": "3f9d70e7",
   "metadata": {},
   "outputs": [],
   "source": [
    "print(\"Hello, world!\")\n",
    "print(1 + 2)"
   ]
  },
  {
   "cell_type": "markdown",
   "id": "040d8cb2",
   "metadata": {},
   "source": [
    "Then, run the file with python hello.py and see what happens."
   ]
  },
  {
   "cell_type": "markdown",
   "id": "744b565f",
   "metadata": {},
   "source": [
    "### MULTIPLE INSTRUCTIONS"
   ]
  },
  {
   "cell_type": "code",
   "execution_count": null,
   "id": "b7a4b7c6",
   "metadata": {},
   "outputs": [],
   "source": [
    "python hello.py"
   ]
  },
  {
   "cell_type": "markdown",
   "id": "c4d03fdf",
   "metadata": {},
   "source": [
    "Code runs in order, starting at the top of the program. For example:"
   ]
  },
  {
   "cell_type": "code",
   "execution_count": null,
   "id": "ffc45704",
   "metadata": {},
   "outputs": [],
   "source": [
    "print(\"this prints first\")\n",
    "print(\"this prints second\")\n",
    "print(\"this prints last\")"
   ]
  },
  {
   "cell_type": "markdown",
   "id": "4c0b4487",
   "metadata": {},
   "source": [
    "### SYNTAX ERRORS"
   ]
  },
  {
   "cell_type": "markdown",
   "id": "fa846afe",
   "metadata": {},
   "source": [
    "Syntax is jargon for “valid code that the computer can understand”. For example,"
   ]
  },
  {
   "cell_type": "code",
   "execution_count": null,
   "id": "ce3e80b7",
   "metadata": {},
   "outputs": [],
   "source": [
    "prnt(\"hello world\")"
   ]
  },
  {
   "cell_type": "markdown",
   "id": "c420c844",
   "metadata": {},
   "source": [
    "is invalid syntax because prnt() is not a valid function, “print” is spelled incorrectly. As a result, an error will be thrown and the code won’t execute."
   ]
  },
  {
   "cell_type": "markdown",
   "id": "8b4a4a4e",
   "metadata": {},
   "source": [
    "### SYNTAX VARIES FROM LANGAUGE TO LANGUAGE"
   ]
  },
  {
   "cell_type": "code",
   "execution_count": null,
   "id": "d6aa003f",
   "metadata": {},
   "outputs": [],
   "source": [
    "prnt()"
   ]
  },
  {
   "cell_type": "markdown",
   "id": "2e30455b",
   "metadata": {},
   "source": [
    "A coding language’s syntax makes up the rules that define what properly structured expressions and statements look like in that language. For example, in Python, the following would be considered correct syntax:"
   ]
  },
  {
   "cell_type": "code",
   "execution_count": null,
   "id": "e4990cc3",
   "metadata": {},
   "outputs": [],
   "source": [
    "print(\"hello world\")"
   ]
  },
  {
   "cell_type": "markdown",
   "id": "f16bafa6",
   "metadata": {},
   "source": [
    "While in a different programming language, like Go, the correct syntax would be:"
   ]
  },
  {
   "cell_type": "code",
   "execution_count": null,
   "id": "d3db3cc0",
   "metadata": {},
   "outputs": [],
   "source": [
    "fmt.Println(\"hello world\")"
   ]
  },
  {
   "cell_type": "markdown",
   "id": "5762abe4",
   "metadata": {},
   "source": [
    "Code can have many different problems that prevent it from working as intended. Some examples include:"
   ]
  },
  {
   "cell_type": "markdown",
   "id": "4e8a3146",
   "metadata": {},
   "source": [
    "# VARIABLES"
   ]
  },
  {
   "cell_type": "markdown",
   "id": "3bf36dce",
   "metadata": {},
   "source": [
    "Variables are how we store data in our program. So far we’ve been directly printing data by passing it directly into the print() function."
   ]
  },
  {
   "cell_type": "code",
   "execution_count": null,
   "id": "b48be2bf",
   "metadata": {},
   "outputs": [],
   "source": [
    "print()"
   ]
  },
  {
   "cell_type": "markdown",
   "id": "c9a22aa9",
   "metadata": {},
   "source": [
    "Now we are going to learn to save the data in variables so we can use and change it before we need to print it."
   ]
  },
  {
   "cell_type": "markdown",
   "id": "def93c11",
   "metadata": {},
   "source": [
    "A variable is a name that we define that will point to some data. For example, I could define a new variable called my_height and set its value to 100. I could also define a variable called my_name and set it equal to “Lane”."
   ]
  },
  {
   "cell_type": "code",
   "execution_count": null,
   "id": "93263cdd",
   "metadata": {},
   "outputs": [],
   "source": [
    "my_height"
   ]
  },
  {
   "cell_type": "code",
   "execution_count": null,
   "id": "1257812a",
   "metadata": {},
   "outputs": [],
   "source": [
    "my_name"
   ]
  },
  {
   "cell_type": "markdown",
   "id": "c5636da1",
   "metadata": {},
   "source": [
    "### CREATING VARIABLES "
   ]
  },
  {
   "cell_type": "markdown",
   "id": "4fea4d95",
   "metadata": {},
   "source": [
    "To create a new variable in Python we use the following syntax:"
   ]
  },
  {
   "cell_type": "code",
   "execution_count": null,
   "id": "017f22e7",
   "metadata": {},
   "outputs": [],
   "source": [
    "my_new_variable_two = 2\n",
    "this_can_be_called_anything = 3"
   ]
  },
  {
   "cell_type": "markdown",
   "id": "eacf502b",
   "metadata": {},
   "source": [
    "### VARIABLES VARY"
   ]
  },
  {
   "cell_type": "markdown",
   "id": "b257596c",
   "metadata": {},
   "source": [
    "Variables are called “variables” because they can hold any value and that value can change (it varies)."
   ]
  },
  {
   "cell_type": "markdown",
   "id": "2a36942a",
   "metadata": {},
   "source": [
    "For example, the following will print 20:"
   ]
  },
  {
   "cell_type": "code",
   "execution_count": null,
   "id": "16a99ea2",
   "metadata": {},
   "outputs": [],
   "source": [
    "20"
   ]
  },
  {
   "cell_type": "code",
   "execution_count": null,
   "id": "d58890f3",
   "metadata": {},
   "outputs": [],
   "source": [
    "acceleration = 10\n",
    "acceleration = 20\n",
    "print(acceleration)"
   ]
  },
  {
   "cell_type": "markdown",
   "id": "c9b91d9d",
   "metadata": {},
   "source": [
    "The line acceleration = 20 reassigns the value of acceleration to 20. It overwrites whatever was being held in the acceleration variable before."
   ]
  },
  {
   "cell_type": "code",
   "execution_count": null,
   "id": "a5977bce",
   "metadata": {},
   "outputs": [],
   "source": [
    "acceleration = 20"
   ]
  },
  {
   "cell_type": "code",
   "execution_count": null,
   "id": "44a9d799",
   "metadata": {},
   "outputs": [],
   "source": [
    "acceleration"
   ]
  },
  {
   "cell_type": "markdown",
   "id": "9d5de857",
   "metadata": {},
   "source": [
    "### LET’S DO SOME MATH"
   ]
  },
  {
   "cell_type": "markdown",
   "id": "ab52adfa",
   "metadata": {},
   "source": [
    "Now that we know how to store and change the value of variables let’s do some math!"
   ]
  },
  {
   "cell_type": "markdown",
   "id": "83d80d71",
   "metadata": {},
   "source": [
    "Here are some examples of common mathematical operators in Python syntax."
   ]
  },
  {
   "cell_type": "code",
   "execution_count": null,
   "id": "4a86782d",
   "metadata": {},
   "outputs": [],
   "source": [
    "sum = a + b\n",
    "difference = a - b\n",
    "product = a * b\n",
    "quotient = a / b"
   ]
  },
  {
   "cell_type": "markdown",
   "id": "d2747459",
   "metadata": {},
   "source": [
    "### COMMENTS"
   ]
  },
  {
   "cell_type": "markdown",
   "id": "b99321a7",
   "metadata": {},
   "source": [
    "Comments don’t run like code, they are ignored by the computer. Comments are useful for adding reminders or explaining what a piece of code does in plain English."
   ]
  },
  {
   "cell_type": "markdown",
   "id": "c04a8d2c",
   "metadata": {},
   "source": [
    "##### SINGLE LINE COMMENT"
   ]
  },
  {
   "cell_type": "code",
   "execution_count": null,
   "id": "9780e8ff",
   "metadata": {},
   "outputs": [],
   "source": [
    "# speed is a variable describing how fast your player moves\n",
    "speed = 2"
   ]
  },
  {
   "cell_type": "markdown",
   "id": "a90da5c9",
   "metadata": {},
   "source": [
    "##### MULTI-LINE COMMENTS (AKA DOCSTRINGS)"
   ]
  },
  {
   "cell_type": "markdown",
   "id": "c3d92ed1",
   "metadata": {},
   "source": [
    "You can use triple quotes to start and end multi-line comments as well:"
   ]
  },
  {
   "cell_type": "code",
   "execution_count": null,
   "id": "1ebb7b1d",
   "metadata": {},
   "outputs": [],
   "source": [
    "\"\"\"\n",
    "    the code found below \n",
    "    will print 'Hello, World!' to the console\n",
    "\"\"\"\n",
    "print('Hello, World!')"
   ]
  },
  {
   "cell_type": "markdown",
   "id": "a41d4126",
   "metadata": {},
   "source": [
    "This is useful if you don’t want to add the # to the start of each line when writing paragraphs of comments."
   ]
  },
  {
   "cell_type": "markdown",
   "id": "f5af9f0c",
   "metadata": {},
   "source": [
    "## VARIABLE NAMES"
   ]
  },
  {
   "cell_type": "markdown",
   "id": "82ba3c23",
   "metadata": {},
   "source": [
    "Variable names can’t have spaces, they’re continuous strings of characters."
   ]
  },
  {
   "cell_type": "markdown",
   "id": "a009a24f",
   "metadata": {},
   "source": [
    "In Python you should use “snake_case” when creating variable names - it’s become the “rule of thumb” for the language. By way of comparison, “camel case” is where the beginning of each new word except the first is capitalized."
   ]
  },
  {
   "cell_type": "markdown",
   "id": "5056841c",
   "metadata": {},
   "source": [
    "##### NO CASING (PURE INSANITY)"
   ]
  },
  {
   "cell_type": "code",
   "execution_count": null,
   "id": "2aebe6cf",
   "metadata": {},
   "outputs": [],
   "source": [
    "somevariablehere = 10# No casing"
   ]
  },
  {
   "cell_type": "markdown",
   "id": "c00a24c6",
   "metadata": {},
   "source": [
    "##### CAMEL CASE"
   ]
  },
  {
   "cell_type": "code",
   "execution_count": null,
   "id": "88d688ca",
   "metadata": {},
   "outputs": [],
   "source": [
    "someVariableHere = 10 #Camel case"
   ]
  },
  {
   "cell_type": "markdown",
   "id": "8eaaffe3",
   "metadata": {},
   "source": [
    "##### SNAKE CASE"
   ]
  },
  {
   "cell_type": "code",
   "execution_count": null,
   "id": "648c3451",
   "metadata": {},
   "outputs": [],
   "source": [
    "some_variable_here = 10 #snake case"
   ]
  },
  {
   "cell_type": "markdown",
   "id": "952b06cb",
   "metadata": {},
   "source": [
    "## BASIC VARIABLE TYPES "
   ]
  },
  {
   "cell_type": "markdown",
   "id": "4274696c",
   "metadata": {},
   "source": [
    "In Python there are several basic data types."
   ]
  },
  {
   "cell_type": "markdown",
   "id": "df556bca",
   "metadata": {},
   "source": [
    "### STRING TYPE"
   ]
  },
  {
   "cell_type": "markdown",
   "id": "c96fb87b",
   "metadata": {},
   "source": [
    "“Strings” are raw text in coding speak. They are called “strings” because they are a list of characters strung together. Strings are declared in Python by using single quotes or double quotes. That said, for consistency’s sake, we prefer double quotes."
   ]
  },
  {
   "cell_type": "code",
   "execution_count": null,
   "id": "5c844cc4",
   "metadata": {},
   "outputs": [],
   "source": [
    "name_with_single_quotes = 'boot.dev'\n",
    "name_with_double_quotes = \"boot.dev\""
   ]
  },
  {
   "cell_type": "markdown",
   "id": "4361fcdb",
   "metadata": {},
   "source": [
    "##### NUMERIC TYPES"
   ]
  },
  {
   "cell_type": "markdown",
   "id": "fe5a09c0",
   "metadata": {},
   "source": [
    "Numbers aren’t surrounded by quotes when created, but they can have decimals and negative signs."
   ]
  },
  {
   "cell_type": "markdown",
   "id": "70b57d0e",
   "metadata": {},
   "source": [
    "##### INTEGERS ARE NUMBERS WITHOUT A DECIMAL"
   ]
  },
  {
   "cell_type": "code",
   "execution_count": null,
   "id": "40e8c39f",
   "metadata": {},
   "outputs": [],
   "source": [
    "#Integer\n",
    "x = 5\n",
    "y = -5"
   ]
  },
  {
   "cell_type": "markdown",
   "id": "5ea90ee8",
   "metadata": {},
   "source": [
    "##### A “FLOAT” IS A NUMBER WITH A DECIMAL"
   ]
  },
  {
   "cell_type": "code",
   "execution_count": null,
   "id": "7a889d1a",
   "metadata": {},
   "outputs": [],
   "source": [
    "#float\n",
    "x = 5.2\n",
    "y = -5.2"
   ]
  },
  {
   "cell_type": "markdown",
   "id": "6db784c3",
   "metadata": {},
   "source": [
    "##### BOOLEAN TYPE"
   ]
  },
  {
   "cell_type": "markdown",
   "id": "99de1bbe",
   "metadata": {},
   "source": [
    "A “Boolean” (or “bool”) is a type that can only have one of two values: True or False. As you may have heard computers really only use 1’s and 0’s. These 1’s and 0’s are just Boolean values."
   ]
  },
  {
   "cell_type": "markdown",
   "id": "9fb448bd",
   "metadata": {},
   "source": [
    "0 = False\n",
    "1 = True"
   ]
  },
  {
   "cell_type": "code",
   "execution_count": null,
   "id": "045d197f",
   "metadata": {},
   "outputs": [],
   "source": [
    "is_tall = True"
   ]
  },
  {
   "cell_type": "markdown",
   "id": "32aa27fd",
   "metadata": {},
   "source": [
    "##### NONETYPE VARIABLES"
   ]
  },
  {
   "cell_type": "markdown",
   "id": "43fb02c8",
   "metadata": {},
   "source": [
    "Not all variables have a value. We can declare an “empty” variable by setting it to None."
   ]
  },
  {
   "cell_type": "code",
   "execution_count": null,
   "id": "9ff23c57",
   "metadata": {},
   "outputs": [],
   "source": [
    "None"
   ]
  },
  {
   "cell_type": "code",
   "execution_count": null,
   "id": "b6f1aed4",
   "metadata": {},
   "outputs": [],
   "source": [
    "empty = None"
   ]
  },
  {
   "cell_type": "markdown",
   "id": "f7bf4c75",
   "metadata": {},
   "source": [
    "The value of empty in this instance is None until we use the assignment operator, =, to give it a value."
   ]
  },
  {
   "cell_type": "markdown",
   "id": "a225d4ff",
   "metadata": {},
   "source": [
    "### NONE IS NOT A SPECIFIC STRING"
   ]
  },
  {
   "cell_type": "markdown",
   "id": "697a341e",
   "metadata": {},
   "source": [
    "Note that the None type is not the same as a string with a value of “None”:"
   ]
  },
  {
   "cell_type": "code",
   "execution_count": null,
   "id": "34b942f8",
   "metadata": {},
   "outputs": [],
   "source": [
    "None"
   ]
  },
  {
   "cell_type": "code",
   "execution_count": null,
   "id": "3049a798",
   "metadata": {},
   "outputs": [],
   "source": [
    "my_none = None # this is a None-type\n",
    "my_none = \"None\" # this is a string"
   ]
  },
  {
   "cell_type": "markdown",
   "id": "36f14dc4",
   "metadata": {},
   "source": [
    "##### DYNAMIC TYPING"
   ]
  },
  {
   "cell_type": "markdown",
   "id": "c6f6e87d",
   "metadata": {},
   "source": [
    "Python is dynamically typed. All this means is that a variable can store any type, and that type can change."
   ]
  },
  {
   "cell_type": "markdown",
   "id": "2c073720",
   "metadata": {},
   "source": [
    "For example, if I make a number variable, I can later change that variable to a string:"
   ]
  },
  {
   "cell_type": "markdown",
   "id": "ac8169a0",
   "metadata": {},
   "source": [
    "This is valid:"
   ]
  },
  {
   "cell_type": "code",
   "execution_count": null,
   "id": "7c92543c",
   "metadata": {},
   "outputs": [],
   "source": [
    "speed = 5\n",
    "speed = \"five\""
   ]
  },
  {
   "cell_type": "markdown",
   "id": "c5b6285a",
   "metadata": {},
   "source": [
    "##### JUST BECAUSE YOU CAN DOESN’T MEAN YOU SHOULD!"
   ]
  },
  {
   "cell_type": "markdown",
   "id": "5572f0a3",
   "metadata": {},
   "source": [
    "In almost all circumstances, it’s a bad idea to change the type of a variable. The “proper” thing to do is to just create a new one. For example:"
   ]
  },
  {
   "cell_type": "code",
   "execution_count": null,
   "id": "dd138ca5",
   "metadata": {},
   "outputs": [],
   "source": [
    "speed = 5\n",
    "speed_description = \"five\""
   ]
  },
  {
   "cell_type": "markdown",
   "id": "2bef2b2d",
   "metadata": {},
   "source": [
    "##### WHAT IF IT WEREN’T DYNAMICALLY TYPED?"
   ]
  },
  {
   "cell_type": "markdown",
   "id": "ff20557f",
   "metadata": {},
   "source": [
    "Statically typed languages like Go (which you’ll learn in a later course) are statically typed instead of dynamically typed. In a statically typed language, if you try to assign a value to a variable of the wrong type, an error would crash the program."
   ]
  },
  {
   "cell_type": "markdown",
   "id": "d4516ea8",
   "metadata": {},
   "source": [
    "If Python were statically-typed, the first example from before would crash on the second line, speed = \"five\". The computer would give an error along the lines of you can't assign a string value (\"five\") to a number variable (speed)"
   ]
  },
  {
   "cell_type": "markdown",
   "id": "8bffcd75",
   "metadata": {},
   "source": [
    "## MATH WITH STRINGS"
   ]
  },
  {
   "cell_type": "markdown",
   "id": "0ae0ebed",
   "metadata": {},
   "source": [
    "Most of the math operators we went over earlier don’t work with strings, aside from the + addition operator. When working with strings the + operator performs a “concatenation”."
   ]
  },
  {
   "cell_type": "markdown",
   "id": "3c651e77",
   "metadata": {},
   "source": [
    "“Concatenation” is a fancy word that means the joining of two strings."
   ]
  },
  {
   "cell_type": "code",
   "execution_count": null,
   "id": "a9584e87",
   "metadata": {},
   "outputs": [],
   "source": [
    "first_name = \"Lane \"\n",
    "last_name = \"Wagner\"\n",
    "full_name = first_name + last_name"
   ]
  },
  {
   "cell_type": "markdown",
   "id": "f9129637",
   "metadata": {},
   "source": [
    "full_name now holds the value “Lane Wagner”."
   ]
  },
  {
   "cell_type": "code",
   "execution_count": null,
   "id": "af57c9cd",
   "metadata": {},
   "outputs": [],
   "source": [
    "full_name"
   ]
  },
  {
   "cell_type": "markdown",
   "id": "eb33ec4e",
   "metadata": {},
   "source": [
    "Notice the extra space at the end of \"Lane \" in the first_name variable. That extra space is there to separate the words in the final result: \"Lane Wagner\"."
   ]
  },
  {
   "cell_type": "markdown",
   "id": "71440f7f",
   "metadata": {},
   "source": [
    "## MULTI-VARIABLE DECLARATION"
   ]
  },
  {
   "cell_type": "code",
   "execution_count": null,
   "id": "4739a421",
   "metadata": {},
   "outputs": [],
   "source": [
    "\"Lane \""
   ]
  },
  {
   "cell_type": "code",
   "execution_count": null,
   "id": "1c39b6cd",
   "metadata": {},
   "outputs": [],
   "source": [
    "first_name"
   ]
  },
  {
   "cell_type": "code",
   "execution_count": null,
   "id": "fb25ac75",
   "metadata": {},
   "outputs": [],
   "source": [
    "\"Lane Wagner\""
   ]
  },
  {
   "cell_type": "markdown",
   "id": "49daa128",
   "metadata": {},
   "source": [
    "We can save space when creating many new variables by declaring them on the same line:"
   ]
  },
  {
   "cell_type": "code",
   "execution_count": null,
   "id": "8634f273",
   "metadata": {},
   "outputs": [],
   "source": [
    "sword_name, sword_damage, sword_length = \"Excalibur\", 10, 200"
   ]
  },
  {
   "cell_type": "markdown",
   "id": "def078e0",
   "metadata": {},
   "source": [
    "Which is the same as:"
   ]
  },
  {
   "cell_type": "code",
   "execution_count": null,
   "id": "c114f2e5",
   "metadata": {},
   "outputs": [],
   "source": [
    "sword_name = \"Excalibur\"\n",
    "sword_damage = 10\n",
    "sword_length = 200"
   ]
  },
  {
   "cell_type": "markdown",
   "id": "752fbf90",
   "metadata": {},
   "source": [
    "Any number of variables can be declared on the same line, and variables declared on the same line should be related to one another in some way so that the code remains easy to understand."
   ]
  },
  {
   "cell_type": "markdown",
   "id": "b4d16713",
   "metadata": {},
   "source": [
    "We call code that’s easy to understand “clean code”."
   ]
  },
  {
   "cell_type": "markdown",
   "id": "ba52fa0a",
   "metadata": {},
   "source": [
    "# COMPUTING BASICS "
   ]
  },
  {
   "cell_type": "markdown",
   "id": "38dd8b39",
   "metadata": {},
   "source": [
    "## PYTHON NUMBERS"
   ]
  },
  {
   "cell_type": "markdown",
   "id": "4e340217",
   "metadata": {},
   "source": [
    "In Python, numbers without a decimal part are called Integers - just like they are in mathematics."
   ]
  },
  {
   "cell_type": "code",
   "execution_count": null,
   "id": "bf819754",
   "metadata": {},
   "outputs": [],
   "source": [
    "Integers"
   ]
  },
  {
   "cell_type": "markdown",
   "id": "cc3a939d",
   "metadata": {},
   "source": [
    "Integers are simply whole numbers, positive or negative. For example, 3 and -3 are both examples of integers."
   ]
  },
  {
   "cell_type": "code",
   "execution_count": null,
   "id": "2de10ab0",
   "metadata": {},
   "outputs": [],
   "source": [
    "3"
   ]
  },
  {
   "cell_type": "code",
   "execution_count": null,
   "id": "e564aee3",
   "metadata": {},
   "outputs": [],
   "source": [
    "-3"
   ]
  },
  {
   "cell_type": "markdown",
   "id": "4d61a6ec",
   "metadata": {},
   "source": [
    "Arithmetic can be performed as you might expect:"
   ]
  },
  {
   "cell_type": "markdown",
   "id": "602226df",
   "metadata": {},
   "source": [
    "##### ADDITION"
   ]
  },
  {
   "cell_type": "code",
   "execution_count": 5,
   "id": "4768242a",
   "metadata": {},
   "outputs": [
    {
     "data": {
      "text/plain": [
       "3"
      ]
     },
     "execution_count": 5,
     "metadata": {},
     "output_type": "execute_result"
    }
   ],
   "source": [
    "2 + 1\n",
    "# 3"
   ]
  },
  {
   "cell_type": "markdown",
   "id": "bab368b6",
   "metadata": {},
   "source": [
    "##### SUBTRACTION"
   ]
  },
  {
   "cell_type": "code",
   "execution_count": 6,
   "id": "f1ada039",
   "metadata": {},
   "outputs": [
    {
     "data": {
      "text/plain": [
       "1"
      ]
     },
     "execution_count": 6,
     "metadata": {},
     "output_type": "execute_result"
    }
   ],
   "source": [
    "2 - 1\n",
    "# 1"
   ]
  },
  {
   "cell_type": "markdown",
   "id": "833b705a",
   "metadata": {},
   "source": [
    "##### MULTIPLICATION"
   ]
  },
  {
   "cell_type": "code",
   "execution_count": 7,
   "id": "b460c615",
   "metadata": {},
   "outputs": [
    {
     "data": {
      "text/plain": [
       "4"
      ]
     },
     "execution_count": 7,
     "metadata": {},
     "output_type": "execute_result"
    }
   ],
   "source": [
    "2 * 2\n",
    "# 4"
   ]
  },
  {
   "cell_type": "markdown",
   "id": "752d088e",
   "metadata": {},
   "source": [
    "##### DIVISION"
   ]
  },
  {
   "cell_type": "code",
   "execution_count": 8,
   "id": "b65395c3",
   "metadata": {},
   "outputs": [
    {
     "data": {
      "text/plain": [
       "1.5"
      ]
     },
     "execution_count": 8,
     "metadata": {},
     "output_type": "execute_result"
    }
   ],
   "source": [
    "3 / 2\n",
    "# 1.5 (a float)"
   ]
  },
  {
   "cell_type": "markdown",
   "id": "fe674cc8",
   "metadata": {},
   "source": [
    "This one is actually a bit different - division on two integers will actually produce a float. A float is, as you may have guessed, the number type that allows for decimal values."
   ]
  },
  {
   "cell_type": "markdown",
   "id": "9caff460",
   "metadata": {},
   "source": [
    "## INTEGERS"
   ]
  },
  {
   "cell_type": "markdown",
   "id": "8cac4646",
   "metadata": {},
   "source": [
    "In Python, numbers without a decimal part are called Integers. Contrast this to JavaScript where all numbers are just a Number type."
   ]
  },
  {
   "cell_type": "markdown",
   "id": "1819ebad",
   "metadata": {},
   "source": [
    "Integers are simply whole numbers, positive or negative. For example, 3 and -3 are both examples of integers."
   ]
  },
  {
   "cell_type": "code",
   "execution_count": 9,
   "id": "08417f94",
   "metadata": {},
   "outputs": [
    {
     "data": {
      "text/plain": [
       "3"
      ]
     },
     "execution_count": 9,
     "metadata": {},
     "output_type": "execute_result"
    }
   ],
   "source": [
    "3"
   ]
  },
  {
   "cell_type": "code",
   "execution_count": 10,
   "id": "8f01a388",
   "metadata": {},
   "outputs": [
    {
     "data": {
      "text/plain": [
       "-3"
      ]
     },
     "execution_count": 10,
     "metadata": {},
     "output_type": "execute_result"
    }
   ],
   "source": [
    "-3"
   ]
  },
  {
   "cell_type": "markdown",
   "id": "81108fd4",
   "metadata": {},
   "source": [
    "## FLOATS"
   ]
  },
  {
   "cell_type": "markdown",
   "id": "b2a6e43c",
   "metadata": {},
   "source": [
    "A float is, as you may have guessed, the number type that allows for decimal values."
   ]
  },
  {
   "cell_type": "code",
   "execution_count": 11,
   "id": "6d737a33",
   "metadata": {},
   "outputs": [],
   "source": [
    "my_int = 5\n",
    "my_float = 5.5"
   ]
  },
  {
   "cell_type": "markdown",
   "id": "69eaaeb6",
   "metadata": {},
   "source": [
    "## FLOOR DIVISION"
   ]
  },
  {
   "cell_type": "markdown",
   "id": "8ec0b831",
   "metadata": {},
   "source": [
    "Python has great out-of-the-box support for mathematical operations. This, among other reasons, is why it has had such success in artificial intelligence, machine learning, and data science applications."
   ]
  },
  {
   "cell_type": "markdown",
   "id": "8b5580c1",
   "metadata": {},
   "source": [
    "Floor division is like normal division except the result is floored afterward, which means the remainder is removed. As you would expect, this means the result is an integer instead of a float."
   ]
  },
  {
   "cell_type": "code",
   "execution_count": 12,
   "id": "4cbc62b7",
   "metadata": {},
   "outputs": [
    {
     "data": {
      "text/plain": [
       "2"
      ]
     },
     "execution_count": 12,
     "metadata": {},
     "output_type": "execute_result"
    }
   ],
   "source": [
    "7 // 3\n",
    "# 2 (an integer)"
   ]
  },
  {
   "cell_type": "markdown",
   "id": "6648864e",
   "metadata": {},
   "source": [
    "Python has built-in support for exponents - something most languages require a math library for."
   ]
  },
  {
   "cell_type": "markdown",
   "id": "e00f5418",
   "metadata": {},
   "source": [
    "### EXPONENTS"
   ]
  },
  {
   "cell_type": "code",
   "execution_count": 13,
   "id": "46275267",
   "metadata": {},
   "outputs": [
    {
     "data": {
      "text/plain": [
       "9"
      ]
     },
     "execution_count": 13,
     "metadata": {},
     "output_type": "execute_result"
    }
   ],
   "source": [
    "# reads as \"three squared\" or\n",
    "# \"three raised to the second power\"\n",
    "3 ** 2\n",
    "# 9"
   ]
  },
  {
   "cell_type": "markdown",
   "id": "a2aed8ea",
   "metadata": {},
   "source": [
    "### CHANGING IN PLACE"
   ]
  },
  {
   "cell_type": "markdown",
   "id": "8f7dd8a7",
   "metadata": {},
   "source": [
    "It’s fairly common to want to change the value of a variable based on its current value."
   ]
  },
  {
   "cell_type": "code",
   "execution_count": 14,
   "id": "e3549b26",
   "metadata": {},
   "outputs": [],
   "source": [
    "player_score = 4\n",
    "player_score = player_score + 1\n",
    "# player_score now equals 5"
   ]
  },
  {
   "cell_type": "code",
   "execution_count": 15,
   "id": "383d4f8a",
   "metadata": {},
   "outputs": [],
   "source": [
    "player_score = 4\n",
    "player_score = player_score - 1\n",
    "# player_score now equals 3"
   ]
  },
  {
   "cell_type": "markdown",
   "id": "b2ffea4e",
   "metadata": {},
   "source": [
    "Don’t let the fact that the expression player_score = player_score - 1 is not a valid mathematical expression be confusing. It doesn’t matter, it is valid code. It’s valid because the way the expression should be read in English is:"
   ]
  },
  {
   "cell_type": "code",
   "execution_count": 16,
   "id": "b782e02c",
   "metadata": {},
   "outputs": [],
   "source": [
    "player_score = player_score - 1"
   ]
  },
  {
   "cell_type": "markdown",
   "id": "413b4e3c",
   "metadata": {},
   "source": [
    "Assign to player_score the old value of player_score minus 1"
   ]
  },
  {
   "cell_type": "markdown",
   "id": "71a91fe5",
   "metadata": {},
   "source": [
    "### PLUS EQUALS"
   ]
  },
  {
   "cell_type": "markdown",
   "id": "8cfa6309",
   "metadata": {},
   "source": [
    "Python makes reassignment easy when doing math. In JavaScript or Go you might be familiar with the ++ syntax for incrementing a number variable. In Python, we use the += operator instead."
   ]
  },
  {
   "cell_type": "code",
   "execution_count": 17,
   "id": "b49b6679",
   "metadata": {},
   "outputs": [],
   "source": [
    "star_rating = 4\n",
    "star_rating += 1\n",
    "# star_rating is now 5"
   ]
  },
  {
   "cell_type": "markdown",
   "id": "7ab9869d",
   "metadata": {},
   "source": [
    "### SCIENTIFIC NOTATION"
   ]
  },
  {
   "cell_type": "markdown",
   "id": "11ee430a",
   "metadata": {},
   "source": [
    "As we covered earlier, a float is a positive or negative number with a fractional part."
   ]
  },
  {
   "cell_type": "markdown",
   "id": "ed6c95c1",
   "metadata": {},
   "source": [
    "You can add the letter e or E followed by a positive or negative integer to specify that you’re using scientific notation."
   ]
  },
  {
   "cell_type": "code",
   "execution_count": 18,
   "id": "d0cbe6e0",
   "metadata": {},
   "outputs": [
    {
     "ename": "NameError",
     "evalue": "name 'e' is not defined",
     "output_type": "error",
     "traceback": [
      "\u001b[1;31m---------------------------------------------------------------------------\u001b[0m",
      "\u001b[1;31mNameError\u001b[0m                                 Traceback (most recent call last)",
      "\u001b[1;32m~\\AppData\\Local\\Temp\\ipykernel_7680\\2740565805.py\u001b[0m in \u001b[0;36m<module>\u001b[1;34m\u001b[0m\n\u001b[1;32m----> 1\u001b[1;33m \u001b[0me\u001b[0m\u001b[1;33m\u001b[0m\u001b[1;33m\u001b[0m\u001b[0m\n\u001b[0m",
      "\u001b[1;31mNameError\u001b[0m: name 'e' is not defined"
     ]
    }
   ],
   "source": [
    "e"
   ]
  },
  {
   "cell_type": "code",
   "execution_count": null,
   "id": "b40d5e73",
   "metadata": {},
   "outputs": [],
   "source": [
    "print(16e3)\n",
    "# Prints 16000.0\n",
    "\n",
    "print(7.1e-2)\n",
    "# Prints 0.071"
   ]
  },
  {
   "cell_type": "markdown",
   "id": "0db298b7",
   "metadata": {},
   "source": [
    "If you’re not familiar with scientific notation, it’s a way of expressing numbers that are too large or too small to conveniently write normally."
   ]
  },
  {
   "cell_type": "markdown",
   "id": "5a5f27c0",
   "metadata": {},
   "source": [
    "In a nutshell, the number following the e specifies how many places to move the decimal to the right for a positive number, or to the left for a negative number."
   ]
  },
  {
   "cell_type": "markdown",
   "id": "41ada8de",
   "metadata": {},
   "source": [
    "### UNDERSCORES FOR READABILITY"
   ]
  },
  {
   "cell_type": "code",
   "execution_count": null,
   "id": "a6916cb5",
   "metadata": {},
   "outputs": [],
   "source": [
    "e"
   ]
  },
  {
   "cell_type": "markdown",
   "id": "80a8e525",
   "metadata": {},
   "source": [
    "Python also allows you to represent large numbers in the decimal format using underscores instead of commas to make it easier to read."
   ]
  },
  {
   "cell_type": "code",
   "execution_count": null,
   "id": "d16011db",
   "metadata": {},
   "outputs": [],
   "source": [
    "num = 16_000\n",
    "print(num)\n",
    "# Prints 16000\n",
    "\n",
    "num = 16_000_000\n",
    "print(num)\n",
    "# Prints 16000000"
   ]
  },
  {
   "cell_type": "markdown",
   "id": "659b83e0",
   "metadata": {},
   "source": [
    "# LOGICAL OPERATORS"
   ]
  },
  {
   "cell_type": "markdown",
   "id": "8e14beba",
   "metadata": {},
   "source": [
    "You’re probably familiar with the logical operators AND and OR."
   ]
  },
  {
   "cell_type": "code",
   "execution_count": null,
   "id": "34826d9b",
   "metadata": {},
   "outputs": [],
   "source": [
    "AND"
   ]
  },
  {
   "cell_type": "code",
   "execution_count": null,
   "id": "655bd152",
   "metadata": {},
   "outputs": [],
   "source": [
    "OR"
   ]
  },
  {
   "cell_type": "markdown",
   "id": "f4e72a3f",
   "metadata": {},
   "source": [
    "Logical operators deal with boolean values, True and False."
   ]
  },
  {
   "cell_type": "code",
   "execution_count": null,
   "id": "c53f8c54",
   "metadata": {},
   "outputs": [],
   "source": [
    "True"
   ]
  },
  {
   "cell_type": "code",
   "execution_count": null,
   "id": "3f6f0bdd",
   "metadata": {},
   "outputs": [],
   "source": [
    "False"
   ]
  },
  {
   "cell_type": "markdown",
   "id": "b8a53263",
   "metadata": {},
   "source": [
    "The logical AND operator requires that both inputs are True to return True. The logical OR operator only requires that at least one input is True to return True."
   ]
  },
  {
   "cell_type": "markdown",
   "id": "07e1da14",
   "metadata": {},
   "source": [
    "For example:"
   ]
  },
  {
   "cell_type": "code",
   "execution_count": null,
   "id": "31210ace",
   "metadata": {},
   "outputs": [],
   "source": [
    "True AND True = True\n",
    "True AND False = False\n",
    "False AND False = False\n",
    "\n",
    "True OR True = True\n",
    "True OR False = True\n",
    "False OR False = False"
   ]
  },
  {
   "cell_type": "markdown",
   "id": "a26443ae",
   "metadata": {},
   "source": [
    "### PYTHON SYNTAX"
   ]
  },
  {
   "cell_type": "code",
   "execution_count": null,
   "id": "531b26ae",
   "metadata": {},
   "outputs": [],
   "source": [
    "print(True and True)\n",
    "# prints True\n",
    "\n",
    "print(True or False)\n",
    "# prints True"
   ]
  },
  {
   "cell_type": "markdown",
   "id": "3b2d6296",
   "metadata": {},
   "source": [
    "### NESTING WITH PARENTHESES"
   ]
  },
  {
   "cell_type": "markdown",
   "id": "1cb5e0ac",
   "metadata": {},
   "source": [
    "We can nest logical expressions using parentheses."
   ]
  },
  {
   "cell_type": "code",
   "execution_count": null,
   "id": "1de20aa5",
   "metadata": {},
   "outputs": [],
   "source": [
    "print((True or False) and False)"
   ]
  },
  {
   "cell_type": "markdown",
   "id": "75a7c53a",
   "metadata": {},
   "source": [
    "First, we evaluate the expression in the parentheses, (True or False). It evaluates to True:"
   ]
  },
  {
   "cell_type": "code",
   "execution_count": null,
   "id": "5ed16ba3",
   "metadata": {},
   "outputs": [],
   "source": [
    "True"
   ]
  },
  {
   "cell_type": "code",
   "execution_count": null,
   "id": "6646d4cf",
   "metadata": {},
   "outputs": [],
   "source": [
    "print(True and False)"
   ]
  },
  {
   "cell_type": "markdown",
   "id": "c2b260ed",
   "metadata": {},
   "source": [
    "True and False evaluates to False:"
   ]
  },
  {
   "cell_type": "code",
   "execution_count": null,
   "id": "ab2b05c6",
   "metadata": {},
   "outputs": [],
   "source": [
    "False"
   ]
  },
  {
   "cell_type": "code",
   "execution_count": null,
   "id": "bf23ce09",
   "metadata": {},
   "outputs": [],
   "source": [
    "print(False)"
   ]
  },
  {
   "cell_type": "markdown",
   "id": "907a95bd",
   "metadata": {},
   "source": [
    "So, print((True or False) and False) prints “False” to the console."
   ]
  },
  {
   "cell_type": "markdown",
   "id": "991b93ff",
   "metadata": {},
   "source": [
    "## BINARY NUMBERS"
   ]
  },
  {
   "cell_type": "markdown",
   "id": "a14856d7",
   "metadata": {},
   "source": [
    "Binary numbers are just “base 2” numbers. They work the same way as “normal” base 10 numbers, but with 2 symbols instead of 10."
   ]
  },
  {
   "cell_type": "markdown",
   "id": "3337ace3",
   "metadata": {},
   "source": [
    "Each 1 in a binary number represents a greater multiple of 2. In a 4-digit number, that means you have the eight’s place, the four’s place, the two’s place, and the one’s place. Similar to how in decimal you would have the thousandth’s place, the hundredth’s place, the ten’s place, and the one’s place."
   ]
  },
  {
   "cell_type": "markdown",
   "id": "a5e3baba",
   "metadata": {},
   "source": [
    "0001 = 1,\n",
    "0010 = 2,\n",
    "0011 = 3,\n",
    "0100 = 4,\n",
    "0101 = 5,\n",
    "0110 = 6,\n",
    "0111 = 7,\n",
    "1000 = 8."
   ]
  },
  {
   "cell_type": "markdown",
   "id": "96ce7c74",
   "metadata": {},
   "source": [
    "## BITWISE “&” OPERATOR"
   ]
  },
  {
   "cell_type": "markdown",
   "id": "d259239f",
   "metadata": {},
   "source": [
    "Bitwise operators are similar to logical operators, but instead of operating on boolean values, they apply the same logic to all the bits in a value. For example, say you had the numbers 5 and 7 represented in binary. You could perform a bitwise AND operation and the result would be 5."
   ]
  },
  {
   "cell_type": "code",
   "execution_count": null,
   "id": "ae2e2e43",
   "metadata": {},
   "outputs": [],
   "source": [
    "0101 = 5\n",
    "&\n",
    "0111 = 7\n",
    "=\n",
    "0101 = 5"
   ]
  },
  {
   "cell_type": "markdown",
   "id": "c71137cb",
   "metadata": {},
   "source": [
    "A 1 in binary is the same as True, while 0 is False. So really a bitwise operation is just a bunch of logical operations that are completed in tandem."
   ]
  },
  {
   "cell_type": "code",
   "execution_count": null,
   "id": "4b7c2c8b",
   "metadata": {},
   "outputs": [],
   "source": [
    "1"
   ]
  },
  {
   "cell_type": "code",
   "execution_count": null,
   "id": "42eedfea",
   "metadata": {},
   "outputs": [],
   "source": [
    "True"
   ]
  },
  {
   "cell_type": "code",
   "execution_count": null,
   "id": "7c9932cc",
   "metadata": {},
   "outputs": [],
   "source": [
    "0"
   ]
  },
  {
   "cell_type": "code",
   "execution_count": null,
   "id": "041276dc",
   "metadata": {},
   "outputs": [],
   "source": [
    "False"
   ]
  },
  {
   "cell_type": "markdown",
   "id": "9ed2ed4e",
   "metadata": {},
   "source": [
    "& is the bitwise AND operator in Python. 5 & 7 = 5, while 5 & 2 = 0."
   ]
  },
  {
   "cell_type": "code",
   "execution_count": null,
   "id": "2c7a6690",
   "metadata": {},
   "outputs": [],
   "source": [
    "&"
   ]
  },
  {
   "cell_type": "code",
   "execution_count": null,
   "id": "28e5747d",
   "metadata": {},
   "outputs": [],
   "source": [
    "AND"
   ]
  },
  {
   "cell_type": "code",
   "execution_count": null,
   "id": "30ce61c2",
   "metadata": {},
   "outputs": [],
   "source": [
    "5 & 7 = 5"
   ]
  },
  {
   "cell_type": "code",
   "execution_count": null,
   "id": "d62f1a58",
   "metadata": {},
   "outputs": [],
   "source": [
    "5 & 2 = 0"
   ]
  },
  {
   "cell_type": "code",
   "execution_count": null,
   "id": "3595bd22",
   "metadata": {},
   "outputs": [],
   "source": [
    "0101 = 5\n",
    "&\n",
    "0010 = 2\n",
    "=\n",
    "0000 = 0"
   ]
  },
  {
   "cell_type": "markdown",
   "id": "0e6b5180",
   "metadata": {},
   "source": [
    "##  BINARY NOTATION \n",
    "When writing a number in binary, the prefix 0b is used to indicate that what follows is a binary number.\n",
    "\n",
    "0b0101 is 5\n",
    "0b0111 is 7"
   ]
  },
  {
   "cell_type": "markdown",
   "id": "9e8d14d4",
   "metadata": {},
   "source": [
    "### BITWISE “|” OPERATOR"
   ]
  },
  {
   "cell_type": "markdown",
   "id": "d5483de3",
   "metadata": {},
   "source": [
    "As you may have guessed, the bitwise “or” operator is similar to the bitwise “and” operator in that it works on binary rather than boolean values. However, the bitwise “or” operator “ORs” the bits together. Here’s an example:"
   ]
  },
  {
   "cell_type": "code",
   "execution_count": 19,
   "id": "e90d0092",
   "metadata": {},
   "outputs": [
    {
     "ename": "SyntaxError",
     "evalue": "leading zeros in decimal integer literals are not permitted; use an 0o prefix for octal integers (3888481892.py, line 1)",
     "output_type": "error",
     "traceback": [
      "\u001b[1;36m  File \u001b[1;32m\"C:\\Users\\A0005Y744\\AppData\\Local\\Temp\\ipykernel_7680\\3888481892.py\"\u001b[1;36m, line \u001b[1;32m1\u001b[0m\n\u001b[1;33m    0101\u001b[0m\n\u001b[1;37m       ^\u001b[0m\n\u001b[1;31mSyntaxError\u001b[0m\u001b[1;31m:\u001b[0m leading zeros in decimal integer literals are not permitted; use an 0o prefix for octal integers\n"
     ]
    }
   ],
   "source": [
    "0101"
   ]
  },
  {
   "cell_type": "code",
   "execution_count": null,
   "id": "84e2b0df",
   "metadata": {},
   "outputs": [],
   "source": [
    "0111"
   ]
  },
  {
   "cell_type": "code",
   "execution_count": null,
   "id": "61530b54",
   "metadata": {},
   "outputs": [],
   "source": [
    "0101\n",
    "|     \n",
    "0111\n",
    "=\n",
    "0111"
   ]
  },
  {
   "cell_type": "markdown",
   "id": "292a88af",
   "metadata": {},
   "source": [
    "A 1 in binary is the same as True, while 0 is False. So a bitwise operation is just a bunch of logical operations that are completed in tandem. When two binary numbers are “OR’ed” together, the result has a 1 in any place where either of the input numbers has a 1 in that place."
   ]
  },
  {
   "cell_type": "markdown",
   "id": "ada07740",
   "metadata": {},
   "source": [
    "| is the bitwise OR operator in Python. 5 | 7 = 7 and 5 | 2 = 7 as well!"
   ]
  },
  {
   "cell_type": "code",
   "execution_count": null,
   "id": "d7e076ea",
   "metadata": {},
   "outputs": [],
   "source": [
    "0101 = 5\n",
    "|\n",
    "0010 = 2\n",
    "=\n",
    "0111 = 7"
   ]
  },
  {
   "cell_type": "markdown",
   "id": "574bde4d",
   "metadata": {},
   "source": [
    "We skipped a very important logical operator - not. The not operator reverses the result. It returns False if the input was True and vice-versa."
   ]
  },
  {
   "cell_type": "code",
   "execution_count": null,
   "id": "6f159ef2",
   "metadata": {},
   "outputs": [],
   "source": [
    "print(not True)\n",
    "# Prints: False\n",
    "\n",
    "print(not False)\n",
    "# Prints: True"
   ]
  },
  {
   "cell_type": "markdown",
   "id": "2005bace",
   "metadata": {},
   "source": [
    "# COMPARISONS"
   ]
  },
  {
   "cell_type": "markdown",
   "id": "f81d84fa",
   "metadata": {},
   "source": [
    "# comparison operators"
   ]
  },
  {
   "cell_type": "markdown",
   "id": "e65fac58",
   "metadata": {},
   "source": [
    "When coding it’s necessary to be able to compare two values. Boolean logic is the name for these kinds of comparison operations that always result in True or False."
   ]
  },
  {
   "cell_type": "code",
   "execution_count": null,
   "id": "088d2448",
   "metadata": {},
   "outputs": [],
   "source": [
    "True"
   ]
  },
  {
   "cell_type": "code",
   "execution_count": null,
   "id": "92294655",
   "metadata": {},
   "outputs": [],
   "source": [
    "False"
   ]
  },
  {
   "cell_type": "markdown",
   "id": "a98fe2f1",
   "metadata": {},
   "source": [
    "The operators:"
   ]
  },
  {
   "cell_type": "raw",
   "id": "8adb348e",
   "metadata": {},
   "source": [
    "<"
   ]
  },
  {
   "cell_type": "raw",
   "id": "4d8d5e15",
   "metadata": {},
   "source": [
    ">"
   ]
  },
  {
   "cell_type": "raw",
   "id": "9f89bf39",
   "metadata": {},
   "source": [
    "<="
   ]
  },
  {
   "cell_type": "raw",
   "id": "ed93f115",
   "metadata": {},
   "source": [
    ">="
   ]
  },
  {
   "cell_type": "raw",
   "id": "3011143b",
   "metadata": {},
   "source": [
    "=="
   ]
  },
  {
   "cell_type": "raw",
   "id": "c63e9c06",
   "metadata": {},
   "source": [
    "!="
   ]
  },
  {
   "cell_type": "markdown",
   "id": "a7a7f8c9",
   "metadata": {},
   "source": [
    "For example:"
   ]
  },
  {
   "cell_type": "code",
   "execution_count": 20,
   "id": "c105c554",
   "metadata": {},
   "outputs": [
    {
     "data": {
      "text/plain": [
       "True"
      ]
     },
     "execution_count": 20,
     "metadata": {},
     "output_type": "execute_result"
    }
   ],
   "source": [
    "5 < 6 # evaluates to True\n",
    "5 > 6 # evaluates to False\n",
    "5 >= 6 # evaluates to False\n",
    "5 <= 6 # evaluates to True\n",
    "5 == 6 # evaluates to False\n",
    "5 != 6 # evaluates to True"
   ]
  },
  {
   "cell_type": "markdown",
   "id": "a5e36286",
   "metadata": {},
   "source": [
    "### Evaluations"
   ]
  },
  {
   "cell_type": "markdown",
   "id": "0cf9f90f",
   "metadata": {},
   "source": [
    "When a comparison happens, the result of the comparison is just a boolean value, it’s either True or False."
   ]
  },
  {
   "cell_type": "code",
   "execution_count": 21,
   "id": "1a57a384",
   "metadata": {},
   "outputs": [
    {
     "data": {
      "text/plain": [
       "True"
      ]
     },
     "execution_count": 21,
     "metadata": {},
     "output_type": "execute_result"
    }
   ],
   "source": [
    "True"
   ]
  },
  {
   "cell_type": "code",
   "execution_count": 22,
   "id": "49223efa",
   "metadata": {},
   "outputs": [
    {
     "data": {
      "text/plain": [
       "False"
      ]
     },
     "execution_count": 22,
     "metadata": {},
     "output_type": "execute_result"
    }
   ],
   "source": [
    "False"
   ]
  },
  {
   "cell_type": "markdown",
   "id": "3aacd85e",
   "metadata": {},
   "source": [
    "Take the following two examples:"
   ]
  },
  {
   "cell_type": "code",
   "execution_count": 23,
   "id": "8993e3f9",
   "metadata": {},
   "outputs": [],
   "source": [
    "is_bigger = 5 > 4"
   ]
  },
  {
   "cell_type": "code",
   "execution_count": 24,
   "id": "78ff20ee",
   "metadata": {},
   "outputs": [],
   "source": [
    "is_bigger = True"
   ]
  },
  {
   "cell_type": "markdown",
   "id": "9b43ad50",
   "metadata": {},
   "source": [
    "In both of the above cases, we’re creating a Boolean variable called is_bigger with a value of True."
   ]
  },
  {
   "cell_type": "markdown",
   "id": "a0ac40a9",
   "metadata": {},
   "source": [
    "Since 5 > 4, is_bigger is always assigned the value of True."
   ]
  },
  {
   "cell_type": "code",
   "execution_count": 25,
   "id": "debdafbb",
   "metadata": {},
   "outputs": [
    {
     "data": {
      "text/plain": [
       "True"
      ]
     },
     "execution_count": 25,
     "metadata": {},
     "output_type": "execute_result"
    }
   ],
   "source": [
    "True"
   ]
  },
  {
   "cell_type": "markdown",
   "id": "da95eecb",
   "metadata": {},
   "source": [
    "### WHY WOULD I USE THE COMPARISON IF I CAN JUST SET IT TO “TRUE”?"
   ]
  },
  {
   "cell_type": "markdown",
   "id": "71ff0f23",
   "metadata": {},
   "source": [
    "You wouldn’t in this case. However, let’s imagine that instead of hard-coding the numbers 5 and 4, we had some dynamic variables that we don’t know the values of. For example, perhaps you’re making a video game and need to keep track of player scores."
   ]
  },
  {
   "cell_type": "code",
   "execution_count": 26,
   "id": "c9d54652",
   "metadata": {},
   "outputs": [
    {
     "data": {
      "text/plain": [
       "5"
      ]
     },
     "execution_count": 26,
     "metadata": {},
     "output_type": "execute_result"
    }
   ],
   "source": [
    "5"
   ]
  },
  {
   "cell_type": "code",
   "execution_count": 27,
   "id": "cde2e18a",
   "metadata": {},
   "outputs": [
    {
     "data": {
      "text/plain": [
       "4"
      ]
     },
     "execution_count": 27,
     "metadata": {},
     "output_type": "execute_result"
    }
   ],
   "source": [
    "4"
   ]
  },
  {
   "cell_type": "markdown",
   "id": "ca581bfe",
   "metadata": {},
   "source": [
    "To calculate who wins, you would need to write something like:"
   ]
  },
  {
   "cell_type": "raw",
   "id": "bb46b4c6",
   "metadata": {},
   "source": [
    "# player_one_points and player_two_points are defined and change somewhere else in the game's code\n",
    "player_one_wins = player_one_points > player_two_points\n",
    "print(player_one_wins)\n",
    "\n",
    "# prints \"True\" when player one is winning, otherwise prints \"False\""
   ]
  },
  {
   "cell_type": "markdown",
   "id": "fe993c40",
   "metadata": {},
   "source": [
    "### Increment/decrement"
   ]
  },
  {
   "cell_type": "markdown",
   "id": "daaa69cd",
   "metadata": {},
   "source": [
    "If we’re changing a number and simply want to increment (add to) or decrement (subtract from) there are special operators for that."
   ]
  },
  {
   "cell_type": "code",
   "execution_count": 28,
   "id": "52584022",
   "metadata": {},
   "outputs": [],
   "source": [
    "shield_armor = 4\n",
    "shield_armor += 1\n",
    "# shield_armor now equals 5\n",
    "shield_armor += 2\n",
    "# shield_armor now equals 7"
   ]
  },
  {
   "cell_type": "code",
   "execution_count": 29,
   "id": "74e30945",
   "metadata": {},
   "outputs": [],
   "source": [
    "shield_armor = 4\n",
    "shield_armor -= 1\n",
    "# shield_armor now equals 3\n",
    "shield_armor -= 2\n",
    "# shield_armor now equals 1"
   ]
  },
  {
   "cell_type": "markdown",
   "id": "3a0b427d",
   "metadata": {},
   "source": [
    "Notice that shield_armor+=1 is just short-hand for shield_armor = shield_armor + 1"
   ]
  },
  {
   "cell_type": "code",
   "execution_count": 30,
   "id": "7f3152e6",
   "metadata": {},
   "outputs": [],
   "source": [
    "shield_armor+=1"
   ]
  },
  {
   "cell_type": "code",
   "execution_count": 31,
   "id": "ee56a684",
   "metadata": {},
   "outputs": [],
   "source": [
    "shield_armor = shield_armor + 1"
   ]
  },
  {
   "cell_type": "markdown",
   "id": "7a166a7f",
   "metadata": {},
   "source": [
    "It’s often useful to only execute code if a certain condition is met:"
   ]
  },
  {
   "cell_type": "markdown",
   "id": "cb4fba24",
   "metadata": {},
   "source": [
    "## If statement"
   ]
  },
  {
   "cell_type": "raw",
   "id": "43c36f95",
   "metadata": {},
   "source": [
    "if CONDITION:\n",
    "  # do some stuff here"
   ]
  },
  {
   "cell_type": "markdown",
   "id": "2a2ae9cd",
   "metadata": {},
   "source": [
    "for example:"
   ]
  },
  {
   "cell_type": "code",
   "execution_count": 32,
   "id": "d73b9a2c",
   "metadata": {},
   "outputs": [
    {
     "name": "stdout",
     "output_type": "stream",
     "text": [
      "Bob Wins!\n"
     ]
    }
   ],
   "source": [
    "bob_score = 2\n",
    "bill_score = 1\n",
    "if bob_score > bill_score:\n",
    "  print(\"Bob Wins!\")"
   ]
  },
  {
   "cell_type": "markdown",
   "id": "f52d7998",
   "metadata": {},
   "source": [
    "An if statement can be followed by zero or more elif (which stands for “else if”) statements, which can be followed by zero or one else statement. For example:"
   ]
  },
  {
   "cell_type": "markdown",
   "id": "e4b1c43c",
   "metadata": {},
   "source": [
    "### If-Else"
   ]
  },
  {
   "cell_type": "raw",
   "id": "9e737e78",
   "metadata": {},
   "source": [
    "if score > high_Score:\n",
    "    print('High score beat!')\n",
    "elif score > second_highest_score:\n",
    "    print('You got second place!')\n",
    "elif score > third_highest_score:\n",
    "    print('You got third place!')\n",
    "else:\n",
    "    print('Better luck next time')"
   ]
  },
  {
   "cell_type": "markdown",
   "id": "6144f250",
   "metadata": {},
   "source": [
    "First the if statement is evaluated. If it is True then the if statement’s body is executed and all the other elses are ignored."
   ]
  },
  {
   "cell_type": "markdown",
   "id": "09044155",
   "metadata": {},
   "source": [
    "If the first if is false then the next elif is evaluated. Likewise, if it is True then its body is executed and the rest are ignored."
   ]
  },
  {
   "cell_type": "markdown",
   "id": "f9a6fd2a",
   "metadata": {},
   "source": [
    "If none of the if statements evaluate to True then the final else statement will be the only body executed."
   ]
  },
  {
   "cell_type": "raw",
   "id": "e7a19188",
   "metadata": {},
   "source": [
    "IF-ELSE RULES \n",
    "You can’t have an elif or an else without an if\n",
    "You can have an else without an elif"
   ]
  },
  {
   "cell_type": "markdown",
   "id": "9c10f479",
   "metadata": {},
   "source": [
    "## LOOPS"
   ]
  },
  {
   "cell_type": "markdown",
   "id": "cc196b28",
   "metadata": {},
   "source": [
    "Loops are a programmer’s best friend. Loops allow us to do the same operation multiple times without having to write it explicitly each time."
   ]
  },
  {
   "cell_type": "markdown",
   "id": "2cf152af",
   "metadata": {},
   "source": [
    "For example, let’s pretend I want to print the numbers 0-9."
   ]
  },
  {
   "cell_type": "markdown",
   "id": "321bea20",
   "metadata": {},
   "source": [
    "I could do this:"
   ]
  },
  {
   "cell_type": "code",
   "execution_count": 33,
   "id": "cf8172a0",
   "metadata": {},
   "outputs": [
    {
     "name": "stdout",
     "output_type": "stream",
     "text": [
      "0\n",
      "1\n",
      "2\n",
      "3\n",
      "4\n",
      "5\n",
      "6\n",
      "7\n",
      "8\n",
      "9\n"
     ]
    }
   ],
   "source": [
    "print(0)\n",
    "print(1)\n",
    "print(2)\n",
    "print(3)\n",
    "print(4)\n",
    "print(5)\n",
    "print(6)\n",
    "print(7)\n",
    "print(8)\n",
    "print(9)"
   ]
  },
  {
   "cell_type": "markdown",
   "id": "898a913b",
   "metadata": {},
   "source": [
    "Even so, it would save me a lot of time typing to use a loop. Especially if I wanted to do the same thing one thousand or one million times."
   ]
  },
  {
   "cell_type": "markdown",
   "id": "b93f64e4",
   "metadata": {},
   "source": [
    "A “for loop” in Python is written like this:"
   ]
  },
  {
   "cell_type": "code",
   "execution_count": 34,
   "id": "fa3ef2f9",
   "metadata": {},
   "outputs": [
    {
     "name": "stdout",
     "output_type": "stream",
     "text": [
      "0\n",
      "1\n",
      "2\n",
      "3\n",
      "4\n",
      "5\n",
      "6\n",
      "7\n",
      "8\n",
      "9\n"
     ]
    }
   ],
   "source": [
    "for i in range(0, 10):\n",
    "    print(i)"
   ]
  },
  {
   "cell_type": "markdown",
   "id": "021e3e64",
   "metadata": {},
   "source": [
    "In English, the code says:"
   ]
  },
  {
   "cell_type": "raw",
   "id": "7646e60f",
   "metadata": {},
   "source": [
    "1.Start with i equals 0. (i in range(0)\n",
    "2.If i is not less than 10 (range(0, 10)), exit the loop.\n",
    "3.Print i to the console. (print(i))\n",
    "4.Add 1 to i. (range defaults to incrementing by 1)\n",
    "5.Go back to step 2\n",
    "6.The result is that the numbers 0-9 are logged to the console in order."
   ]
  },
  {
   "cell_type": "markdown",
   "id": "f091ef72",
   "metadata": {},
   "source": [
    "### WHITESPACE MATTERS IN PYTHON!"
   ]
  },
  {
   "cell_type": "markdown",
   "id": "64ae41b4",
   "metadata": {},
   "source": [
    "The body of a for-loop must be indented, otherwise you’ll get a syntax error."
   ]
  },
  {
   "cell_type": "markdown",
   "id": "59dbb565",
   "metadata": {},
   "source": [
    "This code print the numbers 0-9 to the console."
   ]
  },
  {
   "cell_type": "code",
   "execution_count": 35,
   "id": "bfc07323",
   "metadata": {},
   "outputs": [
    {
     "name": "stdout",
     "output_type": "stream",
     "text": [
      "0\n",
      "1\n",
      "2\n",
      "3\n",
      "4\n",
      "5\n",
      "6\n",
      "7\n",
      "8\n",
      "9\n"
     ]
    }
   ],
   "source": [
    "for i in range(0, 10):\n",
    "    print(i)"
   ]
  },
  {
   "cell_type": "markdown",
   "id": "eca303bd",
   "metadata": {},
   "source": [
    "### RANGE CONTINUED"
   ]
  },
  {
   "cell_type": "markdown",
   "id": "65fbf63b",
   "metadata": {},
   "source": [
    "The range() function we’ve been using in our for loops actually has an optional 3rd parameter: the “step”."
   ]
  },
  {
   "cell_type": "code",
   "execution_count": 36,
   "id": "994dabfe",
   "metadata": {},
   "outputs": [
    {
     "name": "stdout",
     "output_type": "stream",
     "text": [
      "0\n",
      "2\n",
      "4\n",
      "6\n",
      "8\n"
     ]
    }
   ],
   "source": [
    "for i in range(0, 10, 2):\n",
    "    print(i)\n",
    "# prints:\n",
    "# 0\n",
    "# 2\n",
    "# 4\n",
    "# 6\n",
    "# 8"
   ]
  },
  {
   "cell_type": "markdown",
   "id": "b9eceeb4",
   "metadata": {},
   "source": [
    "The “step” parameter determines how much to increment i by in each iteration of the loop. You can even go backwards:"
   ]
  },
  {
   "cell_type": "code",
   "execution_count": 37,
   "id": "c8871c76",
   "metadata": {},
   "outputs": [
    {
     "data": {
      "text/plain": [
       "8"
      ]
     },
     "execution_count": 37,
     "metadata": {},
     "output_type": "execute_result"
    }
   ],
   "source": [
    "i"
   ]
  },
  {
   "cell_type": "code",
   "execution_count": 38,
   "id": "2082f8a6",
   "metadata": {},
   "outputs": [
    {
     "name": "stdout",
     "output_type": "stream",
     "text": [
      "3\n",
      "2\n",
      "1\n"
     ]
    }
   ],
   "source": [
    "for i in range(3, 0, -1):\n",
    "    print(i)\n",
    "# prints:\n",
    "# 3\n",
    "# 2\n",
    "# 1"
   ]
  },
  {
   "cell_type": "markdown",
   "id": "751fd21f",
   "metadata": {},
   "source": [
    "You can create a string with dynamic values by using f-strings in Python. It’s a beautiful syntax that I wish more programming languages used."
   ]
  },
  {
   "cell_type": "markdown",
   "id": "0f49f6ce",
   "metadata": {},
   "source": [
    "### f-strings in python"
   ]
  },
  {
   "cell_type": "code",
   "execution_count": 39,
   "id": "9589da22",
   "metadata": {},
   "outputs": [
    {
     "name": "stdout",
     "output_type": "stream",
     "text": [
      "You have 10 bananas\n"
     ]
    }
   ],
   "source": [
    "num_bananas = 10\n",
    "print(f\"You have {num_bananas} bananas\")\n",
    "# You have 10 bananas"
   ]
  },
  {
   "cell_type": "markdown",
   "id": "e5fb46aa",
   "metadata": {},
   "source": [
    "The opening quotes need to be proceeded by an f, then any variables within curly brackets have their values interpolated into the string."
   ]
  },
  {
   "cell_type": "markdown",
   "id": "7f06d4b1",
   "metadata": {},
   "source": [
    "# Lists and their functions"
   ]
  },
  {
   "cell_type": "markdown",
   "id": "06c0ff37",
   "metadata": {},
   "source": [
    "A natural way to organize and store data is in the form of a List. Some languages call them “arrays”, but in Python we just call them lists. Think of all the apps you use and how many of the items in the app are organized into lists."
   ]
  },
  {
   "cell_type": "markdown",
   "id": "6f487241",
   "metadata": {},
   "source": [
    "For example:"
   ]
  },
  {
   "cell_type": "markdown",
   "id": "5588d233",
   "metadata": {},
   "source": [
    "Lists in Python are declared using square brackets, with commas separating each item:"
   ]
  },
  {
   "cell_type": "code",
   "execution_count": 40,
   "id": "6e13ca71",
   "metadata": {},
   "outputs": [],
   "source": [
    "inventory = [\"Iron Breastplate\", \"Healing Potion\", \"Leather Scraps\"]"
   ]
  },
  {
   "cell_type": "markdown",
   "id": "b4d3b572",
   "metadata": {},
   "source": [
    "Arrays can contain items of any data type, in our example above we have a List of strings."
   ]
  },
  {
   "cell_type": "markdown",
   "id": "762aa67d",
   "metadata": {},
   "source": [
    "### VERTICAL SYNTAX"
   ]
  },
  {
   "cell_type": "markdown",
   "id": "b4aef6b3",
   "metadata": {},
   "source": [
    "Sometimes when we’re manually creating lists it can be hard to read if all the items are on the same line of code. We can declare the array using multiple lines if we want to:"
   ]
  },
  {
   "cell_type": "code",
   "execution_count": 41,
   "id": "a81dfb0d",
   "metadata": {},
   "outputs": [],
   "source": [
    "flower_types = [\n",
    "    \"daffodil\",\n",
    "    \"rose\",\n",
    "    \"chrysanthemum\"\n",
    "]"
   ]
  },
  {
   "cell_type": "markdown",
   "id": "6e203a20",
   "metadata": {},
   "source": [
    "Keep in mind this is just a styling change. The code will run correctly either way."
   ]
  },
  {
   "cell_type": "markdown",
   "id": "becb61e2",
   "metadata": {},
   "source": [
    "In the world of programming, counting is a bit strange!"
   ]
  },
  {
   "cell_type": "markdown",
   "id": "aa6fa80b",
   "metadata": {},
   "source": [
    "We don’t start counting at 1, we start at 0 instead."
   ]
  },
  {
   "cell_type": "markdown",
   "id": "7301f7b5",
   "metadata": {},
   "source": [
    "## INDEXES"
   ]
  },
  {
   "cell_type": "markdown",
   "id": "5a1ef5bc",
   "metadata": {},
   "source": [
    "Each item in an array has an index that refers to its spot in the array."
   ]
  },
  {
   "cell_type": "markdown",
   "id": "374406f6",
   "metadata": {},
   "source": [
    "Take the following array as an example:"
   ]
  },
  {
   "cell_type": "code",
   "execution_count": 42,
   "id": "48748485",
   "metadata": {},
   "outputs": [],
   "source": [
    "names = [\"Bob\", \"Lane\", \"Alice\", \"Breanna\"]"
   ]
  },
  {
   "cell_type": "raw",
   "id": "6b5abe56",
   "metadata": {},
   "source": [
    "Index 0: Bob\n",
    "Index 1: Lane\n",
    "Index 2: Alice\n",
    "Index 3: Breanna"
   ]
  },
  {
   "cell_type": "markdown",
   "id": "8ba5cb45",
   "metadata": {},
   "source": [
    "## INDEXING INTO LISTS"
   ]
  },
  {
   "cell_type": "markdown",
   "id": "66887026",
   "metadata": {},
   "source": [
    "Now that we know how to create new lists, we need to know how to access specific items in the list."
   ]
  },
  {
   "cell_type": "markdown",
   "id": "50fcdc37",
   "metadata": {},
   "source": [
    "We access items in a list directly by using their index. Indexes start at 0 (the first item) and increment by one with each successive item. The syntax is as follows:"
   ]
  },
  {
   "cell_type": "code",
   "execution_count": 43,
   "id": "d59ceaf1",
   "metadata": {},
   "outputs": [
    {
     "name": "stdout",
     "output_type": "stream",
     "text": [
      "Go\n"
     ]
    }
   ],
   "source": [
    "best_languages = [\"JavaScript\", \"Go\", \"Rust\", \"Python\", \"C\"]\n",
    "print(best_languages[1])\n",
    "# prints \"Go\", because index 1 was provided"
   ]
  },
  {
   "cell_type": "markdown",
   "id": "b9f4184d",
   "metadata": {},
   "source": [
    "### LIST LENGTH"
   ]
  },
  {
   "cell_type": "markdown",
   "id": "4fedba79",
   "metadata": {},
   "source": [
    "The length of a List can be calculated using the len() function. Again, we’ll cover functions in detail later, but this is the syntax:"
   ]
  },
  {
   "cell_type": "raw",
   "id": "3815ccdc",
   "metadata": {},
   "source": [
    "len()"
   ]
  },
  {
   "cell_type": "code",
   "execution_count": 44,
   "id": "8d41488e",
   "metadata": {},
   "outputs": [],
   "source": [
    "fruits = [\"apple\", \"banana\", \"pear\"]\n",
    "length = len(fruits)\n",
    "# Prints: 3"
   ]
  },
  {
   "cell_type": "markdown",
   "id": "e9fbebc8",
   "metadata": {},
   "source": [
    "The length of the list is equal to the number of items present. Don’t be fooled by the fact that the length is not equal to the index of the last element, in fact it will always be one greater."
   ]
  },
  {
   "cell_type": "markdown",
   "id": "ab918988",
   "metadata": {},
   "source": [
    "### LIST UPDATES"
   ]
  },
  {
   "cell_type": "markdown",
   "id": "dda25389",
   "metadata": {},
   "source": [
    "We can also change the item that exists at a given index. For example, we can change Leather to Leather Armor in the inventory array in the following way:"
   ]
  },
  {
   "cell_type": "code",
   "execution_count": 45,
   "id": "a0f57e58",
   "metadata": {},
   "outputs": [],
   "source": [
    "inventory = [\"Leather\", \"Healing Potion\", \"Iron Ore\"]\n",
    "inventory[0] = \"Leather Armor\"\n",
    "# inventory: ['Leather Armor', 'Healing Potion', 'Iron Ore']"
   ]
  },
  {
   "cell_type": "markdown",
   "id": "a0e6cc94",
   "metadata": {},
   "source": [
    "### APPENDING IN PYTHON"
   ]
  },
  {
   "cell_type": "markdown",
   "id": "7a3dcb05",
   "metadata": {},
   "source": [
    "It’s common to create an empty list then fill it with values using a loop. We can add values to the end of a list using the .append() method:"
   ]
  },
  {
   "cell_type": "raw",
   "id": "cbf8ae6b",
   "metadata": {},
   "source": [
    ".append()"
   ]
  },
  {
   "cell_type": "code",
   "execution_count": 46,
   "id": "83b45833",
   "metadata": {},
   "outputs": [],
   "source": [
    "cards = []\n",
    "cards.append(\"nvidia\")\n",
    "cards.append(\"amd\")\n",
    "# the cards list is now ['nvidia', 'amd']"
   ]
  },
  {
   "cell_type": "markdown",
   "id": "199a2cd0",
   "metadata": {},
   "source": [
    "### POP VALUES"
   ]
  },
  {
   "cell_type": "markdown",
   "id": "ea0c072c",
   "metadata": {},
   "source": [
    ".pop() is the opposite of .append(). Pop removes the last element from the array and returns it for use. For example:"
   ]
  },
  {
   "cell_type": "code",
   "execution_count": 47,
   "id": "bfc449c7",
   "metadata": {},
   "outputs": [],
   "source": [
    "vegetables = [\"broccoli\", \"cabbage\", \"kale\", \"tomato\"];\n",
    "last_vegetable = vegetables.pop()\n",
    "# vegetables = ['broccoli', 'cabbage', 'kale']\n",
    "# last_vegetable = 'tomato'"
   ]
  },
  {
   "cell_type": "markdown",
   "id": "20f14a74",
   "metadata": {},
   "source": [
    "### COUNTING THE ITEMS IN A LIST"
   ]
  },
  {
   "cell_type": "markdown",
   "id": "6dd37333",
   "metadata": {},
   "source": [
    "Remember that we can iterate (count) over all the items in an array using a loop. For example, the following code will print each item in the sports array."
   ]
  },
  {
   "cell_type": "code",
   "execution_count": 48,
   "id": "435099ee",
   "metadata": {},
   "outputs": [
    {
     "ename": "NameError",
     "evalue": "name 'sports' is not defined",
     "output_type": "error",
     "traceback": [
      "\u001b[1;31m---------------------------------------------------------------------------\u001b[0m",
      "\u001b[1;31mNameError\u001b[0m                                 Traceback (most recent call last)",
      "\u001b[1;32m~\\AppData\\Local\\Temp\\ipykernel_7680\\3315665432.py\u001b[0m in \u001b[0;36m<module>\u001b[1;34m\u001b[0m\n\u001b[1;32m----> 1\u001b[1;33m \u001b[1;32mfor\u001b[0m \u001b[0mi\u001b[0m \u001b[1;32min\u001b[0m \u001b[0mrange\u001b[0m\u001b[1;33m(\u001b[0m\u001b[1;36m0\u001b[0m\u001b[1;33m,\u001b[0m \u001b[0mlen\u001b[0m\u001b[1;33m(\u001b[0m\u001b[0msports\u001b[0m\u001b[1;33m)\u001b[0m\u001b[1;33m)\u001b[0m\u001b[1;33m:\u001b[0m\u001b[1;33m\u001b[0m\u001b[1;33m\u001b[0m\u001b[0m\n\u001b[0m\u001b[0;32m      2\u001b[0m     \u001b[0mprint\u001b[0m\u001b[1;33m(\u001b[0m\u001b[0msports\u001b[0m\u001b[1;33m[\u001b[0m\u001b[0mi\u001b[0m\u001b[1;33m]\u001b[0m\u001b[1;33m)\u001b[0m\u001b[1;33m\u001b[0m\u001b[1;33m\u001b[0m\u001b[0m\n",
      "\u001b[1;31mNameError\u001b[0m: name 'sports' is not defined"
     ]
    }
   ],
   "source": [
    "for i in range(0, len(sports)):\n",
    "    print(sports[i])"
   ]
  },
  {
   "cell_type": "markdown",
   "id": "f1c3c8b1",
   "metadata": {},
   "source": [
    "### NO-INDEX SYNTAX"
   ]
  },
  {
   "cell_type": "markdown",
   "id": "7e0aadc6",
   "metadata": {},
   "source": [
    "In my opinion, Python has the most elegant syntax for iterating directly over the items in a list without worrying about index numbers. If you don’t need the index number you can use the following syntax:"
   ]
  },
  {
   "cell_type": "code",
   "execution_count": null,
   "id": "fa8c2a02",
   "metadata": {},
   "outputs": [],
   "source": [
    "trees = ['oak', 'pine', 'maple']\n",
    "for tree in trees:\n",
    "  print(tree)\n",
    "# Prints:\n",
    "# oak\n",
    "# pine\n",
    "# maple"
   ]
  },
  {
   "cell_type": "markdown",
   "id": "ce86d03f",
   "metadata": {},
   "source": [
    "tree, the variable declared using the in keyword, directly accesses the value in the array rather than the index of the value. If we don’t need to update the item, and only need to access its value then this is a more clean way to write the code."
   ]
  },
  {
   "cell_type": "markdown",
   "id": "a7807ea2",
   "metadata": {},
   "source": [
    "### FIND AN ITEM IN A LIST"
   ]
  },
  {
   "cell_type": "markdown",
   "id": "1a78cd2c",
   "metadata": {},
   "source": [
    "Example of “no-index” or “no-range” syntax:"
   ]
  },
  {
   "cell_type": "code",
   "execution_count": null,
   "id": "d2679f9d",
   "metadata": {},
   "outputs": [],
   "source": [
    "for fruit in fruits:\n",
    "    print(fruit)"
   ]
  },
  {
   "cell_type": "markdown",
   "id": "9a023bb1",
   "metadata": {},
   "source": [
    "### Modulo operator"
   ]
  },
  {
   "cell_type": "markdown",
   "id": "44f32745",
   "metadata": {},
   "source": [
    "For example, 7 modulo 2 would be 1, because 2 can be multiplied evenly into 7 at most 3 times:"
   ]
  },
  {
   "cell_type": "markdown",
   "id": "e562c629",
   "metadata": {},
   "source": [
    "Then there is 1 remaining to get from 6 to 7."
   ]
  },
  {
   "cell_type": "markdown",
   "id": "91986a06",
   "metadata": {},
   "source": [
    "7 - 6 = 1"
   ]
  },
  {
   "cell_type": "markdown",
   "id": "11dc7187",
   "metadata": {},
   "source": [
    "The d operator is the percent sign: %. It’s important to recognize modulo is not a percentage though! That’s just the symbol we’re using."
   ]
  },
  {
   "cell_type": "code",
   "execution_count": null,
   "id": "6869f5a5",
   "metadata": {},
   "outputs": [],
   "source": [
    "%"
   ]
  },
  {
   "cell_type": "code",
   "execution_count": 49,
   "id": "bd974dc7",
   "metadata": {},
   "outputs": [],
   "source": [
    "remainder = 8 % 3\n",
    "# remainder = 2"
   ]
  },
  {
   "cell_type": "markdown",
   "id": "9e374ae7",
   "metadata": {},
   "source": [
    "An odd number is a number that when divided by 2, the remainder is not 0."
   ]
  },
  {
   "cell_type": "markdown",
   "id": "fba388d9",
   "metadata": {},
   "source": [
    "### Slicing list"
   ]
  },
  {
   "cell_type": "markdown",
   "id": "d5f548ea",
   "metadata": {},
   "source": [
    "Python makes it easy to slice and dice lists to work only with the section you care about. One way to do this is to use the simple slicing operator, which is just a colon :."
   ]
  },
  {
   "cell_type": "markdown",
   "id": "9ba20744",
   "metadata": {},
   "source": [
    "With this operator, you can specify where to start and end the slice, and how to step through the original. List slicing returns a new list from the existing list."
   ]
  },
  {
   "cell_type": "markdown",
   "id": "0aa5e508",
   "metadata": {},
   "source": [
    "The syntax is as follows:"
   ]
  },
  {
   "cell_type": "raw",
   "id": "a286ec8e",
   "metadata": {},
   "source": [
    "Lst[ Initial : End : IndexJump ]"
   ]
  },
  {
   "cell_type": "code",
   "execution_count": 50,
   "id": "7fa25f4a",
   "metadata": {},
   "outputs": [
    {
     "name": "stdout",
     "output_type": "stream",
     "text": [
      "[70, 20]\n"
     ]
    }
   ],
   "source": [
    "scores = [50, 70, 30, 20, 90, 10, 50]\n",
    "# Display list\n",
    "print(scores[1:5:2])\n",
    "# Prints [70, 20]"
   ]
  },
  {
   "cell_type": "markdown",
   "id": "6b341863",
   "metadata": {},
   "source": [
    "The above reads as “give me a slice of the scores list from index 1, up to but not including 5, skipping every 2nd value. All of the sections are optional."
   ]
  },
  {
   "cell_type": "code",
   "execution_count": 51,
   "id": "c1cb2a57",
   "metadata": {},
   "outputs": [
    {
     "data": {
      "text/plain": [
       "[50, 70, 30, 20, 90, 10, 50]"
      ]
     },
     "execution_count": 51,
     "metadata": {},
     "output_type": "execute_result"
    }
   ],
   "source": [
    "scores"
   ]
  },
  {
   "cell_type": "code",
   "execution_count": 52,
   "id": "ef508215",
   "metadata": {},
   "outputs": [
    {
     "name": "stdout",
     "output_type": "stream",
     "text": [
      "[70, 30, 20, 90]\n"
     ]
    }
   ],
   "source": [
    "scores = [50, 70, 30, 20, 90, 10, 50]\n",
    "# Display list\n",
    "print(scores[1:5])\n",
    "# Prints [70, 30, 20, 90]"
   ]
  },
  {
   "cell_type": "code",
   "execution_count": 53,
   "id": "1b15c3de",
   "metadata": {},
   "outputs": [
    {
     "name": "stdout",
     "output_type": "stream",
     "text": [
      "[70, 30, 20, 90, 10, 50]\n"
     ]
    }
   ],
   "source": [
    "scores = [50, 70, 30, 20, 90, 10, 50]\n",
    "# Display list\n",
    "print(scores[1:])\n",
    "# Prints [70, 30, 20, 90, 10, 50]"
   ]
  },
  {
   "cell_type": "markdown",
   "id": "c5d7f38d",
   "metadata": {},
   "source": [
    "### LIST OPERATIONS - CONCATENATE"
   ]
  },
  {
   "cell_type": "markdown",
   "id": "f2653b05",
   "metadata": {},
   "source": [
    "Concatenating two lists (smushing them together) is really easy in Python, just use the + operator."
   ]
  },
  {
   "cell_type": "code",
   "execution_count": 54,
   "id": "baabf4c7",
   "metadata": {},
   "outputs": [
    {
     "name": "stdout",
     "output_type": "stream",
     "text": [
      "[1, 2, 3, 4, 5, 6]\n"
     ]
    }
   ],
   "source": [
    "all = [1, 2, 3] + [4, 5, 6]\n",
    "print(all)\n",
    "# Prints: [1, 2, 3, 4, 5, 6]"
   ]
  },
  {
   "cell_type": "markdown",
   "id": "d0cd40b3",
   "metadata": {},
   "source": [
    "### LIST OPERATIONS - CONTAINS `"
   ]
  },
  {
   "cell_type": "markdown",
   "id": "53a71260",
   "metadata": {},
   "source": [
    "Checking whether a value exists in a list is also really easy in Python, just use the in keyword."
   ]
  },
  {
   "cell_type": "code",
   "execution_count": 55,
   "id": "e446aac8",
   "metadata": {},
   "outputs": [
    {
     "name": "stdout",
     "output_type": "stream",
     "text": [
      "True\n"
     ]
    }
   ],
   "source": [
    "fruits = [\"apple\", \"orange\", \"banana\"]\n",
    "print(\"banana\" in fruits)\n",
    "# Prints: True"
   ]
  },
  {
   "cell_type": "markdown",
   "id": "8df0eb50",
   "metadata": {},
   "source": [
    "To use quotes within quotes, they either need to be escaped or you need to use the other kind of quotes. Because we usually use double quotes, we can nest strings with single quotes:"
   ]
  },
  {
   "cell_type": "code",
   "execution_count": 56,
   "id": "2e01e1f3",
   "metadata": {},
   "outputs": [
    {
     "data": {
      "text/plain": [
       "'banana is in fruits list: True'"
      ]
     },
     "execution_count": 56,
     "metadata": {},
     "output_type": "execute_result"
    }
   ],
   "source": [
    "f\"banana is in fruits list: {'banana' in fruits}\""
   ]
  },
  {
   "cell_type": "markdown",
   "id": "456a62ec",
   "metadata": {},
   "source": [
    "### LIST DELETION "
   ]
  },
  {
   "cell_type": "markdown",
   "id": "d42d76be",
   "metadata": {},
   "source": [
    "Python has a built-in keyword del that deletes items from objects. In the case of a list, you can delete specific indexes or entire slices."
   ]
  },
  {
   "cell_type": "code",
   "execution_count": 57,
   "id": "56684ece",
   "metadata": {},
   "outputs": [
    {
     "name": "stdout",
     "output_type": "stream",
     "text": [
      "[1, 2, 3, 5, 6, 7, 8, 9]\n",
      "[1, 4, 5, 6, 7, 8, 9]\n",
      "[]\n"
     ]
    }
   ],
   "source": [
    "nums = [1, 2, 3, 4, 5, 6, 7, 8, 9]\n",
    "\n",
    "# delete the fourth item\n",
    "del nums[3]\n",
    "print(nums)\n",
    "# Output: [1, 2, 3, 5, 6, 7, 8, 9]\n",
    "\n",
    "# delete items from 2nd to 3rd\n",
    "nums = [1, 2, 3, 4, 5, 6, 7, 8, 9]\n",
    "del nums[1:3]\n",
    "print(nums)\n",
    "# Output: [1, 4, 5, 6, 7, 8, 9]\n",
    "\n",
    "# delete all elements\n",
    "nums = [1, 2, 3, 4, 5, 6, 7, 8, 9]\n",
    "del nums[:]\n",
    "print(nums)\n",
    "# Output: []"
   ]
  },
  {
   "cell_type": "markdown",
   "id": "f80cce69",
   "metadata": {},
   "source": [
    "## TUPLES "
   ]
  },
  {
   "cell_type": "markdown",
   "id": "0415ce73",
   "metadata": {},
   "source": [
    "Tuples are collections of data that are ordered and unchangeable. You can think of a tuple as a List with a fixed size. Tuples are created with round brackets:"
   ]
  },
  {
   "cell_type": "code",
   "execution_count": 58,
   "id": "b60dc4c8",
   "metadata": {},
   "outputs": [
    {
     "name": "stdout",
     "output_type": "stream",
     "text": [
      "this is a tuple\n",
      "45\n",
      "True\n"
     ]
    }
   ],
   "source": [
    "my_tuple = (\"this is a tuple\", 45, True)\n",
    "print(my_tuple[0])\n",
    "# this is a tuple\n",
    "print(my_tuple[1])\n",
    "# 45\n",
    "print(my_tuple[2])\n",
    "# True"
   ]
  },
  {
   "cell_type": "markdown",
   "id": "225b8940",
   "metadata": {},
   "source": [
    "While it’s typically considered bad practice to store items of different types in a List it’s not a problem with Tuples. Because they have a fixed size, it’s easy to keep track of which indexes store which types of data."
   ]
  },
  {
   "cell_type": "markdown",
   "id": "ef3e094e",
   "metadata": {},
   "source": [
    "Tuples are often used to store very small groups (like 2 or 3 items) of data. For example, you might use a tuple to store a dog’s name and age."
   ]
  },
  {
   "cell_type": "code",
   "execution_count": 59,
   "id": "e6079c08",
   "metadata": {},
   "outputs": [],
   "source": [
    "dog = (\"Fido\", 4)"
   ]
  },
  {
   "cell_type": "markdown",
   "id": "434d6157",
   "metadata": {},
   "source": [
    "Because Tuples hold their data, multiple tuples can be stored within a list. Similar to storing other data in lists, each tuple within the list is separated by a comma."
   ]
  },
  {
   "cell_type": "code",
   "execution_count": 60,
   "id": "5e4ba687",
   "metadata": {},
   "outputs": [
    {
     "name": "stdout",
     "output_type": "stream",
     "text": [
      "this is the first tuple in the list\n"
     ]
    }
   ],
   "source": [
    "my_tuples = [(\"this is the first tuple in the list\", 45, True),(\"this is the second tuple in the list\", 21, False)]\n",
    "print(my_tuples[0][0])\n",
    "# this is the first tuple in the list"
   ]
  },
  {
   "cell_type": "markdown",
   "id": "0982053e",
   "metadata": {},
   "source": [
    "# Fuctions"
   ]
  },
  {
   "cell_type": "markdown",
   "id": "31e4bb1b",
   "metadata": {},
   "source": [
    "Functions allow us to reuse and organize code. For example, let’s pretend we need to calculate the area of a circle. We can use the formula area = pi * r^2, or in code:"
   ]
  },
  {
   "cell_type": "code",
   "execution_count": 61,
   "id": "8c3ca9cd",
   "metadata": {},
   "outputs": [],
   "source": [
    "r = 5\n",
    "area = 3.14 * r * r"
   ]
  },
  {
   "cell_type": "markdown",
   "id": "cafc8672",
   "metadata": {},
   "source": [
    "This works great! The problem arises when multiple places in our code need to get the area of a circle"
   ]
  },
  {
   "cell_type": "code",
   "execution_count": 62,
   "id": "b24fa66c",
   "metadata": {},
   "outputs": [],
   "source": [
    "r = 5\n",
    "area1 = 3.14 * r * r\n",
    "\n",
    "r2 = 7\n",
    "area2 = 3.14 * r2 * r2\n",
    "\n",
    "r3 = 11\n",
    "area3 = 3.14 * r3 * r3"
   ]
  },
  {
   "cell_type": "markdown",
   "id": "af80ef4b",
   "metadata": {},
   "source": [
    "We want to use the same code, why repeat the work?"
   ]
  },
  {
   "cell_type": "markdown",
   "id": "452bc23b",
   "metadata": {},
   "source": [
    "Let’s declare a new function area_of_circle(). Notice that the def keyword is written before the function name, and tells the computer that we’re declaring, or defining, a new function."
   ]
  },
  {
   "cell_type": "code",
   "execution_count": 63,
   "id": "f210fcee",
   "metadata": {},
   "outputs": [],
   "source": [
    "def area_of_circle(r):\n",
    "    return 3.14 * r * r"
   ]
  },
  {
   "cell_type": "markdown",
   "id": "4d6312b8",
   "metadata": {},
   "source": [
    "The area_of_circle function takes one input (which can also be called a parameter or argument), and returns a single output. We give our function the radius of a circle and we get back the area of that circle!"
   ]
  },
  {
   "cell_type": "code",
   "execution_count": 64,
   "id": "cd9f8548",
   "metadata": {},
   "outputs": [
    {
     "data": {
      "text/plain": [
       "<function __main__.area_of_circle(r)>"
      ]
     },
     "execution_count": 64,
     "metadata": {},
     "output_type": "execute_result"
    }
   ],
   "source": [
    "area_of_circle"
   ]
  },
  {
   "cell_type": "markdown",
   "id": "05c565f5",
   "metadata": {},
   "source": [
    "To use or “call” the function we can pass in any number as the input, and capture the output into a new variable:"
   ]
  },
  {
   "cell_type": "code",
   "execution_count": 65,
   "id": "a603e4ea",
   "metadata": {},
   "outputs": [
    {
     "data": {
      "text/plain": [
       "78.5"
      ]
     },
     "execution_count": 65,
     "metadata": {},
     "output_type": "execute_result"
    }
   ],
   "source": [
    "radius = 5\n",
    "area = area_of_circle(radius)\n",
    "area"
   ]
  },
  {
   "cell_type": "markdown",
   "id": "8c044011",
   "metadata": {},
   "source": [
    "### MULTIPLE PARAMETERS"
   ]
  },
  {
   "cell_type": "markdown",
   "id": "346aa7bf",
   "metadata": {},
   "source": [
    "Functions can have multiple parameters, or inputs:"
   ]
  },
  {
   "cell_type": "code",
   "execution_count": 66,
   "id": "61ec3aa6",
   "metadata": {},
   "outputs": [],
   "source": [
    "def subtract(a, b):\n",
    "    return a - b"
   ]
  },
  {
   "cell_type": "markdown",
   "id": "3080e3ca",
   "metadata": {},
   "source": [
    "### WHERE TO DECLARE FUNCTIONS "
   ]
  },
  {
   "cell_type": "markdown",
   "id": "eb168021",
   "metadata": {},
   "source": [
    "You’ve probably noticed that a variable needs to be declared before it’s used. For example, the following doesn’t work:"
   ]
  },
  {
   "cell_type": "code",
   "execution_count": 67,
   "id": "52e9efa8",
   "metadata": {},
   "outputs": [
    {
     "ename": "NameError",
     "evalue": "name 'my_name' is not defined",
     "output_type": "error",
     "traceback": [
      "\u001b[1;31m---------------------------------------------------------------------------\u001b[0m",
      "\u001b[1;31mNameError\u001b[0m                                 Traceback (most recent call last)",
      "\u001b[1;32m~\\AppData\\Local\\Temp\\ipykernel_7680\\2959496248.py\u001b[0m in \u001b[0;36m<module>\u001b[1;34m\u001b[0m\n\u001b[1;32m----> 1\u001b[1;33m \u001b[0mprint\u001b[0m\u001b[1;33m(\u001b[0m\u001b[0mmy_name\u001b[0m\u001b[1;33m)\u001b[0m\u001b[1;33m\u001b[0m\u001b[1;33m\u001b[0m\u001b[0m\n\u001b[0m\u001b[0;32m      2\u001b[0m \u001b[0mmy_name\u001b[0m \u001b[1;33m=\u001b[0m \u001b[1;34m'Lane Wagner'\u001b[0m\u001b[1;33m\u001b[0m\u001b[1;33m\u001b[0m\u001b[0m\n",
      "\u001b[1;31mNameError\u001b[0m: name 'my_name' is not defined"
     ]
    }
   ],
   "source": [
    "print(my_name)\n",
    "my_name = 'Lane Wagner'"
   ]
  },
  {
   "cell_type": "markdown",
   "id": "792196a1",
   "metadata": {},
   "source": [
    "It needs to be:"
   ]
  },
  {
   "cell_type": "code",
   "execution_count": 75,
   "id": "d4713d6d",
   "metadata": {},
   "outputs": [
    {
     "name": "stdout",
     "output_type": "stream",
     "text": [
      "Lane Wagner\n"
     ]
    }
   ],
   "source": [
    "my_name = 'Lane Wagner'\n",
    "print(my_name)"
   ]
  },
  {
   "cell_type": "markdown",
   "id": "dd72c8d4",
   "metadata": {},
   "source": [
    "Lines of code execute in order from top to bottom, so a variable needs to be created before it can be used. That means that if you define a function, you can’t call that function until after the definition."
   ]
  },
  {
   "cell_type": "markdown",
   "id": "8ed09a51",
   "metadata": {},
   "source": [
    "The main() function is a convention used in many programming languages to specify the entrypoint of an application. By defining a single main function, and only calling main() at the end of the entire program we ensure that all of our function are defined before they’re called."
   ]
  },
  {
   "cell_type": "markdown",
   "id": "c1dc65ba",
   "metadata": {},
   "source": [
    "### ORDER OF FUNCTIONS"
   ]
  },
  {
   "cell_type": "markdown",
   "id": "f72d7971",
   "metadata": {},
   "source": [
    "All functions must be defined before they’re used."
   ]
  },
  {
   "cell_type": "markdown",
   "id": "5c247bb3",
   "metadata": {},
   "source": [
    "You might think this would make structuring Python code difficult because the order in which the functions are declared can quickly become so dependent on each other that writing anything becomes impossible."
   ]
  },
  {
   "cell_type": "markdown",
   "id": "5ca738a3",
   "metadata": {},
   "source": [
    "As it turns out, most Python developers solve this problem by simply defining all the functions first, then finally calling the entrypoint function last. If you do that, then the order that the functions are declared in doesn’t matter. The entrypoint function is usually called “main”."
   ]
  },
  {
   "cell_type": "code",
   "execution_count": 76,
   "id": "db8e00bd",
   "metadata": {},
   "outputs": [
    {
     "name": "stdout",
     "output_type": "stream",
     "text": [
      "I'm function 3\n"
     ]
    }
   ],
   "source": [
    "def main():\n",
    "    func2()\n",
    "\n",
    "def func2():\n",
    "    func3()\n",
    "\n",
    "def func3():\n",
    "    print(\"I'm function 3\")\n",
    "\n",
    "main() # entrypoint"
   ]
  },
  {
   "cell_type": "markdown",
   "id": "bafbd7ec",
   "metadata": {},
   "source": [
    "### Scope\n",
    "Scope refers to where a variable or function name is available to be used. For example, when we create variables in a function (by giving names to our parameters for example), that data is not available outside of that function."
   ]
  },
  {
   "cell_type": "markdown",
   "id": "76d89159",
   "metadata": {},
   "source": [
    "For example:"
   ]
  },
  {
   "cell_type": "code",
   "execution_count": 77,
   "id": "e33d0c14",
   "metadata": {},
   "outputs": [
    {
     "ename": "SyntaxError",
     "evalue": "invalid syntax (3673916096.py, line 1)",
     "output_type": "error",
     "traceback": [
      "\u001b[1;36m  File \u001b[1;32m\"C:\\Users\\A0005Y744\\AppData\\Local\\Temp\\ipykernel_7680\\3673916096.py\"\u001b[1;36m, line \u001b[1;32m1\u001b[0m\n\u001b[1;33m    def subtract(x, y)\u001b[0m\n\u001b[1;37m                      ^\u001b[0m\n\u001b[1;31mSyntaxError\u001b[0m\u001b[1;31m:\u001b[0m invalid syntax\n"
     ]
    }
   ],
   "source": [
    "def subtract(x, y)\n",
    "    return x - y\n",
    "result = subtract(5, 3)\n",
    "print(x)\n",
    "# ERROR! \"name 'x' is not defined\""
   ]
  },
  {
   "cell_type": "markdown",
   "id": "38e21778",
   "metadata": {},
   "source": [
    "When the subtract function is called, we assign the variable x to 5, but x only exists in the code within the subtract function. If we try to print x outside of that function then we won’t get a result, in fact we’ll get a big fat error."
   ]
  },
  {
   "cell_type": "markdown",
   "id": "774d8653",
   "metadata": {},
   "source": [
    "### Global scope"
   ]
  },
  {
   "cell_type": "markdown",
   "id": "1192be81",
   "metadata": {},
   "source": [
    "So far we’ve been working in the global scope. That means that when we define a variable or a function, that name is accessible in every other place in our program, even within other functions."
   ]
  },
  {
   "cell_type": "markdown",
   "id": "2d658bd3",
   "metadata": {},
   "source": [
    "For example:"
   ]
  },
  {
   "cell_type": "code",
   "execution_count": 78,
   "id": "a8123ec3",
   "metadata": {},
   "outputs": [],
   "source": [
    "pi = 3.14\n",
    "\n",
    "def get_area_of_circle(radius):\n",
    "    return pi * radius * radius"
   ]
  },
  {
   "cell_type": "markdown",
   "id": "0b872215",
   "metadata": {},
   "source": [
    "Because pi was declared in the parent “global” scope, it is usable within the get_area_of_circle() function."
   ]
  },
  {
   "cell_type": "markdown",
   "id": "58126bec",
   "metadata": {},
   "source": [
    "### Infinity"
   ]
  },
  {
   "cell_type": "markdown",
   "id": "0fd69f15",
   "metadata": {},
   "source": [
    "The built-in float() function can be used to create a numeric floating point value that represents the negative infinity value. I’ve added it for you as a starting point."
   ]
  },
  {
   "cell_type": "code",
   "execution_count": 79,
   "id": "8fc11053",
   "metadata": {},
   "outputs": [],
   "source": [
    "negative_infinity = float('-inf')\n",
    "positive_infinity = float('inf')"
   ]
  },
  {
   "cell_type": "markdown",
   "id": "fc5b463d",
   "metadata": {},
   "source": [
    "### None return "
   ]
  },
  {
   "cell_type": "markdown",
   "id": "f8f3f0b0",
   "metadata": {},
   "source": [
    "When no return value is specified in a function, (for example, maybe it’s a function that prints some text to the console, but doesn’t explicitly return a value) it will return None. The following code snippets all return exactly the same thing:"
   ]
  },
  {
   "cell_type": "code",
   "execution_count": 80,
   "id": "db674ccd",
   "metadata": {},
   "outputs": [],
   "source": [
    "def my_func():\n",
    "    print(\"I do nothing\")\n",
    "    return None"
   ]
  },
  {
   "cell_type": "code",
   "execution_count": 81,
   "id": "3a692449",
   "metadata": {},
   "outputs": [],
   "source": [
    "def my_func():\n",
    "    print(\"I do nothing\")\n",
    "    return"
   ]
  },
  {
   "cell_type": "code",
   "execution_count": 82,
   "id": "04831ea5",
   "metadata": {},
   "outputs": [],
   "source": [
    "def my_func():\n",
    "    print(\"I do nothing\")"
   ]
  },
  {
   "cell_type": "markdown",
   "id": "42ba28d3",
   "metadata": {},
   "source": [
    "### PARAMETERS VS ARGUMENTS "
   ]
  },
  {
   "cell_type": "markdown",
   "id": "15308826",
   "metadata": {},
   "source": [
    "Parameters are the names used for inputs when defining a function. Arguments are the names of the inputs supplied when a function is called."
   ]
  },
  {
   "cell_type": "markdown",
   "id": "e371fd05",
   "metadata": {},
   "source": [
    "To reiterate, arguments are the actual values that go into the function, say 42.0, \"the dark knight\", or True. Parameters are the names we use in the function definition to refer to those values, which at the time of writing the function, could be anything."
   ]
  },
  {
   "cell_type": "markdown",
   "id": "c646000b",
   "metadata": {},
   "source": [
    "That said, it is important to understand that this is all semantics, and frankly developers are really lazy with these definitions. You’ll often hear the words arguments and parameters used interchangeably."
   ]
  },
  {
   "cell_type": "code",
   "execution_count": 87,
   "id": "b11b938f",
   "metadata": {},
   "outputs": [
    {
     "data": {
      "text/plain": [
       "11"
      ]
     },
     "execution_count": 87,
     "metadata": {},
     "output_type": "execute_result"
    }
   ],
   "source": [
    "# a and b are parameters\n",
    "def add1(a, b):\n",
    "    return a + b\n",
    "\n",
    "# 5 and 6 are arguments\n",
    "sum = add1(5,6)\n",
    "\n",
    "sum"
   ]
  },
  {
   "cell_type": "markdown",
   "id": "bce8a02e",
   "metadata": {},
   "source": [
    "### MULTIPLE RETURN VALUES "
   ]
  },
  {
   "cell_type": "markdown",
   "id": "ed8799bd",
   "metadata": {},
   "source": [
    "In Python, we can return more than one value from a function. All we need to do is separate each value by a comma."
   ]
  },
  {
   "cell_type": "code",
   "execution_count": 88,
   "id": "bff41eb0",
   "metadata": {},
   "outputs": [
    {
     "name": "stdout",
     "output_type": "stream",
     "text": [
      "name@domain.com 21 active\n"
     ]
    }
   ],
   "source": [
    "# returns email, age, and status of the user\n",
    "def get_user():\n",
    "    return \"name@domain.com\", 21, \"active\"\n",
    "\n",
    "email, age, status = get_user()\n",
    "print(email, age, status)\n",
    "# Prints: \"name@domain.com 21 active\""
   ]
  },
  {
   "cell_type": "code",
   "execution_count": 89,
   "id": "ce4d986f",
   "metadata": {},
   "outputs": [
    {
     "name": "stdout",
     "output_type": "stream",
     "text": [
      "name@domain.com\n",
      "active\n"
     ]
    }
   ],
   "source": [
    "def get_user():\n",
    "    return \"name@domain.com\", 21, \"active\"\n",
    "\n",
    "# this works, and by convention you should NOT use the underscore variable later\n",
    "email, _, _ = get_user()\n",
    "print(email)\n",
    "# Prints: \"name@domain.com\"\n",
    "print(_)\n",
    "# Prints: \"active\""
   ]
  },
  {
   "cell_type": "markdown",
   "id": "7a2067c7",
   "metadata": {},
   "source": [
    "### DEFAULT VALUES FOR FUNCTION ARGUMENTS "
   ]
  },
  {
   "cell_type": "markdown",
   "id": "b2984a3c",
   "metadata": {},
   "source": [
    "Python has a way to specify a default value for function arguments. This can be convenient if a function has arguments that are essentially “optional”, and you as the function creator want to use a specific default value in case the caller doesn’t provide one"
   ]
  },
  {
   "cell_type": "markdown",
   "id": "d9705b03",
   "metadata": {},
   "source": [
    "A default value is created by using the assignment (=) operator in the function signature."
   ]
  },
  {
   "cell_type": "code",
   "execution_count": 90,
   "id": "c9427907",
   "metadata": {},
   "outputs": [],
   "source": [
    "def get_greeting(email, name=\"there\"):\n",
    "    return f\"Hello {name}, welcome! You've registered your email: {email}\""
   ]
  },
  {
   "cell_type": "code",
   "execution_count": 91,
   "id": "3730ab4f",
   "metadata": {},
   "outputs": [],
   "source": [
    "msg = get_greeting(\"lane@example.com\", \"Lane\")\n",
    "# Hello Lane, welcome! You've registered your email: lane@example.com"
   ]
  },
  {
   "cell_type": "code",
   "execution_count": 92,
   "id": "d75ab8b4",
   "metadata": {},
   "outputs": [],
   "source": [
    "msg = get_greeting(\"lane@example.com\")\n",
    "# Hello there, welcome! You've registered your email: lane@example.com"
   ]
  },
  {
   "cell_type": "markdown",
   "id": "f1f512f7",
   "metadata": {},
   "source": [
    "If the second parameter is omitted, the default \"there\" value will be used in its place. As you may have guessed, for this structure to work, optional arguments that have defaults specified come after all the required arguments."
   ]
  },
  {
   "cell_type": "code",
   "execution_count": 93,
   "id": "28838090",
   "metadata": {},
   "outputs": [
    {
     "data": {
      "text/plain": [
       "'there'"
      ]
     },
     "execution_count": 93,
     "metadata": {},
     "output_type": "execute_result"
    }
   ],
   "source": [
    "\"there\""
   ]
  },
  {
   "cell_type": "markdown",
   "id": "db4238e3",
   "metadata": {},
   "source": [
    "#  DICTIONARIES "
   ]
  },
  {
   "cell_type": "markdown",
   "id": "f3c26e24",
   "metadata": {},
   "source": [
    "Dictionaries in Python are used to store data values in key -> value pairs. Dictionaries are a great way to store groups of information."
   ]
  },
  {
   "cell_type": "code",
   "execution_count": 94,
   "id": "6c2bcc4f",
   "metadata": {},
   "outputs": [],
   "source": [
    "car = {\n",
    "  \"brand\": \"Tesla\",\n",
    "  \"model\": \"3\",\n",
    "  \"year\": 2019\n",
    "}"
   ]
  },
  {
   "cell_type": "markdown",
   "id": "0bdf9aa2",
   "metadata": {},
   "source": [
    "### DUPLICATE KEYS "
   ]
  },
  {
   "cell_type": "markdown",
   "id": "0245d994",
   "metadata": {},
   "source": [
    "Because dictionaries rely on unique keys, you can’t have two of the same key in the same dictionary. If you try to use the same key twice, the associated value will simply be overwritten."
   ]
  },
  {
   "cell_type": "markdown",
   "id": "f64ac071",
   "metadata": {},
   "source": [
    "### ACCESSING DICTIONARY VALUES 🔗\n"
   ]
  },
  {
   "cell_type": "markdown",
   "id": "04a75101",
   "metadata": {},
   "source": [
    "Dictionary elements must be accessible somehow in code, otherwise they wouldn’t be very useful."
   ]
  },
  {
   "cell_type": "markdown",
   "id": "14c5bc08",
   "metadata": {},
   "source": [
    "A value is retrieved from a dictionary by specifying its corresponding key in square brackets. The syntax looks similar to indexing into a list."
   ]
  },
  {
   "cell_type": "code",
   "execution_count": 95,
   "id": "f9a37b1f",
   "metadata": {},
   "outputs": [
    {
     "name": "stdout",
     "output_type": "stream",
     "text": [
      "tesla\n"
     ]
    }
   ],
   "source": [
    "car = {\n",
    "    'make': 'tesla',\n",
    "    'model': '3'\n",
    "}\n",
    "print(car['make'])\n",
    "# Prints: tesla"
   ]
  },
  {
   "cell_type": "markdown",
   "id": "06109320",
   "metadata": {},
   "source": [
    "### SETTING DICTIONARY VALUES "
   ]
  },
  {
   "cell_type": "markdown",
   "id": "6d0cc128",
   "metadata": {},
   "source": [
    "You don’t need to create a dictionary with values already inside. It is common to create a blank dictionary then populate it later using dynamic values. The syntax is the same as getting data out of a key, just use the assignment operator (=) to give that key a value."
   ]
  },
  {
   "cell_type": "code",
   "execution_count": 96,
   "id": "bde39bc1",
   "metadata": {},
   "outputs": [
    {
     "name": "stdout",
     "output_type": "stream",
     "text": [
      "{'jack': 'bronson', 'jill': 'mcarty', 'john': 'denver'}\n"
     ]
    }
   ],
   "source": [
    "names = [\"jack bronson\", \"jill mcarty\", \"john denver\"]\n",
    "\n",
    "names_dict = {}\n",
    "for name in names:\n",
    "    # .split() returns a list of strings\n",
    "    # where each string is a single word from the original\n",
    "    names_arr = name.split()\n",
    "\n",
    "    # here we update the dictionary\n",
    "    names_dict[names_arr[0]] = names_arr[1]\n",
    "\n",
    "print(names_dict)\n",
    "# Prints: {'jack': 'bronson', 'jill': 'mcarty', 'john': 'denver'}"
   ]
  },
  {
   "cell_type": "markdown",
   "id": "45be9bf2",
   "metadata": {},
   "source": [
    "### UPDATING DICTIONARY VALUES 🔗<br/>\n",
    "If you try to set the value of a key that already exists, you’ll end up just updating the value of that key."
   ]
  },
  {
   "cell_type": "code",
   "execution_count": 97,
   "id": "88853e56",
   "metadata": {},
   "outputs": [
    {
     "name": "stdout",
     "output_type": "stream",
     "text": [
      "{'jack': 'denver'}\n"
     ]
    }
   ],
   "source": [
    "names = [\"jack bronson\", \"james mcarty\", \"john denver\"]\n",
    "\n",
    "names_dict = {}\n",
    "for name in names:\n",
    "    # .split() returns a list of strings\n",
    "    # where each string is a single word from the original\n",
    "    names_arr = name.split()\n",
    "\n",
    "    # we're always setting the \"jack\" key\n",
    "    names_dict[\"jack\"] = names_arr[1]\n",
    "\n",
    "print(names_dict)\n",
    "# Prints: {'jack': 'denver'}"
   ]
  },
  {
   "cell_type": "markdown",
   "id": "83a57327",
   "metadata": {},
   "source": [
    "### DELETING DICTIONARY VALUES 🔗"
   ]
  },
  {
   "cell_type": "markdown",
   "id": "6c5c21a6",
   "metadata": {},
   "source": [
    "You can delete existing keys using the del keyword."
   ]
  },
  {
   "cell_type": "code",
   "execution_count": 98,
   "id": "33516617",
   "metadata": {},
   "outputs": [
    {
     "name": "stdout",
     "output_type": "stream",
     "text": [
      "{'jack': 'bronson', 'jill': 'mcarty'}\n"
     ]
    }
   ],
   "source": [
    "names_dict = {\n",
    "    'jack': 'bronson',\n",
    "    'jill': 'mcarty',\n",
    "    'joe': 'denver'\n",
    "}\n",
    "\n",
    "del names_dict['joe']\n",
    "\n",
    "print(names_dict)\n",
    "# Prints: {'jack': 'bronson', 'jill': 'mcarty'}"
   ]
  },
  {
   "cell_type": "markdown",
   "id": "3594133c",
   "metadata": {},
   "source": [
    "### DELETING KEYS THAT DON’T EXIST "
   ]
  },
  {
   "cell_type": "markdown",
   "id": "94690f30",
   "metadata": {},
   "source": [
    "Notice that if you try to delete a key that doesn’t exist, you’ll get an error."
   ]
  },
  {
   "cell_type": "code",
   "execution_count": 99,
   "id": "a1ed7cf2",
   "metadata": {},
   "outputs": [
    {
     "ename": "KeyError",
     "evalue": "'unknown'",
     "output_type": "error",
     "traceback": [
      "\u001b[1;31m---------------------------------------------------------------------------\u001b[0m",
      "\u001b[1;31mKeyError\u001b[0m                                  Traceback (most recent call last)",
      "\u001b[1;32m~\\AppData\\Local\\Temp\\ipykernel_7680\\3580064153.py\u001b[0m in \u001b[0;36m<module>\u001b[1;34m\u001b[0m\n\u001b[0;32m      5\u001b[0m }\n\u001b[0;32m      6\u001b[0m \u001b[1;33m\u001b[0m\u001b[0m\n\u001b[1;32m----> 7\u001b[1;33m \u001b[1;32mdel\u001b[0m \u001b[0mnames_dict\u001b[0m\u001b[1;33m[\u001b[0m\u001b[1;34m'unknown'\u001b[0m\u001b[1;33m]\u001b[0m\u001b[1;33m\u001b[0m\u001b[1;33m\u001b[0m\u001b[0m\n\u001b[0m\u001b[0;32m      8\u001b[0m \u001b[1;31m# ERROR HERE, key doesn't exist\u001b[0m\u001b[1;33m\u001b[0m\u001b[1;33m\u001b[0m\u001b[0m\n",
      "\u001b[1;31mKeyError\u001b[0m: 'unknown'"
     ]
    }
   ],
   "source": [
    "names_dict = {\n",
    "    'jack': 'bronson',\n",
    "    'jill': 'mcarty',\n",
    "    'joe': 'denver'\n",
    "}\n",
    "\n",
    "del names_dict['unknown']\n",
    "# ERROR HERE, key doesn't exist"
   ]
  },
  {
   "cell_type": "markdown",
   "id": "f0e8f664",
   "metadata": {},
   "source": [
    "### CHECKING FOR EXISTENCE "
   ]
  },
  {
   "cell_type": "markdown",
   "id": "9be23955",
   "metadata": {},
   "source": [
    "If you’re unsure whether or not a key exists in a dictionary, use the in keyword."
   ]
  },
  {
   "cell_type": "code",
   "execution_count": 100,
   "id": "fa170e38",
   "metadata": {},
   "outputs": [
    {
     "name": "stdout",
     "output_type": "stream",
     "text": [
      "True\n",
      "False\n"
     ]
    }
   ],
   "source": [
    "cars = {\n",
    "    'ford': 'f150',\n",
    "    'tesla': '3'\n",
    "}\n",
    "\n",
    "print('ford' in cars)\n",
    "# Prints: True\n",
    "\n",
    "print('gmc' in cars)\n",
    "# Prints: False"
   ]
  },
  {
   "cell_type": "markdown",
   "id": "2339995c",
   "metadata": {},
   "source": [
    "### ITERATING OVER A DICTIONARY IN PYTHON "
   ]
  },
  {
   "cell_type": "code",
   "execution_count": 101,
   "id": "7d425920",
   "metadata": {},
   "outputs": [
    {
     "name": "stdout",
     "output_type": "stream",
     "text": [
      "name: apple, size: small\n",
      "name: banana, size: large\n",
      "name: grape, size: tiny\n"
     ]
    }
   ],
   "source": [
    "fruit_sizes = {\n",
    "    \"apple\": \"small\",\n",
    "    \"banana\": \"large\",\n",
    "    \"grape\": \"tiny\"\n",
    "}\n",
    "\n",
    "for name in fruit_sizes:\n",
    "    size = fruit_sizes[name]\n",
    "    print(f\"name: {name}, size: {size}\")\n",
    "\n",
    "# name: apple, size: small\n",
    "# name: banana, size: large\n",
    "# name: grape, size: tiny"
   ]
  },
  {
   "cell_type": "markdown",
   "id": "4e491f16",
   "metadata": {},
   "source": [
    "### ORDERED OR UNORDERED?\n",
    "As of Python version 3.7, dictionaries are ordered. In Python 3.6 and earlier, dictionaries were unordered."
   ]
  },
  {
   "cell_type": "markdown",
   "id": "cf9a06c4",
   "metadata": {},
   "source": [
    "Because dictionaries are ordered, the items have a defined order, and that order will not change."
   ]
  },
  {
   "cell_type": "markdown",
   "id": "27da48e0",
   "metadata": {},
   "source": [
    "Unordered means that the items used to not have a defined order, so you couldn’t refer to an item by using an index."
   ]
  },
  {
   "cell_type": "markdown",
   "id": "b10913e3",
   "metadata": {},
   "source": [
    "**The takeaway is that if you’re on Python 3.7 or later, you’ll be able to iterate over dictionaries in the same order every time."
   ]
  },
  {
   "cell_type": "markdown",
   "id": "607bce6c",
   "metadata": {},
   "source": [
    "# Sets"
   ]
  },
  {
   "cell_type": "markdown",
   "id": "5b22d26e",
   "metadata": {},
   "source": [
    "Sets are like Lists, but they are unordered and they guarantee uniqueness. There can be no two of the same value in a set."
   ]
  },
  {
   "cell_type": "code",
   "execution_count": 102,
   "id": "b5ffb950",
   "metadata": {},
   "outputs": [
    {
     "name": "stdout",
     "output_type": "stream",
     "text": [
      "<class 'set'>\n",
      "{'banana', 'grape', 'apple'}\n"
     ]
    }
   ],
   "source": [
    "fruits = {'apple', 'banana', 'grape'}\n",
    "print(type(fruits))\n",
    "# Prints: <class 'set'>\n",
    "\n",
    "print(fruits)\n",
    "# Prints: {'banana', 'grape', 'apple'}"
   ]
  },
  {
   "cell_type": "markdown",
   "id": "773626b2",
   "metadata": {},
   "source": [
    "### ADDING VALUES TO A SET"
   ]
  },
  {
   "cell_type": "code",
   "execution_count": 103,
   "id": "bdf0cb35",
   "metadata": {},
   "outputs": [
    {
     "name": "stdout",
     "output_type": "stream",
     "text": [
      "{'banana', 'grape', 'apple', 'pear'}\n"
     ]
    }
   ],
   "source": [
    "fruits = {'apple', 'banana', 'grape'}\n",
    "fruits.add('pear')\n",
    "print(fruits)\n",
    "# Prints: {'banana', 'grape', 'pear', 'apple'}"
   ]
  },
  {
   "cell_type": "markdown",
   "id": "ebccaaf5",
   "metadata": {},
   "source": [
    "Because the {} syntax creates an empty dictionary, to create an empty set, just use the set() function."
   ]
  },
  {
   "cell_type": "markdown",
   "id": "d0d298ed",
   "metadata": {},
   "source": [
    "##### EMPTY SET "
   ]
  },
  {
   "cell_type": "code",
   "execution_count": 104,
   "id": "d2dd97ab",
   "metadata": {},
   "outputs": [
    {
     "name": "stdout",
     "output_type": "stream",
     "text": [
      "{'pear'}\n"
     ]
    }
   ],
   "source": [
    "fruits = set()\n",
    "fruits.add('pear')\n",
    "print(fruits)\n",
    "# Prints: {'pear'}"
   ]
  },
  {
   "cell_type": "markdown",
   "id": "2c6e2562",
   "metadata": {},
   "source": [
    " ITERATE OVER VALUES IN A SET (ORDER IS NOT GUARANTEED)"
   ]
  },
  {
   "cell_type": "code",
   "execution_count": 105,
   "id": "0a0d5dd1",
   "metadata": {},
   "outputs": [
    {
     "name": "stdout",
     "output_type": "stream",
     "text": [
      "banana\n",
      "grape\n",
      "apple\n"
     ]
    }
   ],
   "source": [
    "fruits = {'apple', 'banana', 'grape'}\n",
    "for fruit in fruits:\n",
    "    print(fruit)\n",
    "    # Prints:\n",
    "    # banana\n",
    "    # grape\n",
    "    # apple"
   ]
  },
  {
   "cell_type": "markdown",
   "id": "2e27ce4f",
   "metadata": {},
   "source": [
    " REMOVING VALUES FROM A SET"
   ]
  },
  {
   "cell_type": "code",
   "execution_count": 106,
   "id": "c95dd983",
   "metadata": {},
   "outputs": [
    {
     "name": "stdout",
     "output_type": "stream",
     "text": [
      "{'banana', 'grape'}\n"
     ]
    }
   ],
   "source": [
    "fruits = {'apple', 'banana', 'grape'}\n",
    "fruits.remove('apple')\n",
    "print(fruits)\n",
    "# Prints: {'banana', 'grape'}"
   ]
  },
  {
   "cell_type": "markdown",
   "id": "c8ae8a9e",
   "metadata": {},
   "source": [
    "# Errors"
   ]
  },
  {
   "cell_type": "markdown",
   "id": "15b02a08",
   "metadata": {},
   "source": [
    "You’ve probably encountered some errors in your code from time to time if you’ve gotten this far in the course. In Python, there are two main kinds of distinguishable errors."
   ]
  },
  {
   "cell_type": "markdown",
   "id": "bb7e6514",
   "metadata": {},
   "source": [
    "syntax errors<br/>\n",
    "exceptions\n",
    "### SYNTAX ERRORS"
   ]
  },
  {
   "cell_type": "markdown",
   "id": "b8997c8e",
   "metadata": {},
   "source": [
    "You probably know what these are by now. A syntax error is just the Python interpreter telling you that your code isn’t adhering to proper Python syntax."
   ]
  },
  {
   "cell_type": "code",
   "execution_count": 107,
   "id": "415a8b79",
   "metadata": {},
   "outputs": [
    {
     "ename": "SyntaxError",
     "evalue": "invalid syntax (778047804.py, line 1)",
     "output_type": "error",
     "traceback": [
      "\u001b[1;36m  File \u001b[1;32m\"C:\\Users\\A0005Y744\\AppData\\Local\\Temp\\ipykernel_7680\\778047804.py\"\u001b[1;36m, line \u001b[1;32m1\u001b[0m\n\u001b[1;33m    this is not valid code, so it will error\u001b[0m\n\u001b[1;37m                      ^\u001b[0m\n\u001b[1;31mSyntaxError\u001b[0m\u001b[1;31m:\u001b[0m invalid syntax\n"
     ]
    }
   ],
   "source": [
    "this is not valid code, so it will error"
   ]
  },
  {
   "cell_type": "markdown",
   "id": "108215d2",
   "metadata": {},
   "source": [
    "If I try to run that sentence as if it were valid code I’ll get a syntax error:"
   ]
  },
  {
   "cell_type": "code",
   "execution_count": 108,
   "id": "1dcf4c1a",
   "metadata": {},
   "outputs": [
    {
     "ename": "SyntaxError",
     "evalue": "invalid syntax (1140490932.py, line 1)",
     "output_type": "error",
     "traceback": [
      "\u001b[1;36m  File \u001b[1;32m\"C:\\Users\\A0005Y744\\AppData\\Local\\Temp\\ipykernel_7680\\1140490932.py\"\u001b[1;36m, line \u001b[1;32m1\u001b[0m\n\u001b[1;33m    this is not valid code, so it will error\u001b[0m\n\u001b[1;37m                      ^\u001b[0m\n\u001b[1;31mSyntaxError\u001b[0m\u001b[1;31m:\u001b[0m invalid syntax\n"
     ]
    }
   ],
   "source": [
    "this is not valid code, so it will error\n",
    "      ^\n",
    "SyntaxError: invalid syntax"
   ]
  },
  {
   "cell_type": "markdown",
   "id": "09c062d8",
   "metadata": {},
   "source": [
    "### Execptions"
   ]
  },
  {
   "cell_type": "markdown",
   "id": "82eb9638",
   "metadata": {},
   "source": [
    "Even if your code has the right syntax however, it may still cause an error when an attempt is made to execute it. Errors detected during execution are called “exceptions” and can be handled gracefully by your code. You can even raise your own exceptions when bad things happen in your code."
   ]
  },
  {
   "cell_type": "markdown",
   "id": "463eb260",
   "metadata": {},
   "source": [
    "Python uses a try-except pattern for handling errors."
   ]
  },
  {
   "cell_type": "code",
   "execution_count": 109,
   "id": "18b41d0f",
   "metadata": {},
   "outputs": [
    {
     "name": "stdout",
     "output_type": "stream",
     "text": [
      "division by zero\n"
     ]
    }
   ],
   "source": [
    "try:\n",
    "  10 / 0\n",
    "except Exception as e:\n",
    "  print(e)\n",
    "\n",
    "# prints \"division by zero\""
   ]
  },
  {
   "cell_type": "markdown",
   "id": "e37aabf1",
   "metadata": {},
   "source": [
    "The try block is executed until an exception is raised or it completes, whichever happens first. In this case, a “divide by zero” error is raised because division by zero is impossible. The except block is only executed if an exception is raised in the try block. It then exposes the exception as data (e in our case) so that the program can handle the exception gracefully without crashing."
   ]
  },
  {
   "cell_type": "markdown",
   "id": "2fba0dd4",
   "metadata": {},
   "source": [
    "## RAISING YOUR OWN EXCEPTIONS"
   ]
  },
  {
   "cell_type": "markdown",
   "id": "98d94f9a",
   "metadata": {},
   "source": [
    "Errors are not something to be scared of. Every program that runs in production is expected to manage errors on a constant basis. Our job as developers is to handle the errors gracefully and in a way that aligns with our user’s expectations."
   ]
  },
  {
   "cell_type": "markdown",
   "id": "8a361d30",
   "metadata": {},
   "source": [
    "When something in our own code happens that we don’t expect, we should raise our own exceptions. For example, if someone passes some bad inputs to a function we write, we should not be afraid to raise an exception to let them know they did something wrong."
   ]
  },
  {
   "cell_type": "markdown",
   "id": "bc5a27cc",
   "metadata": {},
   "source": [
    "An error or exception is raised when something bad happens, but as long as our code handles it as users expect it to, it’s not a bug. A bug is when code behaves in ways our users don’t expect it to."
   ]
  },
  {
   "cell_type": "markdown",
   "id": "77fcdc26",
   "metadata": {},
   "source": [
    "For example, if a player tries to forge an iron sword out of bronze metal, we might raise an exception and display an error message to the player. However, that’s the expected behavior of the game, so it’s not a bug. If a player can forge the iron sword out of bronze, that may be considered a bug because that’s against the rules of the game."
   ]
  },
  {
   "cell_type": "code",
   "execution_count": null,
   "id": "aa569b6d",
   "metadata": {},
   "outputs": [],
   "source": [
    "raise Exception(\"something bad happened\")"
   ]
  },
  {
   "cell_type": "markdown",
   "id": "39b1ca87",
   "metadata": {},
   "source": [
    "Software applications aren’t perfect, and user input and network connectivity are far from predictable. Despite intensive debugging and unit testing, applications will still have failure cases."
   ]
  },
  {
   "cell_type": "markdown",
   "id": "f0838bce",
   "metadata": {},
   "source": [
    "Loss of network connectivity, missing database rows, out of memory issues, and unexpected user inputs can all prevent an application from performing “normally”. It is your job to catch and handle any and all exceptions gracefully so that your app keeps working. When you are able to detect that something is amiss, you should be raising the errors yourself, in addition to the “default” exceptions that the Python interpreter will raise."
   ]
  },
  {
   "cell_type": "code",
   "execution_count": null,
   "id": "627f1d1c",
   "metadata": {},
   "outputs": [],
   "source": [
    "raise Exception(\"something bad happened\")"
   ]
  },
  {
   "cell_type": "markdown",
   "id": "38c19c74",
   "metadata": {},
   "source": [
    "#Different types of exceptions"
   ]
  },
  {
   "cell_type": "markdown",
   "id": "f085b4b5",
   "metadata": {},
   "source": [
    "We haven’t covered classes and objects yet, which is what an Exception really is at its core. We’ll go more into that in the object-oriented programming course that we have lined up for you next."
   ]
  },
  {
   "cell_type": "code",
   "execution_count": 72,
   "id": "bb405449",
   "metadata": {},
   "outputs": [
    {
     "data": {
      "text/plain": [
       "Exception"
      ]
     },
     "execution_count": 72,
     "metadata": {},
     "output_type": "execute_result"
    }
   ],
   "source": [
    "Exception"
   ]
  },
  {
   "cell_type": "markdown",
   "id": "00fa9edf",
   "metadata": {},
   "source": [
    "For now, what is important to understand is that there are different types of exceptions and that we can differentiate between them in our code."
   ]
  },
  {
   "cell_type": "code",
   "execution_count": 73,
   "id": "e8180329",
   "metadata": {},
   "outputs": [
    {
     "name": "stdout",
     "output_type": "stream",
     "text": [
      "0 division\n",
      "unknown exception\n"
     ]
    }
   ],
   "source": [
    "try:\n",
    "    10/0\n",
    "except ZeroDivisionError:\n",
    "    print(\"0 division\")\n",
    "except Exception:\n",
    "    print(\"unknown exception\")\n",
    "\n",
    "try:\n",
    "    nums = [0, 1]\n",
    "    print(nums[2])\n",
    "except ZeroDivisionError:\n",
    "    print(\"0 division\")\n",
    "except Exception:\n",
    "    print(\"unknown exception\")"
   ]
  },
  {
   "cell_type": "code",
   "execution_count": 74,
   "id": "db42736d",
   "metadata": {},
   "outputs": [
    {
     "name": "stdout",
     "output_type": "stream",
     "text": [
      "hello world\n"
     ]
    }
   ],
   "source": [
    "print(\"hello world\")"
   ]
  }
 ],
 "metadata": {
  "kernelspec": {
   "display_name": "Python 3 (ipykernel)",
   "language": "python",
   "name": "python3"
  },
  "language_info": {
   "codemirror_mode": {
    "name": "ipython",
    "version": 3
   },
   "file_extension": ".py",
   "mimetype": "text/x-python",
   "name": "python",
   "nbconvert_exporter": "python",
   "pygments_lexer": "ipython3",
   "version": "3.9.13"
  }
 },
 "nbformat": 4,
 "nbformat_minor": 5
}
